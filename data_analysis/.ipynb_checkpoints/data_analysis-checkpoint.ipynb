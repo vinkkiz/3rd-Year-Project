{
 "cells": [
  {
   "cell_type": "code",
   "execution_count": 1,
   "id": "8871ff7c",
   "metadata": {},
   "outputs": [],
   "source": [
    "import pandas as pd\n",
    "import numpy as np\n",
    "import math\n",
    "from numpy import nan\n",
    "import matplotlib.pyplot as plt"
   ]
  },
  {
   "cell_type": "code",
   "execution_count": 2,
   "id": "ec8487dd",
   "metadata": {},
   "outputs": [],
   "source": [
    "def get_participant_labels(df):\n",
    "    participant = df['participant'].unique()\n",
    "    participant_labels = np.ndarray.tolist(participant)\n",
    "    participant_labels.remove(\"test\")\n",
    "    \n",
    "    return participant_labels"
   ]
  },
  {
   "cell_type": "code",
   "execution_count": 3,
   "id": "3a8c8240",
   "metadata": {},
   "outputs": [],
   "source": [
    "def extact_ratings_and_rt(df, participant_label):\n",
    "    df_N = df.loc[df['participant'] == participant_label]\n",
    "    df_N_ratings = df_N[['file_name', 'slider.response', 'slider.rt', 'spacebar_continue.rt']]\n",
    "    df_N_ratings = df_N_ratings.dropna()\n",
    "    \n",
    "    df_N_ratings['rating_rt'] = df_N_ratings['slider.rt'] + df_N_ratings['spacebar_continue.rt']\n",
    "    df_N_ratings = df_N_ratings.drop(['slider.rt', 'spacebar_continue.rt'], axis=1)\n",
    "    \n",
    "    return df_N_ratings"
   ]
  },
  {
   "cell_type": "code",
   "execution_count": 4,
   "id": "b3dec050",
   "metadata": {},
   "outputs": [],
   "source": [
    "def split_red_and_green(df_N_ratings):\n",
    "    df_N_red = df_N_ratings[df_N_ratings['file_name'].str.match(r'([1-9]|1[0])[ci][sn]$')== True]\n",
    "    df_N_green = df_N_ratings[df_N_ratings['file_name'].str.match(r'(([1][1-9])|[2][0])[ci][sn]$')== True]\n",
    "    \n",
    "    return df_N_red, df_N_green"
   ]
  },
  {
   "cell_type": "code",
   "execution_count": 5,
   "id": "a5bf06a8",
   "metadata": {},
   "outputs": [],
   "source": [
    "def get_red_average(df_N_red):\n",
    "    \n",
    "    df_N_red_cs = df_N_red[df_N_red['file_name'].str.match(r'\\d+[c][s]$')== True]\n",
    "    df_N_red_cn = df_N_red[df_N_red['file_name'].str.match(r'\\d+[c][n]$')== True]\n",
    "    df_N_red_is = df_N_red[df_N_red['file_name'].str.match(r'\\d+[i][s]$')== True]\n",
    "    df_N_red_in = df_N_red[df_N_red['file_name'].str.match(r'\\d+[i][n]$')== True]\n",
    "    \n",
    "    df_N_red_cs_mean = df_N_red_cs[['slider.response', 'rating_rt']].mean()\n",
    "    df_N_red_cn_mean = df_N_red_cn[['slider.response', 'rating_rt']].mean()\n",
    "    df_N_red_is_mean = df_N_red_is[['slider.response', 'rating_rt']].mean()\n",
    "    df_N_red_in_mean = df_N_red_in[['slider.response', 'rating_rt']].mean()\n",
    "    \n",
    "    cs_mean = df_N_red_cs_mean.tolist()\n",
    "    cn_mean = df_N_red_cn_mean.tolist()\n",
    "    is_mean = df_N_red_is_mean.tolist()\n",
    "    in_mean = df_N_red_in_mean.tolist()\n",
    "    \n",
    "\n",
    "    global df_rating_red_mean\n",
    "    global df_rt_red_mean\n",
    "\n",
    "    df1 = pd.DataFrame([[cs_mean[0],  cn_mean[0],  is_mean[0],  in_mean[0]]], columns=['cs', 'cn', 'is', 'in'])\n",
    "    df2 = pd.DataFrame([[cs_mean[1],  cn_mean[1],  is_mean[1],  in_mean[1]]], columns=['cs', 'cn', 'is', 'in'])\n",
    "    \n",
    "    df_rating_red_mean = pd.concat([df_rating_red_mean, df1], ignore_index = True)\n",
    "    df_rt_red_mean = pd.concat([df_rt_red_mean, df2], ignore_index = True)\n",
    "    "
   ]
  },
  {
   "cell_type": "code",
   "execution_count": 6,
   "id": "975614dc",
   "metadata": {},
   "outputs": [],
   "source": [
    "def get_green_average(df_N_green):\n",
    "    \n",
    "    df_N_green_cs = df_N_green[df_N_green['file_name'].str.match(r'\\d+[c][s]$')== True]\n",
    "    df_N_green_cn = df_N_green[df_N_green['file_name'].str.match(r'\\d+[c][n]$')== True]\n",
    "    df_N_green_is = df_N_green[df_N_green['file_name'].str.match(r'\\d+[i][s]$')== True]\n",
    "    df_N_green_in = df_N_green[df_N_green['file_name'].str.match(r'\\d+[i][n]$')== True]\n",
    "    \n",
    "    df_N_green_cs_mean = df_N_green_cs[['slider.response', 'rating_rt']].mean()\n",
    "    df_N_green_cn_mean = df_N_green_cn[['slider.response', 'rating_rt']].mean()\n",
    "    df_N_green_is_mean = df_N_green_is[['slider.response', 'rating_rt']].mean()\n",
    "    df_N_green_in_mean = df_N_green_in[['slider.response', 'rating_rt']].mean()\n",
    "    \n",
    "    cs_mean = df_N_green_cs_mean.tolist()\n",
    "    cn_mean = df_N_green_cn_mean.tolist()\n",
    "    is_mean = df_N_green_is_mean.tolist()\n",
    "    in_mean = df_N_green_in_mean.tolist()\n",
    "\n",
    "    global df_rating_green_mean\n",
    "    global df_rt_green_mean\n",
    "    \n",
    "    df1 = pd.DataFrame([[cs_mean[0],  cn_mean[0],  is_mean[0],  in_mean[0]]], columns=['cs', 'cn', 'is', 'in'])\n",
    "    df2 = pd.DataFrame([[cs_mean[1],  cn_mean[1],  is_mean[1],  in_mean[1]]], columns=['cs', 'cn', 'is', 'in'])\n",
    "    \n",
    "    df_rating_green_mean = pd.concat([df_rating_green_mean, df1], ignore_index = True)\n",
    "    df_rt_green_mean = pd.concat([df_rt_green_mean, df2], ignore_index = True)\n",
    "    "
   ]
  },
  {
   "cell_type": "code",
   "execution_count": null,
   "id": "8400d099",
   "metadata": {},
   "outputs": [],
   "source": []
  },
  {
   "cell_type": "code",
   "execution_count": 7,
   "id": "7c6d71ce",
   "metadata": {},
   "outputs": [],
   "source": [
    "# get all data\n",
    "anova_data = pd.read_csv(\"Database_AllParticipants.csv\")\n",
    "df = anova_data[['participant', 'file_name', 'slider.response', 'slider.rt', 'spacebar_continue.rt', 'scale_slider.response']]\n",
    "\n",
    "participant_labels = get_participant_labels(df) #get all participant labels\n",
    "\n",
    "#crete empty dataframes\n",
    "df_rating_red_mean = pd.DataFrame(columns = [\"cs\", \"cn\", \"is\", \"in\"])\n",
    "df_rt_red_mean = pd.DataFrame(columns = [\"cs\", \"cn\", \"is\", \"in\"])\n",
    "df_rating_green_mean = pd.DataFrame(columns = [\"cs\", \"cn\", \"is\", \"in\"])\n",
    "df_rt_green_mean = pd.DataFrame(columns = [\"cs\", \"cn\", \"is\", \"in\"])\n",
    "\n",
    "#split dataframe into half (red & green)\n",
    "for participant_label in participant_labels:\n",
    "    df_N_ratings = extact_ratings_and_rt(df, participant_label)\n",
    "    df_N_red, df_N_green = split_red_and_green(df_N_ratings)\n",
    "    get_red_average(df_N_red)\n",
    "    get_green_average(df_N_green)"
   ]
  },
  {
   "cell_type": "code",
   "execution_count": 8,
   "id": "a5a6c104",
   "metadata": {},
   "outputs": [],
   "source": [
    "#rescale the ratings from 1-2 to 0-1\n",
    "df_rating_red_mean -=1\n",
    "df_rating_green_mean -=1"
   ]
  },
  {
   "cell_type": "code",
   "execution_count": 9,
   "id": "a2c3001c",
   "metadata": {},
   "outputs": [
    {
     "data": {
      "text/html": [
       "<div>\n",
       "<style scoped>\n",
       "    .dataframe tbody tr th:only-of-type {\n",
       "        vertical-align: middle;\n",
       "    }\n",
       "\n",
       "    .dataframe tbody tr th {\n",
       "        vertical-align: top;\n",
       "    }\n",
       "\n",
       "    .dataframe thead th {\n",
       "        text-align: right;\n",
       "    }\n",
       "</style>\n",
       "<table border=\"1\" class=\"dataframe\">\n",
       "  <thead>\n",
       "    <tr style=\"text-align: right;\">\n",
       "      <th></th>\n",
       "      <th>cs</th>\n",
       "      <th>cn</th>\n",
       "      <th>is</th>\n",
       "      <th>in</th>\n",
       "    </tr>\n",
       "  </thead>\n",
       "  <tbody>\n",
       "    <tr>\n",
       "      <th>0</th>\n",
       "      <td>0.845826</td>\n",
       "      <td>0.788843</td>\n",
       "      <td>0.548142</td>\n",
       "      <td>0.165551</td>\n",
       "    </tr>\n",
       "    <tr>\n",
       "      <th>1</th>\n",
       "      <td>0.749013</td>\n",
       "      <td>0.689145</td>\n",
       "      <td>0.271053</td>\n",
       "      <td>0.242544</td>\n",
       "    </tr>\n",
       "    <tr>\n",
       "      <th>2</th>\n",
       "      <td>0.626957</td>\n",
       "      <td>0.544565</td>\n",
       "      <td>0.799348</td>\n",
       "      <td>0.345000</td>\n",
       "    </tr>\n",
       "    <tr>\n",
       "      <th>3</th>\n",
       "      <td>0.849073</td>\n",
       "      <td>0.760368</td>\n",
       "      <td>0.848823</td>\n",
       "      <td>0.706770</td>\n",
       "    </tr>\n",
       "    <tr>\n",
       "      <th>4</th>\n",
       "      <td>0.817222</td>\n",
       "      <td>0.821481</td>\n",
       "      <td>0.743889</td>\n",
       "      <td>0.122037</td>\n",
       "    </tr>\n",
       "    <tr>\n",
       "      <th>5</th>\n",
       "      <td>0.761750</td>\n",
       "      <td>0.496750</td>\n",
       "      <td>0.738500</td>\n",
       "      <td>0.410250</td>\n",
       "    </tr>\n",
       "    <tr>\n",
       "      <th>6</th>\n",
       "      <td>0.765111</td>\n",
       "      <td>0.764444</td>\n",
       "      <td>0.494667</td>\n",
       "      <td>0.195556</td>\n",
       "    </tr>\n",
       "    <tr>\n",
       "      <th>7</th>\n",
       "      <td>0.818394</td>\n",
       "      <td>0.533201</td>\n",
       "      <td>0.837122</td>\n",
       "      <td>0.417952</td>\n",
       "    </tr>\n",
       "    <tr>\n",
       "      <th>8</th>\n",
       "      <td>0.836900</td>\n",
       "      <td>0.866700</td>\n",
       "      <td>0.187800</td>\n",
       "      <td>0.156200</td>\n",
       "    </tr>\n",
       "    <tr>\n",
       "      <th>9</th>\n",
       "      <td>0.829425</td>\n",
       "      <td>0.809152</td>\n",
       "      <td>0.122783</td>\n",
       "      <td>0.119215</td>\n",
       "    </tr>\n",
       "    <tr>\n",
       "      <th>10</th>\n",
       "      <td>0.754639</td>\n",
       "      <td>0.617526</td>\n",
       "      <td>0.654639</td>\n",
       "      <td>0.289175</td>\n",
       "    </tr>\n",
       "    <tr>\n",
       "      <th>11</th>\n",
       "      <td>0.804667</td>\n",
       "      <td>0.839333</td>\n",
       "      <td>0.102000</td>\n",
       "      <td>0.142444</td>\n",
       "    </tr>\n",
       "    <tr>\n",
       "      <th>12</th>\n",
       "      <td>0.812375</td>\n",
       "      <td>0.805125</td>\n",
       "      <td>0.575500</td>\n",
       "      <td>0.282625</td>\n",
       "    </tr>\n",
       "    <tr>\n",
       "      <th>13</th>\n",
       "      <td>0.681296</td>\n",
       "      <td>0.316852</td>\n",
       "      <td>0.799259</td>\n",
       "      <td>0.603148</td>\n",
       "    </tr>\n",
       "    <tr>\n",
       "      <th>14</th>\n",
       "      <td>0.850948</td>\n",
       "      <td>0.725900</td>\n",
       "      <td>0.626711</td>\n",
       "      <td>0.450313</td>\n",
       "    </tr>\n",
       "    <tr>\n",
       "      <th>15</th>\n",
       "      <td>0.830259</td>\n",
       "      <td>0.486253</td>\n",
       "      <td>0.836922</td>\n",
       "      <td>0.518016</td>\n",
       "    </tr>\n",
       "    <tr>\n",
       "      <th>16</th>\n",
       "      <td>0.797037</td>\n",
       "      <td>0.520926</td>\n",
       "      <td>0.865370</td>\n",
       "      <td>0.637963</td>\n",
       "    </tr>\n",
       "    <tr>\n",
       "      <th>17</th>\n",
       "      <td>0.843148</td>\n",
       "      <td>0.646111</td>\n",
       "      <td>0.841852</td>\n",
       "      <td>0.505000</td>\n",
       "    </tr>\n",
       "    <tr>\n",
       "      <th>18</th>\n",
       "      <td>0.846812</td>\n",
       "      <td>0.844929</td>\n",
       "      <td>0.144901</td>\n",
       "      <td>0.115334</td>\n",
       "    </tr>\n",
       "    <tr>\n",
       "      <th>19</th>\n",
       "      <td>0.631606</td>\n",
       "      <td>0.586431</td>\n",
       "      <td>0.064223</td>\n",
       "      <td>0.089701</td>\n",
       "    </tr>\n",
       "    <tr>\n",
       "      <th>20</th>\n",
       "      <td>0.902222</td>\n",
       "      <td>0.387593</td>\n",
       "      <td>0.883148</td>\n",
       "      <td>0.342963</td>\n",
       "    </tr>\n",
       "    <tr>\n",
       "      <th>21</th>\n",
       "      <td>0.715417</td>\n",
       "      <td>0.463750</td>\n",
       "      <td>0.711667</td>\n",
       "      <td>0.497500</td>\n",
       "    </tr>\n",
       "    <tr>\n",
       "      <th>22</th>\n",
       "      <td>0.843226</td>\n",
       "      <td>0.843262</td>\n",
       "      <td>0.160432</td>\n",
       "      <td>0.170221</td>\n",
       "    </tr>\n",
       "    <tr>\n",
       "      <th>23</th>\n",
       "      <td>0.802963</td>\n",
       "      <td>0.725741</td>\n",
       "      <td>0.816296</td>\n",
       "      <td>0.292593</td>\n",
       "    </tr>\n",
       "    <tr>\n",
       "      <th>24</th>\n",
       "      <td>0.848832</td>\n",
       "      <td>0.828205</td>\n",
       "      <td>0.683021</td>\n",
       "      <td>0.184312</td>\n",
       "    </tr>\n",
       "    <tr>\n",
       "      <th>25</th>\n",
       "      <td>0.887252</td>\n",
       "      <td>0.532719</td>\n",
       "      <td>0.942313</td>\n",
       "      <td>0.424580</td>\n",
       "    </tr>\n",
       "    <tr>\n",
       "      <th>26</th>\n",
       "      <td>0.884444</td>\n",
       "      <td>0.599583</td>\n",
       "      <td>0.835139</td>\n",
       "      <td>0.623333</td>\n",
       "    </tr>\n",
       "    <tr>\n",
       "      <th>27</th>\n",
       "      <td>0.815731</td>\n",
       "      <td>0.639411</td>\n",
       "      <td>0.870648</td>\n",
       "      <td>0.511762</td>\n",
       "    </tr>\n",
       "    <tr>\n",
       "      <th>28</th>\n",
       "      <td>0.831556</td>\n",
       "      <td>0.820222</td>\n",
       "      <td>0.591778</td>\n",
       "      <td>0.194667</td>\n",
       "    </tr>\n",
       "    <tr>\n",
       "      <th>29</th>\n",
       "      <td>0.829778</td>\n",
       "      <td>0.805333</td>\n",
       "      <td>0.824444</td>\n",
       "      <td>0.198444</td>\n",
       "    </tr>\n",
       "  </tbody>\n",
       "</table>\n",
       "</div>"
      ],
      "text/plain": [
       "          cs        cn        is        in\n",
       "0   0.845826  0.788843  0.548142  0.165551\n",
       "1   0.749013  0.689145  0.271053  0.242544\n",
       "2   0.626957  0.544565  0.799348  0.345000\n",
       "3   0.849073  0.760368  0.848823  0.706770\n",
       "4   0.817222  0.821481  0.743889  0.122037\n",
       "5   0.761750  0.496750  0.738500  0.410250\n",
       "6   0.765111  0.764444  0.494667  0.195556\n",
       "7   0.818394  0.533201  0.837122  0.417952\n",
       "8   0.836900  0.866700  0.187800  0.156200\n",
       "9   0.829425  0.809152  0.122783  0.119215\n",
       "10  0.754639  0.617526  0.654639  0.289175\n",
       "11  0.804667  0.839333  0.102000  0.142444\n",
       "12  0.812375  0.805125  0.575500  0.282625\n",
       "13  0.681296  0.316852  0.799259  0.603148\n",
       "14  0.850948  0.725900  0.626711  0.450313\n",
       "15  0.830259  0.486253  0.836922  0.518016\n",
       "16  0.797037  0.520926  0.865370  0.637963\n",
       "17  0.843148  0.646111  0.841852  0.505000\n",
       "18  0.846812  0.844929  0.144901  0.115334\n",
       "19  0.631606  0.586431  0.064223  0.089701\n",
       "20  0.902222  0.387593  0.883148  0.342963\n",
       "21  0.715417  0.463750  0.711667  0.497500\n",
       "22  0.843226  0.843262  0.160432  0.170221\n",
       "23  0.802963  0.725741  0.816296  0.292593\n",
       "24  0.848832  0.828205  0.683021  0.184312\n",
       "25  0.887252  0.532719  0.942313  0.424580\n",
       "26  0.884444  0.599583  0.835139  0.623333\n",
       "27  0.815731  0.639411  0.870648  0.511762\n",
       "28  0.831556  0.820222  0.591778  0.194667\n",
       "29  0.829778  0.805333  0.824444  0.198444"
      ]
     },
     "execution_count": 9,
     "metadata": {},
     "output_type": "execute_result"
    }
   ],
   "source": [
    "df_rating_red_mean #data for ratings of red (congruent) regions"
   ]
  },
  {
   "cell_type": "code",
   "execution_count": 10,
   "id": "bcc81c56",
   "metadata": {},
   "outputs": [
    {
     "data": {
      "text/html": [
       "<div>\n",
       "<style scoped>\n",
       "    .dataframe tbody tr th:only-of-type {\n",
       "        vertical-align: middle;\n",
       "    }\n",
       "\n",
       "    .dataframe tbody tr th {\n",
       "        vertical-align: top;\n",
       "    }\n",
       "\n",
       "    .dataframe thead th {\n",
       "        text-align: right;\n",
       "    }\n",
       "</style>\n",
       "<table border=\"1\" class=\"dataframe\">\n",
       "  <thead>\n",
       "    <tr style=\"text-align: right;\">\n",
       "      <th></th>\n",
       "      <th>cs</th>\n",
       "      <th>cn</th>\n",
       "      <th>is</th>\n",
       "      <th>in</th>\n",
       "    </tr>\n",
       "  </thead>\n",
       "  <tbody>\n",
       "    <tr>\n",
       "      <th>0</th>\n",
       "      <td>0.153943</td>\n",
       "      <td>0.119655</td>\n",
       "      <td>0.357878</td>\n",
       "      <td>0.761429</td>\n",
       "    </tr>\n",
       "    <tr>\n",
       "      <th>1</th>\n",
       "      <td>0.293640</td>\n",
       "      <td>0.187281</td>\n",
       "      <td>0.661623</td>\n",
       "      <td>0.664474</td>\n",
       "    </tr>\n",
       "    <tr>\n",
       "      <th>2</th>\n",
       "      <td>0.211522</td>\n",
       "      <td>0.352826</td>\n",
       "      <td>0.158696</td>\n",
       "      <td>0.740000</td>\n",
       "    </tr>\n",
       "    <tr>\n",
       "      <th>3</th>\n",
       "      <td>0.177039</td>\n",
       "      <td>0.356698</td>\n",
       "      <td>0.339332</td>\n",
       "      <td>0.642678</td>\n",
       "    </tr>\n",
       "    <tr>\n",
       "      <th>4</th>\n",
       "      <td>0.152037</td>\n",
       "      <td>0.141111</td>\n",
       "      <td>0.208333</td>\n",
       "      <td>0.752593</td>\n",
       "    </tr>\n",
       "    <tr>\n",
       "      <th>5</th>\n",
       "      <td>0.148250</td>\n",
       "      <td>0.203250</td>\n",
       "      <td>0.165000</td>\n",
       "      <td>0.487500</td>\n",
       "    </tr>\n",
       "    <tr>\n",
       "      <th>6</th>\n",
       "      <td>0.151333</td>\n",
       "      <td>0.374000</td>\n",
       "      <td>0.432889</td>\n",
       "      <td>0.683556</td>\n",
       "    </tr>\n",
       "    <tr>\n",
       "      <th>7</th>\n",
       "      <td>0.245379</td>\n",
       "      <td>0.506392</td>\n",
       "      <td>0.197468</td>\n",
       "      <td>0.632087</td>\n",
       "    </tr>\n",
       "    <tr>\n",
       "      <th>8</th>\n",
       "      <td>0.196300</td>\n",
       "      <td>0.184200</td>\n",
       "      <td>0.791800</td>\n",
       "      <td>0.804100</td>\n",
       "    </tr>\n",
       "    <tr>\n",
       "      <th>9</th>\n",
       "      <td>0.140254</td>\n",
       "      <td>0.127134</td>\n",
       "      <td>0.765255</td>\n",
       "      <td>0.749702</td>\n",
       "    </tr>\n",
       "    <tr>\n",
       "      <th>10</th>\n",
       "      <td>0.175258</td>\n",
       "      <td>0.205670</td>\n",
       "      <td>0.376546</td>\n",
       "      <td>0.657990</td>\n",
       "    </tr>\n",
       "    <tr>\n",
       "      <th>11</th>\n",
       "      <td>0.172000</td>\n",
       "      <td>0.158444</td>\n",
       "      <td>0.722444</td>\n",
       "      <td>0.748444</td>\n",
       "    </tr>\n",
       "    <tr>\n",
       "      <th>12</th>\n",
       "      <td>0.251875</td>\n",
       "      <td>0.266625</td>\n",
       "      <td>0.215250</td>\n",
       "      <td>0.707125</td>\n",
       "    </tr>\n",
       "    <tr>\n",
       "      <th>13</th>\n",
       "      <td>0.339259</td>\n",
       "      <td>0.677037</td>\n",
       "      <td>0.228333</td>\n",
       "      <td>0.326481</td>\n",
       "    </tr>\n",
       "    <tr>\n",
       "      <th>14</th>\n",
       "      <td>0.101582</td>\n",
       "      <td>0.452160</td>\n",
       "      <td>0.236050</td>\n",
       "      <td>0.455670</td>\n",
       "    </tr>\n",
       "    <tr>\n",
       "      <th>15</th>\n",
       "      <td>0.200201</td>\n",
       "      <td>0.403162</td>\n",
       "      <td>0.246769</td>\n",
       "      <td>0.463217</td>\n",
       "    </tr>\n",
       "    <tr>\n",
       "      <th>16</th>\n",
       "      <td>0.163889</td>\n",
       "      <td>0.334815</td>\n",
       "      <td>0.300926</td>\n",
       "      <td>0.577222</td>\n",
       "    </tr>\n",
       "    <tr>\n",
       "      <th>17</th>\n",
       "      <td>0.145926</td>\n",
       "      <td>0.428704</td>\n",
       "      <td>0.228333</td>\n",
       "      <td>0.647407</td>\n",
       "    </tr>\n",
       "    <tr>\n",
       "      <th>18</th>\n",
       "      <td>0.149059</td>\n",
       "      <td>0.160098</td>\n",
       "      <td>0.774595</td>\n",
       "      <td>0.816944</td>\n",
       "    </tr>\n",
       "    <tr>\n",
       "      <th>19</th>\n",
       "      <td>0.068925</td>\n",
       "      <td>0.088507</td>\n",
       "      <td>0.643540</td>\n",
       "      <td>0.620291</td>\n",
       "    </tr>\n",
       "    <tr>\n",
       "      <th>20</th>\n",
       "      <td>0.107037</td>\n",
       "      <td>0.842593</td>\n",
       "      <td>0.127222</td>\n",
       "      <td>0.393333</td>\n",
       "    </tr>\n",
       "    <tr>\n",
       "      <th>21</th>\n",
       "      <td>0.148056</td>\n",
       "      <td>0.658194</td>\n",
       "      <td>0.229167</td>\n",
       "      <td>0.390000</td>\n",
       "    </tr>\n",
       "    <tr>\n",
       "      <th>22</th>\n",
       "      <td>0.204577</td>\n",
       "      <td>0.215475</td>\n",
       "      <td>0.798008</td>\n",
       "      <td>0.802996</td>\n",
       "    </tr>\n",
       "    <tr>\n",
       "      <th>23</th>\n",
       "      <td>0.196111</td>\n",
       "      <td>0.237963</td>\n",
       "      <td>0.285556</td>\n",
       "      <td>0.677407</td>\n",
       "    </tr>\n",
       "    <tr>\n",
       "      <th>24</th>\n",
       "      <td>0.180813</td>\n",
       "      <td>0.133719</td>\n",
       "      <td>0.210106</td>\n",
       "      <td>0.771111</td>\n",
       "    </tr>\n",
       "    <tr>\n",
       "      <th>25</th>\n",
       "      <td>0.053081</td>\n",
       "      <td>0.482192</td>\n",
       "      <td>0.090124</td>\n",
       "      <td>0.488346</td>\n",
       "    </tr>\n",
       "    <tr>\n",
       "      <th>26</th>\n",
       "      <td>0.246806</td>\n",
       "      <td>0.362500</td>\n",
       "      <td>0.143611</td>\n",
       "      <td>0.674306</td>\n",
       "    </tr>\n",
       "    <tr>\n",
       "      <th>27</th>\n",
       "      <td>0.142670</td>\n",
       "      <td>0.628586</td>\n",
       "      <td>0.353795</td>\n",
       "      <td>0.624130</td>\n",
       "    </tr>\n",
       "    <tr>\n",
       "      <th>28</th>\n",
       "      <td>0.263778</td>\n",
       "      <td>0.214222</td>\n",
       "      <td>0.239778</td>\n",
       "      <td>0.772222</td>\n",
       "    </tr>\n",
       "    <tr>\n",
       "      <th>29</th>\n",
       "      <td>0.206000</td>\n",
       "      <td>0.256889</td>\n",
       "      <td>0.216222</td>\n",
       "      <td>0.774444</td>\n",
       "    </tr>\n",
       "  </tbody>\n",
       "</table>\n",
       "</div>"
      ],
      "text/plain": [
       "          cs        cn        is        in\n",
       "0   0.153943  0.119655  0.357878  0.761429\n",
       "1   0.293640  0.187281  0.661623  0.664474\n",
       "2   0.211522  0.352826  0.158696  0.740000\n",
       "3   0.177039  0.356698  0.339332  0.642678\n",
       "4   0.152037  0.141111  0.208333  0.752593\n",
       "5   0.148250  0.203250  0.165000  0.487500\n",
       "6   0.151333  0.374000  0.432889  0.683556\n",
       "7   0.245379  0.506392  0.197468  0.632087\n",
       "8   0.196300  0.184200  0.791800  0.804100\n",
       "9   0.140254  0.127134  0.765255  0.749702\n",
       "10  0.175258  0.205670  0.376546  0.657990\n",
       "11  0.172000  0.158444  0.722444  0.748444\n",
       "12  0.251875  0.266625  0.215250  0.707125\n",
       "13  0.339259  0.677037  0.228333  0.326481\n",
       "14  0.101582  0.452160  0.236050  0.455670\n",
       "15  0.200201  0.403162  0.246769  0.463217\n",
       "16  0.163889  0.334815  0.300926  0.577222\n",
       "17  0.145926  0.428704  0.228333  0.647407\n",
       "18  0.149059  0.160098  0.774595  0.816944\n",
       "19  0.068925  0.088507  0.643540  0.620291\n",
       "20  0.107037  0.842593  0.127222  0.393333\n",
       "21  0.148056  0.658194  0.229167  0.390000\n",
       "22  0.204577  0.215475  0.798008  0.802996\n",
       "23  0.196111  0.237963  0.285556  0.677407\n",
       "24  0.180813  0.133719  0.210106  0.771111\n",
       "25  0.053081  0.482192  0.090124  0.488346\n",
       "26  0.246806  0.362500  0.143611  0.674306\n",
       "27  0.142670  0.628586  0.353795  0.624130\n",
       "28  0.263778  0.214222  0.239778  0.772222\n",
       "29  0.206000  0.256889  0.216222  0.774444"
      ]
     },
     "execution_count": 10,
     "metadata": {},
     "output_type": "execute_result"
    }
   ],
   "source": [
    "df_rating_green_mean #data for ratings of green (congruent) regions"
   ]
  },
  {
   "cell_type": "code",
   "execution_count": 11,
   "id": "adaf1b43",
   "metadata": {},
   "outputs": [
    {
     "data": {
      "text/html": [
       "<div>\n",
       "<style scoped>\n",
       "    .dataframe tbody tr th:only-of-type {\n",
       "        vertical-align: middle;\n",
       "    }\n",
       "\n",
       "    .dataframe tbody tr th {\n",
       "        vertical-align: top;\n",
       "    }\n",
       "\n",
       "    .dataframe thead th {\n",
       "        text-align: right;\n",
       "    }\n",
       "</style>\n",
       "<table border=\"1\" class=\"dataframe\">\n",
       "  <thead>\n",
       "    <tr style=\"text-align: right;\">\n",
       "      <th></th>\n",
       "      <th>cs</th>\n",
       "      <th>cn</th>\n",
       "      <th>is</th>\n",
       "      <th>in</th>\n",
       "    </tr>\n",
       "  </thead>\n",
       "  <tbody>\n",
       "    <tr>\n",
       "      <th>0</th>\n",
       "      <td>5.875640</td>\n",
       "      <td>5.219290</td>\n",
       "      <td>4.437330</td>\n",
       "      <td>4.211790</td>\n",
       "    </tr>\n",
       "    <tr>\n",
       "      <th>1</th>\n",
       "      <td>3.525611</td>\n",
       "      <td>3.606532</td>\n",
       "      <td>2.929039</td>\n",
       "      <td>4.092580</td>\n",
       "    </tr>\n",
       "    <tr>\n",
       "      <th>2</th>\n",
       "      <td>5.610300</td>\n",
       "      <td>3.098200</td>\n",
       "      <td>5.261800</td>\n",
       "      <td>2.053300</td>\n",
       "    </tr>\n",
       "    <tr>\n",
       "      <th>3</th>\n",
       "      <td>4.118110</td>\n",
       "      <td>2.101320</td>\n",
       "      <td>5.440700</td>\n",
       "      <td>2.700640</td>\n",
       "    </tr>\n",
       "    <tr>\n",
       "      <th>4</th>\n",
       "      <td>5.379010</td>\n",
       "      <td>15.403890</td>\n",
       "      <td>9.052200</td>\n",
       "      <td>6.226970</td>\n",
       "    </tr>\n",
       "    <tr>\n",
       "      <th>5</th>\n",
       "      <td>5.130800</td>\n",
       "      <td>7.194400</td>\n",
       "      <td>9.025000</td>\n",
       "      <td>6.201800</td>\n",
       "    </tr>\n",
       "    <tr>\n",
       "      <th>6</th>\n",
       "      <td>5.372400</td>\n",
       "      <td>2.515000</td>\n",
       "      <td>6.719700</td>\n",
       "      <td>2.717500</td>\n",
       "    </tr>\n",
       "    <tr>\n",
       "      <th>7</th>\n",
       "      <td>8.236710</td>\n",
       "      <td>6.917460</td>\n",
       "      <td>15.675760</td>\n",
       "      <td>6.030470</td>\n",
       "    </tr>\n",
       "    <tr>\n",
       "      <th>8</th>\n",
       "      <td>4.839060</td>\n",
       "      <td>4.628090</td>\n",
       "      <td>4.841040</td>\n",
       "      <td>3.849330</td>\n",
       "    </tr>\n",
       "    <tr>\n",
       "      <th>9</th>\n",
       "      <td>9.391330</td>\n",
       "      <td>4.713640</td>\n",
       "      <td>3.841160</td>\n",
       "      <td>4.800530</td>\n",
       "    </tr>\n",
       "    <tr>\n",
       "      <th>10</th>\n",
       "      <td>4.330000</td>\n",
       "      <td>8.509500</td>\n",
       "      <td>6.523800</td>\n",
       "      <td>3.142500</td>\n",
       "    </tr>\n",
       "    <tr>\n",
       "      <th>11</th>\n",
       "      <td>3.828500</td>\n",
       "      <td>9.048300</td>\n",
       "      <td>8.778200</td>\n",
       "      <td>3.581800</td>\n",
       "    </tr>\n",
       "    <tr>\n",
       "      <th>12</th>\n",
       "      <td>4.069510</td>\n",
       "      <td>3.807750</td>\n",
       "      <td>6.407260</td>\n",
       "      <td>5.740840</td>\n",
       "    </tr>\n",
       "    <tr>\n",
       "      <th>13</th>\n",
       "      <td>5.306710</td>\n",
       "      <td>6.484570</td>\n",
       "      <td>4.310340</td>\n",
       "      <td>3.373890</td>\n",
       "    </tr>\n",
       "    <tr>\n",
       "      <th>14</th>\n",
       "      <td>9.237870</td>\n",
       "      <td>2.806280</td>\n",
       "      <td>5.037300</td>\n",
       "      <td>2.473070</td>\n",
       "    </tr>\n",
       "    <tr>\n",
       "      <th>15</th>\n",
       "      <td>12.351780</td>\n",
       "      <td>6.262245</td>\n",
       "      <td>18.347330</td>\n",
       "      <td>13.048675</td>\n",
       "    </tr>\n",
       "    <tr>\n",
       "      <th>16</th>\n",
       "      <td>4.038530</td>\n",
       "      <td>9.946890</td>\n",
       "      <td>7.639290</td>\n",
       "      <td>5.434370</td>\n",
       "    </tr>\n",
       "    <tr>\n",
       "      <th>17</th>\n",
       "      <td>4.410880</td>\n",
       "      <td>4.816720</td>\n",
       "      <td>4.505700</td>\n",
       "      <td>5.902500</td>\n",
       "    </tr>\n",
       "    <tr>\n",
       "      <th>18</th>\n",
       "      <td>2.031120</td>\n",
       "      <td>2.128870</td>\n",
       "      <td>3.080570</td>\n",
       "      <td>3.466350</td>\n",
       "    </tr>\n",
       "    <tr>\n",
       "      <th>19</th>\n",
       "      <td>2.654270</td>\n",
       "      <td>2.451950</td>\n",
       "      <td>2.069380</td>\n",
       "      <td>2.220560</td>\n",
       "    </tr>\n",
       "    <tr>\n",
       "      <th>20</th>\n",
       "      <td>6.214540</td>\n",
       "      <td>4.129780</td>\n",
       "      <td>8.656700</td>\n",
       "      <td>8.755450</td>\n",
       "    </tr>\n",
       "    <tr>\n",
       "      <th>21</th>\n",
       "      <td>6.930600</td>\n",
       "      <td>3.675570</td>\n",
       "      <td>6.655380</td>\n",
       "      <td>2.517340</td>\n",
       "    </tr>\n",
       "    <tr>\n",
       "      <th>22</th>\n",
       "      <td>28.127610</td>\n",
       "      <td>12.868370</td>\n",
       "      <td>21.797840</td>\n",
       "      <td>15.967060</td>\n",
       "    </tr>\n",
       "    <tr>\n",
       "      <th>23</th>\n",
       "      <td>11.214720</td>\n",
       "      <td>5.965770</td>\n",
       "      <td>5.863910</td>\n",
       "      <td>6.881010</td>\n",
       "    </tr>\n",
       "    <tr>\n",
       "      <th>24</th>\n",
       "      <td>8.937190</td>\n",
       "      <td>8.860540</td>\n",
       "      <td>12.649460</td>\n",
       "      <td>7.599910</td>\n",
       "    </tr>\n",
       "    <tr>\n",
       "      <th>25</th>\n",
       "      <td>3.896900</td>\n",
       "      <td>2.845500</td>\n",
       "      <td>3.996300</td>\n",
       "      <td>2.059100</td>\n",
       "    </tr>\n",
       "    <tr>\n",
       "      <th>26</th>\n",
       "      <td>7.296800</td>\n",
       "      <td>2.383800</td>\n",
       "      <td>19.649300</td>\n",
       "      <td>3.724000</td>\n",
       "    </tr>\n",
       "    <tr>\n",
       "      <th>27</th>\n",
       "      <td>6.954230</td>\n",
       "      <td>3.785990</td>\n",
       "      <td>10.975050</td>\n",
       "      <td>5.362270</td>\n",
       "    </tr>\n",
       "    <tr>\n",
       "      <th>28</th>\n",
       "      <td>4.198100</td>\n",
       "      <td>4.345300</td>\n",
       "      <td>11.780700</td>\n",
       "      <td>4.205600</td>\n",
       "    </tr>\n",
       "    <tr>\n",
       "      <th>29</th>\n",
       "      <td>8.022200</td>\n",
       "      <td>4.168200</td>\n",
       "      <td>5.155600</td>\n",
       "      <td>5.526300</td>\n",
       "    </tr>\n",
       "  </tbody>\n",
       "</table>\n",
       "</div>"
      ],
      "text/plain": [
       "           cs         cn         is         in\n",
       "0    5.875640   5.219290   4.437330   4.211790\n",
       "1    3.525611   3.606532   2.929039   4.092580\n",
       "2    5.610300   3.098200   5.261800   2.053300\n",
       "3    4.118110   2.101320   5.440700   2.700640\n",
       "4    5.379010  15.403890   9.052200   6.226970\n",
       "5    5.130800   7.194400   9.025000   6.201800\n",
       "6    5.372400   2.515000   6.719700   2.717500\n",
       "7    8.236710   6.917460  15.675760   6.030470\n",
       "8    4.839060   4.628090   4.841040   3.849330\n",
       "9    9.391330   4.713640   3.841160   4.800530\n",
       "10   4.330000   8.509500   6.523800   3.142500\n",
       "11   3.828500   9.048300   8.778200   3.581800\n",
       "12   4.069510   3.807750   6.407260   5.740840\n",
       "13   5.306710   6.484570   4.310340   3.373890\n",
       "14   9.237870   2.806280   5.037300   2.473070\n",
       "15  12.351780   6.262245  18.347330  13.048675\n",
       "16   4.038530   9.946890   7.639290   5.434370\n",
       "17   4.410880   4.816720   4.505700   5.902500\n",
       "18   2.031120   2.128870   3.080570   3.466350\n",
       "19   2.654270   2.451950   2.069380   2.220560\n",
       "20   6.214540   4.129780   8.656700   8.755450\n",
       "21   6.930600   3.675570   6.655380   2.517340\n",
       "22  28.127610  12.868370  21.797840  15.967060\n",
       "23  11.214720   5.965770   5.863910   6.881010\n",
       "24   8.937190   8.860540  12.649460   7.599910\n",
       "25   3.896900   2.845500   3.996300   2.059100\n",
       "26   7.296800   2.383800  19.649300   3.724000\n",
       "27   6.954230   3.785990  10.975050   5.362270\n",
       "28   4.198100   4.345300  11.780700   4.205600\n",
       "29   8.022200   4.168200   5.155600   5.526300"
      ]
     },
     "execution_count": 11,
     "metadata": {},
     "output_type": "execute_result"
    }
   ],
   "source": [
    "df_rt_red_mean #data for reaction times of red (congruent) regions"
   ]
  },
  {
   "cell_type": "code",
   "execution_count": 12,
   "id": "f82711b0",
   "metadata": {},
   "outputs": [
    {
     "data": {
      "text/html": [
       "<div>\n",
       "<style scoped>\n",
       "    .dataframe tbody tr th:only-of-type {\n",
       "        vertical-align: middle;\n",
       "    }\n",
       "\n",
       "    .dataframe tbody tr th {\n",
       "        vertical-align: top;\n",
       "    }\n",
       "\n",
       "    .dataframe thead th {\n",
       "        text-align: right;\n",
       "    }\n",
       "</style>\n",
       "<table border=\"1\" class=\"dataframe\">\n",
       "  <thead>\n",
       "    <tr style=\"text-align: right;\">\n",
       "      <th></th>\n",
       "      <th>cs</th>\n",
       "      <th>cn</th>\n",
       "      <th>is</th>\n",
       "      <th>in</th>\n",
       "    </tr>\n",
       "  </thead>\n",
       "  <tbody>\n",
       "    <tr>\n",
       "      <th>0</th>\n",
       "      <td>5.867490</td>\n",
       "      <td>3.684950</td>\n",
       "      <td>5.042970</td>\n",
       "      <td>4.74566</td>\n",
       "    </tr>\n",
       "    <tr>\n",
       "      <th>1</th>\n",
       "      <td>3.735756</td>\n",
       "      <td>3.367175</td>\n",
       "      <td>2.780131</td>\n",
       "      <td>5.18834</td>\n",
       "    </tr>\n",
       "    <tr>\n",
       "      <th>2</th>\n",
       "      <td>3.877300</td>\n",
       "      <td>2.814900</td>\n",
       "      <td>6.216900</td>\n",
       "      <td>4.31470</td>\n",
       "    </tr>\n",
       "    <tr>\n",
       "      <th>3</th>\n",
       "      <td>3.775100</td>\n",
       "      <td>2.526620</td>\n",
       "      <td>7.063990</td>\n",
       "      <td>3.75269</td>\n",
       "    </tr>\n",
       "    <tr>\n",
       "      <th>4</th>\n",
       "      <td>2.866630</td>\n",
       "      <td>4.172370</td>\n",
       "      <td>9.076530</td>\n",
       "      <td>3.71963</td>\n",
       "    </tr>\n",
       "    <tr>\n",
       "      <th>5</th>\n",
       "      <td>9.161500</td>\n",
       "      <td>9.566000</td>\n",
       "      <td>11.554500</td>\n",
       "      <td>10.22110</td>\n",
       "    </tr>\n",
       "    <tr>\n",
       "      <th>6</th>\n",
       "      <td>5.535300</td>\n",
       "      <td>3.605700</td>\n",
       "      <td>9.675200</td>\n",
       "      <td>4.96440</td>\n",
       "    </tr>\n",
       "    <tr>\n",
       "      <th>7</th>\n",
       "      <td>9.927940</td>\n",
       "      <td>13.271340</td>\n",
       "      <td>16.767310</td>\n",
       "      <td>7.47094</td>\n",
       "    </tr>\n",
       "    <tr>\n",
       "      <th>8</th>\n",
       "      <td>4.316030</td>\n",
       "      <td>2.890210</td>\n",
       "      <td>5.376300</td>\n",
       "      <td>6.44612</td>\n",
       "    </tr>\n",
       "    <tr>\n",
       "      <th>9</th>\n",
       "      <td>5.015550</td>\n",
       "      <td>2.936010</td>\n",
       "      <td>7.516770</td>\n",
       "      <td>6.03604</td>\n",
       "    </tr>\n",
       "    <tr>\n",
       "      <th>10</th>\n",
       "      <td>5.749000</td>\n",
       "      <td>2.903000</td>\n",
       "      <td>4.995700</td>\n",
       "      <td>4.27130</td>\n",
       "    </tr>\n",
       "    <tr>\n",
       "      <th>11</th>\n",
       "      <td>2.783000</td>\n",
       "      <td>4.762900</td>\n",
       "      <td>4.263200</td>\n",
       "      <td>3.72310</td>\n",
       "    </tr>\n",
       "    <tr>\n",
       "      <th>12</th>\n",
       "      <td>7.112290</td>\n",
       "      <td>4.746950</td>\n",
       "      <td>7.375060</td>\n",
       "      <td>4.11564</td>\n",
       "    </tr>\n",
       "    <tr>\n",
       "      <th>13</th>\n",
       "      <td>4.508810</td>\n",
       "      <td>3.192930</td>\n",
       "      <td>8.183930</td>\n",
       "      <td>4.42875</td>\n",
       "    </tr>\n",
       "    <tr>\n",
       "      <th>14</th>\n",
       "      <td>4.419820</td>\n",
       "      <td>3.150660</td>\n",
       "      <td>3.689860</td>\n",
       "      <td>2.77860</td>\n",
       "    </tr>\n",
       "    <tr>\n",
       "      <th>15</th>\n",
       "      <td>23.392265</td>\n",
       "      <td>7.824300</td>\n",
       "      <td>14.431880</td>\n",
       "      <td>11.09196</td>\n",
       "    </tr>\n",
       "    <tr>\n",
       "      <th>16</th>\n",
       "      <td>9.183420</td>\n",
       "      <td>5.173100</td>\n",
       "      <td>4.917970</td>\n",
       "      <td>6.00353</td>\n",
       "    </tr>\n",
       "    <tr>\n",
       "      <th>17</th>\n",
       "      <td>6.153460</td>\n",
       "      <td>4.814000</td>\n",
       "      <td>6.449240</td>\n",
       "      <td>21.53167</td>\n",
       "    </tr>\n",
       "    <tr>\n",
       "      <th>18</th>\n",
       "      <td>2.908040</td>\n",
       "      <td>2.389090</td>\n",
       "      <td>2.655470</td>\n",
       "      <td>2.33248</td>\n",
       "    </tr>\n",
       "    <tr>\n",
       "      <th>19</th>\n",
       "      <td>2.395380</td>\n",
       "      <td>2.346570</td>\n",
       "      <td>3.164870</td>\n",
       "      <td>3.06428</td>\n",
       "    </tr>\n",
       "    <tr>\n",
       "      <th>20</th>\n",
       "      <td>6.353770</td>\n",
       "      <td>5.286570</td>\n",
       "      <td>8.014510</td>\n",
       "      <td>6.66122</td>\n",
       "    </tr>\n",
       "    <tr>\n",
       "      <th>21</th>\n",
       "      <td>20.668390</td>\n",
       "      <td>31.290240</td>\n",
       "      <td>4.276180</td>\n",
       "      <td>2.73397</td>\n",
       "    </tr>\n",
       "    <tr>\n",
       "      <th>22</th>\n",
       "      <td>16.162650</td>\n",
       "      <td>19.452730</td>\n",
       "      <td>19.398300</td>\n",
       "      <td>16.62183</td>\n",
       "    </tr>\n",
       "    <tr>\n",
       "      <th>23</th>\n",
       "      <td>27.158620</td>\n",
       "      <td>24.247900</td>\n",
       "      <td>8.484380</td>\n",
       "      <td>10.04027</td>\n",
       "    </tr>\n",
       "    <tr>\n",
       "      <th>24</th>\n",
       "      <td>7.932240</td>\n",
       "      <td>6.233050</td>\n",
       "      <td>10.650300</td>\n",
       "      <td>4.25947</td>\n",
       "    </tr>\n",
       "    <tr>\n",
       "      <th>25</th>\n",
       "      <td>3.056000</td>\n",
       "      <td>2.530300</td>\n",
       "      <td>3.649100</td>\n",
       "      <td>2.23470</td>\n",
       "    </tr>\n",
       "    <tr>\n",
       "      <th>26</th>\n",
       "      <td>3.468100</td>\n",
       "      <td>5.297400</td>\n",
       "      <td>4.144600</td>\n",
       "      <td>2.37560</td>\n",
       "    </tr>\n",
       "    <tr>\n",
       "      <th>27</th>\n",
       "      <td>7.491180</td>\n",
       "      <td>4.200950</td>\n",
       "      <td>5.405840</td>\n",
       "      <td>4.22345</td>\n",
       "    </tr>\n",
       "    <tr>\n",
       "      <th>28</th>\n",
       "      <td>4.401100</td>\n",
       "      <td>3.156200</td>\n",
       "      <td>5.801000</td>\n",
       "      <td>6.25520</td>\n",
       "    </tr>\n",
       "    <tr>\n",
       "      <th>29</th>\n",
       "      <td>4.038100</td>\n",
       "      <td>6.464700</td>\n",
       "      <td>12.631600</td>\n",
       "      <td>3.63270</td>\n",
       "    </tr>\n",
       "  </tbody>\n",
       "</table>\n",
       "</div>"
      ],
      "text/plain": [
       "           cs         cn         is        in\n",
       "0    5.867490   3.684950   5.042970   4.74566\n",
       "1    3.735756   3.367175   2.780131   5.18834\n",
       "2    3.877300   2.814900   6.216900   4.31470\n",
       "3    3.775100   2.526620   7.063990   3.75269\n",
       "4    2.866630   4.172370   9.076530   3.71963\n",
       "5    9.161500   9.566000  11.554500  10.22110\n",
       "6    5.535300   3.605700   9.675200   4.96440\n",
       "7    9.927940  13.271340  16.767310   7.47094\n",
       "8    4.316030   2.890210   5.376300   6.44612\n",
       "9    5.015550   2.936010   7.516770   6.03604\n",
       "10   5.749000   2.903000   4.995700   4.27130\n",
       "11   2.783000   4.762900   4.263200   3.72310\n",
       "12   7.112290   4.746950   7.375060   4.11564\n",
       "13   4.508810   3.192930   8.183930   4.42875\n",
       "14   4.419820   3.150660   3.689860   2.77860\n",
       "15  23.392265   7.824300  14.431880  11.09196\n",
       "16   9.183420   5.173100   4.917970   6.00353\n",
       "17   6.153460   4.814000   6.449240  21.53167\n",
       "18   2.908040   2.389090   2.655470   2.33248\n",
       "19   2.395380   2.346570   3.164870   3.06428\n",
       "20   6.353770   5.286570   8.014510   6.66122\n",
       "21  20.668390  31.290240   4.276180   2.73397\n",
       "22  16.162650  19.452730  19.398300  16.62183\n",
       "23  27.158620  24.247900   8.484380  10.04027\n",
       "24   7.932240   6.233050  10.650300   4.25947\n",
       "25   3.056000   2.530300   3.649100   2.23470\n",
       "26   3.468100   5.297400   4.144600   2.37560\n",
       "27   7.491180   4.200950   5.405840   4.22345\n",
       "28   4.401100   3.156200   5.801000   6.25520\n",
       "29   4.038100   6.464700  12.631600   3.63270"
      ]
     },
     "execution_count": 12,
     "metadata": {},
     "output_type": "execute_result"
    }
   ],
   "source": [
    "df_rt_green_mean #data for reaction times of green (congruent) regions"
   ]
  },
  {
   "cell_type": "markdown",
   "id": "8ada7e0a",
   "metadata": {},
   "source": [
    "## Some descriptive stats"
   ]
  },
  {
   "cell_type": "code",
   "execution_count": 13,
   "id": "80484ec6",
   "metadata": {},
   "outputs": [
    {
     "data": {
      "text/plain": [
       "cs    6.717701\n",
       "cn    5.489657\n",
       "is    8.036771\n",
       "in    5.128917\n",
       "dtype: float64"
      ]
     },
     "execution_count": 13,
     "metadata": {},
     "output_type": "execute_result"
    }
   ],
   "source": [
    "df_rt_red_mean.mean()"
   ]
  },
  {
   "cell_type": "code",
   "execution_count": 14,
   "id": "a1a2af96",
   "metadata": {},
   "outputs": [
    {
     "data": {
      "text/plain": [
       "cs    4.735557\n",
       "cn    3.228441\n",
       "is    5.087740\n",
       "in    3.099281\n",
       "dtype: float64"
      ]
     },
     "execution_count": 14,
     "metadata": {},
     "output_type": "execute_result"
    }
   ],
   "source": [
    "df_rt_red_mean.std()"
   ]
  },
  {
   "cell_type": "code",
   "execution_count": 15,
   "id": "69f2a83a",
   "metadata": {},
   "outputs": [
    {
     "data": {
      "text/plain": [
       "cs    7.447141\n",
       "cn    6.609961\n",
       "is    7.455120\n",
       "in    5.974645\n",
       "dtype: float64"
      ]
     },
     "execution_count": 15,
     "metadata": {},
     "output_type": "execute_result"
    }
   ],
   "source": [
    "df_rt_green_mean.mean()"
   ]
  },
  {
   "cell_type": "code",
   "execution_count": 16,
   "id": "e12deefc",
   "metadata": {},
   "outputs": [
    {
     "data": {
      "text/plain": [
       "cs    6.259620\n",
       "cn    6.837392\n",
       "is    4.138913\n",
       "in    4.274129\n",
       "dtype: float64"
      ]
     },
     "execution_count": 16,
     "metadata": {},
     "output_type": "execute_result"
    }
   ],
   "source": [
    "df_rt_green_mean.std()"
   ]
  },
  {
   "cell_type": "code",
   "execution_count": 17,
   "id": "1b01a569",
   "metadata": {},
   "outputs": [
    {
     "data": {
      "text/plain": [
       "cs    0.803796\n",
       "cn    0.670328\n",
       "is    0.614080\n",
       "in    0.331839\n",
       "dtype: float64"
      ]
     },
     "execution_count": 17,
     "metadata": {},
     "output_type": "execute_result"
    }
   ],
   "source": [
    "df_rating_red_mean.mean()"
   ]
  },
  {
   "cell_type": "code",
   "execution_count": 18,
   "id": "3b2fd6a7",
   "metadata": {},
   "outputs": [
    {
     "data": {
      "text/plain": [
       "cs    0.067761\n",
       "cn    0.154783\n",
       "is    0.282744\n",
       "in    0.181920\n",
       "dtype: float64"
      ]
     },
     "execution_count": 18,
     "metadata": {},
     "output_type": "execute_result"
    }
   ],
   "source": [
    "df_rating_red_mean.std()"
   ]
  },
  {
   "cell_type": "code",
   "execution_count": 19,
   "id": "857e9184",
   "metadata": {},
   "outputs": [
    {
     "data": {
      "text/plain": [
       "cs    0.179553\n",
       "cn    0.325337\n",
       "is    0.358155\n",
       "in    0.643573\n",
       "dtype: float64"
      ]
     },
     "execution_count": 19,
     "metadata": {},
     "output_type": "execute_result"
    }
   ],
   "source": [
    "df_rating_green_mean.mean()"
   ]
  },
  {
   "cell_type": "code",
   "execution_count": 20,
   "id": "ce98bb3c",
   "metadata": {},
   "outputs": [
    {
     "data": {
      "text/plain": [
       "cs    0.062167\n",
       "cn    0.191335\n",
       "is    0.226858\n",
       "in    0.137228\n",
       "dtype: float64"
      ]
     },
     "execution_count": 20,
     "metadata": {},
     "output_type": "execute_result"
    }
   ],
   "source": [
    "df_rating_green_mean.std()"
   ]
  },
  {
   "cell_type": "markdown",
   "id": "ffd43cf9",
   "metadata": {},
   "source": [
    "## create dataframe for rating & RT data of red (congruent) regions"
   ]
  },
  {
   "cell_type": "code",
   "execution_count": 21,
   "id": "781d5d10",
   "metadata": {},
   "outputs": [],
   "source": [
    "df_red_mean_anova = pd.DataFrame(columns = [\"Congruency\", \"Presence\", \"Rating\", \"RT\"])"
   ]
  },
  {
   "cell_type": "code",
   "execution_count": 22,
   "id": "c3255ac8",
   "metadata": {},
   "outputs": [],
   "source": [
    "for i in range(len(df_rating_red_mean[\"cs\"])):\n",
    "    df1 = pd.DataFrame([[\"Congruent\", \"Shown\", df_rating_red_mean[\"cs\"][i], df_rt_red_mean[\"cs\"][i]]], columns = [\"Congruency\", \"Presence\", \"Rating\", \"RT\"])\n",
    "    df_red_mean_anova = pd.concat([df_red_mean_anova, df1], ignore_index = True)"
   ]
  },
  {
   "cell_type": "code",
   "execution_count": 23,
   "id": "131ed7b6",
   "metadata": {},
   "outputs": [],
   "source": [
    "for i in range(len(df_rating_red_mean[\"cn\"])):\n",
    "    df1 = pd.DataFrame([[\"Congruent\", \"Not Shown\", df_rating_red_mean[\"cn\"][i], df_rt_red_mean[\"cn\"][i]]], columns = [\"Congruency\", \"Presence\", \"Rating\", \"RT\"])\n",
    "    df_red_mean_anova = pd.concat([df_red_mean_anova, df1], ignore_index = True)"
   ]
  },
  {
   "cell_type": "code",
   "execution_count": 24,
   "id": "210c1125",
   "metadata": {},
   "outputs": [],
   "source": [
    "for i in range(len(df_rating_red_mean[\"is\"])):\n",
    "    df1 = pd.DataFrame([[\"Incongruent\", \"Shown\", df_rating_red_mean[\"is\"][i], df_rt_red_mean[\"is\"][i]]], columns = [\"Congruency\", \"Presence\", \"Rating\", \"RT\"])\n",
    "    df_red_mean_anova = pd.concat([df_red_mean_anova, df1], ignore_index = True)"
   ]
  },
  {
   "cell_type": "code",
   "execution_count": 25,
   "id": "5d593719",
   "metadata": {},
   "outputs": [],
   "source": [
    "for i in range(len(df_rating_red_mean[\"in\"])):\n",
    "    df1 = pd.DataFrame([[\"Incongruent\", \"Not Shown\", df_rating_red_mean[\"in\"][i], df_rt_red_mean[\"in\"][i]]], columns = [\"Congruency\", \"Presence\", \"Rating\", \"RT\"])\n",
    "    df_red_mean_anova = pd.concat([df_red_mean_anova, df1], ignore_index = True)"
   ]
  },
  {
   "cell_type": "code",
   "execution_count": 26,
   "id": "d8e8761f",
   "metadata": {},
   "outputs": [
    {
     "data": {
      "text/html": [
       "<div>\n",
       "<style scoped>\n",
       "    .dataframe tbody tr th:only-of-type {\n",
       "        vertical-align: middle;\n",
       "    }\n",
       "\n",
       "    .dataframe tbody tr th {\n",
       "        vertical-align: top;\n",
       "    }\n",
       "\n",
       "    .dataframe thead th {\n",
       "        text-align: right;\n",
       "    }\n",
       "</style>\n",
       "<table border=\"1\" class=\"dataframe\">\n",
       "  <thead>\n",
       "    <tr style=\"text-align: right;\">\n",
       "      <th></th>\n",
       "      <th>Congruency</th>\n",
       "      <th>Presence</th>\n",
       "      <th>Rating</th>\n",
       "      <th>RT</th>\n",
       "    </tr>\n",
       "  </thead>\n",
       "  <tbody>\n",
       "    <tr>\n",
       "      <th>0</th>\n",
       "      <td>Congruent</td>\n",
       "      <td>Shown</td>\n",
       "      <td>0.845826</td>\n",
       "      <td>5.875640</td>\n",
       "    </tr>\n",
       "    <tr>\n",
       "      <th>1</th>\n",
       "      <td>Congruent</td>\n",
       "      <td>Shown</td>\n",
       "      <td>0.749013</td>\n",
       "      <td>3.525611</td>\n",
       "    </tr>\n",
       "    <tr>\n",
       "      <th>2</th>\n",
       "      <td>Congruent</td>\n",
       "      <td>Shown</td>\n",
       "      <td>0.626957</td>\n",
       "      <td>5.610300</td>\n",
       "    </tr>\n",
       "    <tr>\n",
       "      <th>3</th>\n",
       "      <td>Congruent</td>\n",
       "      <td>Shown</td>\n",
       "      <td>0.849073</td>\n",
       "      <td>4.118110</td>\n",
       "    </tr>\n",
       "    <tr>\n",
       "      <th>4</th>\n",
       "      <td>Congruent</td>\n",
       "      <td>Shown</td>\n",
       "      <td>0.817222</td>\n",
       "      <td>5.379010</td>\n",
       "    </tr>\n",
       "    <tr>\n",
       "      <th>...</th>\n",
       "      <td>...</td>\n",
       "      <td>...</td>\n",
       "      <td>...</td>\n",
       "      <td>...</td>\n",
       "    </tr>\n",
       "    <tr>\n",
       "      <th>115</th>\n",
       "      <td>Incongruent</td>\n",
       "      <td>Not Shown</td>\n",
       "      <td>0.424580</td>\n",
       "      <td>2.059100</td>\n",
       "    </tr>\n",
       "    <tr>\n",
       "      <th>116</th>\n",
       "      <td>Incongruent</td>\n",
       "      <td>Not Shown</td>\n",
       "      <td>0.623333</td>\n",
       "      <td>3.724000</td>\n",
       "    </tr>\n",
       "    <tr>\n",
       "      <th>117</th>\n",
       "      <td>Incongruent</td>\n",
       "      <td>Not Shown</td>\n",
       "      <td>0.511762</td>\n",
       "      <td>5.362270</td>\n",
       "    </tr>\n",
       "    <tr>\n",
       "      <th>118</th>\n",
       "      <td>Incongruent</td>\n",
       "      <td>Not Shown</td>\n",
       "      <td>0.194667</td>\n",
       "      <td>4.205600</td>\n",
       "    </tr>\n",
       "    <tr>\n",
       "      <th>119</th>\n",
       "      <td>Incongruent</td>\n",
       "      <td>Not Shown</td>\n",
       "      <td>0.198444</td>\n",
       "      <td>5.526300</td>\n",
       "    </tr>\n",
       "  </tbody>\n",
       "</table>\n",
       "<p>120 rows × 4 columns</p>\n",
       "</div>"
      ],
      "text/plain": [
       "      Congruency   Presence    Rating        RT\n",
       "0      Congruent      Shown  0.845826  5.875640\n",
       "1      Congruent      Shown  0.749013  3.525611\n",
       "2      Congruent      Shown  0.626957  5.610300\n",
       "3      Congruent      Shown  0.849073  4.118110\n",
       "4      Congruent      Shown  0.817222  5.379010\n",
       "..           ...        ...       ...       ...\n",
       "115  Incongruent  Not Shown  0.424580  2.059100\n",
       "116  Incongruent  Not Shown  0.623333  3.724000\n",
       "117  Incongruent  Not Shown  0.511762  5.362270\n",
       "118  Incongruent  Not Shown  0.194667  4.205600\n",
       "119  Incongruent  Not Shown  0.198444  5.526300\n",
       "\n",
       "[120 rows x 4 columns]"
      ]
     },
     "execution_count": 26,
     "metadata": {},
     "output_type": "execute_result"
    }
   ],
   "source": [
    "df_red_mean_anova"
   ]
  },
  {
   "cell_type": "code",
   "execution_count": 27,
   "id": "9c11d545",
   "metadata": {},
   "outputs": [],
   "source": [
    "df_red_mean_anova[\"Subject\"] = list(range(1,31))+list(range(1,31))+list(range(1,31))+list(range(1,31))"
   ]
  },
  {
   "cell_type": "code",
   "execution_count": 28,
   "id": "1819fec4",
   "metadata": {
    "scrolled": true
   },
   "outputs": [
    {
     "data": {
      "text/html": [
       "<div>\n",
       "<style scoped>\n",
       "    .dataframe tbody tr th:only-of-type {\n",
       "        vertical-align: middle;\n",
       "    }\n",
       "\n",
       "    .dataframe tbody tr th {\n",
       "        vertical-align: top;\n",
       "    }\n",
       "\n",
       "    .dataframe thead th {\n",
       "        text-align: right;\n",
       "    }\n",
       "</style>\n",
       "<table border=\"1\" class=\"dataframe\">\n",
       "  <thead>\n",
       "    <tr style=\"text-align: right;\">\n",
       "      <th></th>\n",
       "      <th>Congruency</th>\n",
       "      <th>Presence</th>\n",
       "      <th>Rating</th>\n",
       "      <th>RT</th>\n",
       "      <th>Subject</th>\n",
       "    </tr>\n",
       "  </thead>\n",
       "  <tbody>\n",
       "    <tr>\n",
       "      <th>0</th>\n",
       "      <td>Congruent</td>\n",
       "      <td>Shown</td>\n",
       "      <td>0.845826</td>\n",
       "      <td>5.875640</td>\n",
       "      <td>1</td>\n",
       "    </tr>\n",
       "    <tr>\n",
       "      <th>1</th>\n",
       "      <td>Congruent</td>\n",
       "      <td>Shown</td>\n",
       "      <td>0.749013</td>\n",
       "      <td>3.525611</td>\n",
       "      <td>2</td>\n",
       "    </tr>\n",
       "    <tr>\n",
       "      <th>2</th>\n",
       "      <td>Congruent</td>\n",
       "      <td>Shown</td>\n",
       "      <td>0.626957</td>\n",
       "      <td>5.610300</td>\n",
       "      <td>3</td>\n",
       "    </tr>\n",
       "    <tr>\n",
       "      <th>3</th>\n",
       "      <td>Congruent</td>\n",
       "      <td>Shown</td>\n",
       "      <td>0.849073</td>\n",
       "      <td>4.118110</td>\n",
       "      <td>4</td>\n",
       "    </tr>\n",
       "    <tr>\n",
       "      <th>4</th>\n",
       "      <td>Congruent</td>\n",
       "      <td>Shown</td>\n",
       "      <td>0.817222</td>\n",
       "      <td>5.379010</td>\n",
       "      <td>5</td>\n",
       "    </tr>\n",
       "    <tr>\n",
       "      <th>...</th>\n",
       "      <td>...</td>\n",
       "      <td>...</td>\n",
       "      <td>...</td>\n",
       "      <td>...</td>\n",
       "      <td>...</td>\n",
       "    </tr>\n",
       "    <tr>\n",
       "      <th>115</th>\n",
       "      <td>Incongruent</td>\n",
       "      <td>Not Shown</td>\n",
       "      <td>0.424580</td>\n",
       "      <td>2.059100</td>\n",
       "      <td>26</td>\n",
       "    </tr>\n",
       "    <tr>\n",
       "      <th>116</th>\n",
       "      <td>Incongruent</td>\n",
       "      <td>Not Shown</td>\n",
       "      <td>0.623333</td>\n",
       "      <td>3.724000</td>\n",
       "      <td>27</td>\n",
       "    </tr>\n",
       "    <tr>\n",
       "      <th>117</th>\n",
       "      <td>Incongruent</td>\n",
       "      <td>Not Shown</td>\n",
       "      <td>0.511762</td>\n",
       "      <td>5.362270</td>\n",
       "      <td>28</td>\n",
       "    </tr>\n",
       "    <tr>\n",
       "      <th>118</th>\n",
       "      <td>Incongruent</td>\n",
       "      <td>Not Shown</td>\n",
       "      <td>0.194667</td>\n",
       "      <td>4.205600</td>\n",
       "      <td>29</td>\n",
       "    </tr>\n",
       "    <tr>\n",
       "      <th>119</th>\n",
       "      <td>Incongruent</td>\n",
       "      <td>Not Shown</td>\n",
       "      <td>0.198444</td>\n",
       "      <td>5.526300</td>\n",
       "      <td>30</td>\n",
       "    </tr>\n",
       "  </tbody>\n",
       "</table>\n",
       "<p>120 rows × 5 columns</p>\n",
       "</div>"
      ],
      "text/plain": [
       "      Congruency   Presence    Rating        RT  Subject\n",
       "0      Congruent      Shown  0.845826  5.875640        1\n",
       "1      Congruent      Shown  0.749013  3.525611        2\n",
       "2      Congruent      Shown  0.626957  5.610300        3\n",
       "3      Congruent      Shown  0.849073  4.118110        4\n",
       "4      Congruent      Shown  0.817222  5.379010        5\n",
       "..           ...        ...       ...       ...      ...\n",
       "115  Incongruent  Not Shown  0.424580  2.059100       26\n",
       "116  Incongruent  Not Shown  0.623333  3.724000       27\n",
       "117  Incongruent  Not Shown  0.511762  5.362270       28\n",
       "118  Incongruent  Not Shown  0.194667  4.205600       29\n",
       "119  Incongruent  Not Shown  0.198444  5.526300       30\n",
       "\n",
       "[120 rows x 5 columns]"
      ]
     },
     "execution_count": 28,
     "metadata": {},
     "output_type": "execute_result"
    }
   ],
   "source": [
    "df_red_mean_anova"
   ]
  },
  {
   "cell_type": "markdown",
   "id": "6a020cb8",
   "metadata": {},
   "source": [
    "## Red: Rating ANOVA"
   ]
  },
  {
   "cell_type": "code",
   "execution_count": 29,
   "id": "6f0522c1",
   "metadata": {
    "scrolled": false
   },
   "outputs": [
    {
     "data": {
      "text/plain": [
       "cs    0.803796\n",
       "cn    0.670328\n",
       "is    0.614080\n",
       "in    0.331839\n",
       "dtype: float64"
      ]
     },
     "execution_count": 29,
     "metadata": {},
     "output_type": "execute_result"
    }
   ],
   "source": [
    "df_rating_red_mean.mean()"
   ]
  },
  {
   "cell_type": "code",
   "execution_count": 30,
   "id": "00ecbd22",
   "metadata": {},
   "outputs": [
    {
     "data": {
      "text/plain": [
       "cs    0.067761\n",
       "cn    0.154783\n",
       "is    0.282744\n",
       "in    0.181920\n",
       "dtype: float64"
      ]
     },
     "execution_count": 30,
     "metadata": {},
     "output_type": "execute_result"
    }
   ],
   "source": [
    "df_rating_red_mean.std()"
   ]
  },
  {
   "cell_type": "code",
   "execution_count": 31,
   "id": "b52a3ac1",
   "metadata": {
    "scrolled": true
   },
   "outputs": [
    {
     "data": {
      "image/png": "[encoded data removed]",
      "text/plain": [
       "<Figure size 432x288 with 1 Axes>"
      ]
     },
     "metadata": {
      "needs_background": "light"
     },
     "output_type": "display_data"
    }
   ],
   "source": [
    "df_rating_red_mean.mean().plot(kind=\"bar\", yerr=df_rating_red_mean.std(), alpha=0.5, capsize=10)\n",
    "plt.xlabel('Scale Congruency x Scale Presence')\n",
    "plt.xticks([0, 1, 2, 3], ['Congruent\\nShown', 'Congurent\\nNow Shown', 'Incongruent\\nShown', 'Incongruent\\nNot Shown'], rotation=45)\n",
    "plt.show()"
   ]
  },
  {
   "cell_type": "code",
   "execution_count": 32,
   "id": "8a0e64f7",
   "metadata": {},
   "outputs": [
    {
     "data": {
      "text/html": [
       "<div>\n",
       "<style scoped>\n",
       "    .dataframe tbody tr th:only-of-type {\n",
       "        vertical-align: middle;\n",
       "    }\n",
       "\n",
       "    .dataframe tbody tr th {\n",
       "        vertical-align: top;\n",
       "    }\n",
       "\n",
       "    .dataframe thead th {\n",
       "        text-align: right;\n",
       "    }\n",
       "</style>\n",
       "<table border=\"1\" class=\"dataframe\">\n",
       "  <thead>\n",
       "    <tr style=\"text-align: right;\">\n",
       "      <th></th>\n",
       "      <th>Congruency</th>\n",
       "      <th>Presence</th>\n",
       "      <th>Rating</th>\n",
       "      <th>RT</th>\n",
       "      <th>Subject</th>\n",
       "    </tr>\n",
       "  </thead>\n",
       "  <tbody>\n",
       "    <tr>\n",
       "      <th>0</th>\n",
       "      <td>Congruent</td>\n",
       "      <td>Shown</td>\n",
       "      <td>0.845826</td>\n",
       "      <td>5.875640</td>\n",
       "      <td>1</td>\n",
       "    </tr>\n",
       "    <tr>\n",
       "      <th>1</th>\n",
       "      <td>Congruent</td>\n",
       "      <td>Shown</td>\n",
       "      <td>0.749013</td>\n",
       "      <td>3.525611</td>\n",
       "      <td>2</td>\n",
       "    </tr>\n",
       "    <tr>\n",
       "      <th>2</th>\n",
       "      <td>Congruent</td>\n",
       "      <td>Shown</td>\n",
       "      <td>0.626957</td>\n",
       "      <td>5.610300</td>\n",
       "      <td>3</td>\n",
       "    </tr>\n",
       "    <tr>\n",
       "      <th>3</th>\n",
       "      <td>Congruent</td>\n",
       "      <td>Shown</td>\n",
       "      <td>0.849073</td>\n",
       "      <td>4.118110</td>\n",
       "      <td>4</td>\n",
       "    </tr>\n",
       "    <tr>\n",
       "      <th>4</th>\n",
       "      <td>Congruent</td>\n",
       "      <td>Shown</td>\n",
       "      <td>0.817222</td>\n",
       "      <td>5.379010</td>\n",
       "      <td>5</td>\n",
       "    </tr>\n",
       "    <tr>\n",
       "      <th>...</th>\n",
       "      <td>...</td>\n",
       "      <td>...</td>\n",
       "      <td>...</td>\n",
       "      <td>...</td>\n",
       "      <td>...</td>\n",
       "    </tr>\n",
       "    <tr>\n",
       "      <th>115</th>\n",
       "      <td>Incongruent</td>\n",
       "      <td>Not Shown</td>\n",
       "      <td>0.424580</td>\n",
       "      <td>2.059100</td>\n",
       "      <td>26</td>\n",
       "    </tr>\n",
       "    <tr>\n",
       "      <th>116</th>\n",
       "      <td>Incongruent</td>\n",
       "      <td>Not Shown</td>\n",
       "      <td>0.623333</td>\n",
       "      <td>3.724000</td>\n",
       "      <td>27</td>\n",
       "    </tr>\n",
       "    <tr>\n",
       "      <th>117</th>\n",
       "      <td>Incongruent</td>\n",
       "      <td>Not Shown</td>\n",
       "      <td>0.511762</td>\n",
       "      <td>5.362270</td>\n",
       "      <td>28</td>\n",
       "    </tr>\n",
       "    <tr>\n",
       "      <th>118</th>\n",
       "      <td>Incongruent</td>\n",
       "      <td>Not Shown</td>\n",
       "      <td>0.194667</td>\n",
       "      <td>4.205600</td>\n",
       "      <td>29</td>\n",
       "    </tr>\n",
       "    <tr>\n",
       "      <th>119</th>\n",
       "      <td>Incongruent</td>\n",
       "      <td>Not Shown</td>\n",
       "      <td>0.198444</td>\n",
       "      <td>5.526300</td>\n",
       "      <td>30</td>\n",
       "    </tr>\n",
       "  </tbody>\n",
       "</table>\n",
       "<p>120 rows × 5 columns</p>\n",
       "</div>"
      ],
      "text/plain": [
       "      Congruency   Presence    Rating        RT  Subject\n",
       "0      Congruent      Shown  0.845826  5.875640        1\n",
       "1      Congruent      Shown  0.749013  3.525611        2\n",
       "2      Congruent      Shown  0.626957  5.610300        3\n",
       "3      Congruent      Shown  0.849073  4.118110        4\n",
       "4      Congruent      Shown  0.817222  5.379010        5\n",
       "..           ...        ...       ...       ...      ...\n",
       "115  Incongruent  Not Shown  0.424580  2.059100       26\n",
       "116  Incongruent  Not Shown  0.623333  3.724000       27\n",
       "117  Incongruent  Not Shown  0.511762  5.362270       28\n",
       "118  Incongruent  Not Shown  0.194667  4.205600       29\n",
       "119  Incongruent  Not Shown  0.198444  5.526300       30\n",
       "\n",
       "[120 rows x 5 columns]"
      ]
     },
     "execution_count": 32,
     "metadata": {},
     "output_type": "execute_result"
    }
   ],
   "source": [
    "df_red_mean_anova"
   ]
  },
  {
   "cell_type": "code",
   "execution_count": 33,
   "id": "bea26a26",
   "metadata": {
    "scrolled": true
   },
   "outputs": [
    {
     "name": "stdout",
     "output_type": "stream",
     "text": [
      "                      Anova\n",
      "=================================================\n",
      "                    F Value Num DF  Den DF Pr > F\n",
      "-------------------------------------------------\n",
      "Congruency          28.1073 1.0000 29.0000 0.0000\n",
      "Presence            66.6692 1.0000 29.0000 0.0000\n",
      "Congruency:Presence 14.9228 1.0000 29.0000 0.0006\n",
      "=================================================\n",
      "\n"
     ]
    }
   ],
   "source": [
    "from statsmodels.graphics.factorplots import interaction_plot\n",
    "from statsmodels.stats.anova import AnovaRM\n",
    "\n",
    "rating_factorial_model = AnovaRM(data=df_red_mean_anova, depvar='Rating', within=['Congruency', 'Presence'], subject='Subject').fit()\n",
    "print(rating_factorial_model)"
   ]
  },
  {
   "cell_type": "code",
   "execution_count": 34,
   "id": "3fd40bc9",
   "metadata": {
    "scrolled": false
   },
   "outputs": [
    {
     "name": "stdout",
     "output_type": "stream",
     "text": [
      "                  Source     SS  ddof1  ddof2     MS       F  p-unc   \n",
      "0             Congruency  2.093      1     29  2.093  28.107  0.000  \\\n",
      "1               Presence  1.296      1     29  1.296  66.669  0.000   \n",
      "2  Congruency * Presence  0.166      1     29  0.166  14.923  0.001   \n",
      "\n",
      "   p-GG-corr    np2  eps  \n",
      "0      0.000  0.492  1.0  \n",
      "1      0.000  0.697  1.0  \n",
      "2      0.001  0.340  1.0  \n"
     ]
    }
   ],
   "source": [
    "import pingouin as pg\n",
    "\n",
    "aov_rating = pg.rm_anova(dv='Rating',within=['Congruency', 'Presence'], subject='Subject', data=df_red_mean_anova, effsize=\"np2\")\n",
    "print(aov_rating.round(3))"
   ]
  },
  {
   "cell_type": "code",
   "execution_count": 35,
   "id": "56981846",
   "metadata": {
    "scrolled": true
   },
   "outputs": [
    {
     "data": {
      "image/png": "[encoded data removed]",
      "text/plain": [
       "<Figure size 432x288 with 1 Axes>"
      ]
     },
     "metadata": {
      "needs_background": "light"
     },
     "output_type": "display_data"
    }
   ],
   "source": [
    "import seaborn as sns\n",
    "\n",
    "ax = sns.pointplot(x=\"Congruency\", y=\"Rating\", hue=\"Presence\",\n",
    "                    data=df_red_mean_anova)"
   ]
  },
  {
   "cell_type": "markdown",
   "id": "4e2972af",
   "metadata": {},
   "source": [
    "### pairwise comparisons for interaction (use Bonferroni corrected criterion for significance of p < .017)"
   ]
  },
  {
   "cell_type": "code",
   "execution_count": 36,
   "id": "a351dd1c",
   "metadata": {},
   "outputs": [
    {
     "data": {
      "text/plain": [
       "Ttest_relResult(statistic=-7.744124768976914, pvalue=1.5372386009079374e-08)"
      ]
     },
     "execution_count": 36,
     "metadata": {},
     "output_type": "execute_result"
    }
   ],
   "source": [
    "#t-test -> incongruent scale rate lower for scale not shown than scale shown\n",
    "from scipy import stats\n",
    "\n",
    "index = (df_red_mean_anova['Presence']=='Not Shown') & (df_red_mean_anova['Congruency']=='Incongruent')\n",
    "NI = df_red_mean_anova[index]['Rating'] \n",
    "\n",
    "index = (df_red_mean_anova['Presence']=='Shown') & (df_red_mean_anova['Congruency']=='Incongruent')\n",
    "SI = df_red_mean_anova[index]['Rating']\n",
    "\n",
    "stats.ttest_rel(NI, SI) #significant"
   ]
  },
  {
   "cell_type": "code",
   "execution_count": 37,
   "id": "9d9cca07",
   "metadata": {},
   "outputs": [
    {
     "data": {
      "text/plain": [
       "-1.187190433402481"
      ]
     },
     "execution_count": 37,
     "metadata": {},
     "output_type": "execute_result"
    }
   ],
   "source": [
    "cohen_d = pg.compute_effsize(NI, SI, paired=True, eftype='cohen')\n",
    "cohen_d"
   ]
  },
  {
   "cell_type": "code",
   "execution_count": 38,
   "id": "a24897e3",
   "metadata": {},
   "outputs": [
    {
     "data": {
      "text/plain": [
       "Ttest_relResult(statistic=-5.011226236456529, pvalue=2.4586951718022216e-05)"
      ]
     },
     "execution_count": 38,
     "metadata": {},
     "output_type": "execute_result"
    }
   ],
   "source": [
    "#t-test -> congruent scale rate no difference for scale not shown and scale shown\n",
    "from scipy import stats\n",
    "\n",
    "index = (df_red_mean_anova['Presence']=='Not Shown') & (df_red_mean_anova['Congruency']=='Congruent')\n",
    "NC = df_red_mean_anova[index]['Rating'] \n",
    "\n",
    "index = (df_red_mean_anova['Presence']=='Shown') & (df_red_mean_anova['Congruency']=='Congruent')\n",
    "SC = df_red_mean_anova[index]['Rating']\n",
    "\n",
    "stats.ttest_rel(NC, SC) #significant, there is a difference, visible ones have higher rate than invisible ones"
   ]
  },
  {
   "cell_type": "code",
   "execution_count": 39,
   "id": "ffa4d461",
   "metadata": {},
   "outputs": [
    {
     "data": {
      "text/plain": [
       "-1.1171035150272"
      ]
     },
     "execution_count": 39,
     "metadata": {},
     "output_type": "execute_result"
    }
   ],
   "source": [
    "cohen_d = pg.compute_effsize(NC, SC, paired=True, eftype='cohen')\n",
    "cohen_d"
   ]
  },
  {
   "cell_type": "code",
   "execution_count": 40,
   "id": "bb88ce64",
   "metadata": {},
   "outputs": [
    {
     "data": {
      "text/plain": [
       "Ttest_relResult(statistic=3.713493812471309, pvalue=0.0008657183025338685)"
      ]
     },
     "execution_count": 40,
     "metadata": {},
     "output_type": "execute_result"
    }
   ],
   "source": [
    "#t-test -> scales that are shown rate no difference for congruent and incongruent ones\n",
    "from scipy import stats\n",
    "\n",
    "index = (df_red_mean_anova['Presence']=='Shown') & (df_red_mean_anova['Congruency']=='Congruent')\n",
    "SC = df_red_mean_anova[index]['Rating'] \n",
    "\n",
    "index = (df_red_mean_anova['Presence']=='Shown') & (df_red_mean_anova['Congruency']=='Incongruent')\n",
    "SI = df_red_mean_anova[index]['Rating']\n",
    "\n",
    "stats.ttest_rel(SC, SI) #significant, there is a difference, congruent ones rate higher than incongruent ones"
   ]
  },
  {
   "cell_type": "code",
   "execution_count": 41,
   "id": "3666203a",
   "metadata": {},
   "outputs": [
    {
     "data": {
      "text/plain": [
       "0.9227835636756342"
      ]
     },
     "execution_count": 41,
     "metadata": {},
     "output_type": "execute_result"
    }
   ],
   "source": [
    "cohen_d = pg.compute_effsize(SC, SI, paired=True, eftype='cohen')\n",
    "cohen_d"
   ]
  },
  {
   "cell_type": "markdown",
   "id": "1c4b1328",
   "metadata": {},
   "source": [
    "## Red: RT ANOVA"
   ]
  },
  {
   "cell_type": "code",
   "execution_count": 42,
   "id": "41e855df",
   "metadata": {
    "scrolled": false
   },
   "outputs": [
    {
     "data": {
      "text/plain": [
       "cs    6.717701\n",
       "cn    5.489657\n",
       "is    8.036771\n",
       "in    5.128917\n",
       "dtype: float64"
      ]
     },
     "execution_count": 42,
     "metadata": {},
     "output_type": "execute_result"
    }
   ],
   "source": [
    "df_rt_red_mean.mean()"
   ]
  },
  {
   "cell_type": "code",
   "execution_count": 43,
   "id": "e72aa12f",
   "metadata": {},
   "outputs": [
    {
     "data": {
      "text/plain": [
       "cs    4.735557\n",
       "cn    3.228441\n",
       "is    5.087740\n",
       "in    3.099281\n",
       "dtype: float64"
      ]
     },
     "execution_count": 43,
     "metadata": {},
     "output_type": "execute_result"
    }
   ],
   "source": [
    "df_rt_red_mean.std()"
   ]
  },
  {
   "cell_type": "code",
   "execution_count": 44,
   "id": "b9e0a54b",
   "metadata": {},
   "outputs": [
    {
     "data": {
      "image/png": "[encoded data removed]",
      "text/plain": [
       "<Figure size 432x288 with 1 Axes>"
      ]
     },
     "metadata": {
      "needs_background": "light"
     },
     "output_type": "display_data"
    }
   ],
   "source": [
    "df_rt_red_mean.mean().plot(kind=\"bar\", yerr=df_rt_red_mean.std(), alpha=0.5, capsize=10)\n",
    "plt.xlabel('Scale Congruency x Scale Presence')\n",
    "plt.xticks([0, 1, 2, 3], ['Congruent\\nShown', 'Congurent\\nNow Shown', 'Incongruent\\nShown', 'Incongruent\\nNot Shown'], rotation=45)\n",
    "plt.show()"
   ]
  },
  {
   "cell_type": "code",
   "execution_count": 45,
   "id": "687033e8",
   "metadata": {},
   "outputs": [
    {
     "name": "stdout",
     "output_type": "stream",
     "text": [
      "                      Anova\n",
      "=================================================\n",
      "                    F Value Num DF  Den DF Pr > F\n",
      "-------------------------------------------------\n",
      "Congruency           1.1388 1.0000 29.0000 0.2947\n",
      "Presence            13.0087 1.0000 29.0000 0.0012\n",
      "Congruency:Presence  2.9700 1.0000 29.0000 0.0955\n",
      "=================================================\n",
      "\n"
     ]
    }
   ],
   "source": [
    "rt_factorial_model = AnovaRM(data=df_red_mean_anova, depvar='RT', within=['Congruency', 'Presence'], subject='Subject').fit()\n",
    "print(rt_factorial_model)"
   ]
  },
  {
   "cell_type": "code",
   "execution_count": 46,
   "id": "0631602c",
   "metadata": {},
   "outputs": [
    {
     "name": "stdout",
     "output_type": "stream",
     "text": [
      "                  Source       SS  ddof1  ddof2       MS       F  p-unc   \n",
      "0             Congruency    6.888      1     29    6.888   1.139  0.295  \\\n",
      "1               Presence  128.292      1     29  128.292  13.009  0.001   \n",
      "2  Congruency * Presence   21.163      1     29   21.163   2.970  0.095   \n",
      "\n",
      "   p-GG-corr    np2  eps  \n",
      "0      0.295  0.038  1.0  \n",
      "1      0.001  0.310  1.0  \n",
      "2      0.095  0.093  1.0  \n"
     ]
    }
   ],
   "source": [
    "aov_rt = pg.rm_anova(dv='RT',within=['Congruency', 'Presence'], subject='Subject', data=df_red_mean_anova, effsize=\"np2\")\n",
    "print(aov_rt.round(3))"
   ]
  },
  {
   "cell_type": "code",
   "execution_count": 47,
   "id": "ae79d3bd",
   "metadata": {
    "scrolled": true
   },
   "outputs": [
    {
     "data": {
      "image/png": "[encoded data removed]",
      "text/plain": [
       "<Figure size 432x288 with 1 Axes>"
      ]
     },
     "metadata": {
      "needs_background": "light"
     },
     "output_type": "display_data"
    }
   ],
   "source": [
    "ax = sns.pointplot(x=\"Congruency\", y=\"RT\", hue=\"Presence\",\n",
    "                    data=df_red_mean_anova)"
   ]
  },
  {
   "cell_type": "markdown",
   "id": "68dd027a",
   "metadata": {},
   "source": [
    "## Green: Rating ANOVA"
   ]
  },
  {
   "cell_type": "code",
   "execution_count": 48,
   "id": "12f7b7ba",
   "metadata": {
    "scrolled": true
   },
   "outputs": [
    {
     "data": {
      "text/plain": [
       "cs    0.179553\n",
       "cn    0.325337\n",
       "is    0.358155\n",
       "in    0.643573\n",
       "dtype: float64"
      ]
     },
     "execution_count": 48,
     "metadata": {},
     "output_type": "execute_result"
    }
   ],
   "source": [
    "df_rating_green_mean.mean()"
   ]
  },
  {
   "cell_type": "code",
   "execution_count": 49,
   "id": "818932c2",
   "metadata": {},
   "outputs": [
    {
     "data": {
      "text/plain": [
       "cs    0.062167\n",
       "cn    0.191335\n",
       "is    0.226858\n",
       "in    0.137228\n",
       "dtype: float64"
      ]
     },
     "execution_count": 49,
     "metadata": {},
     "output_type": "execute_result"
    }
   ],
   "source": [
    "df_rating_green_mean.std()"
   ]
  },
  {
   "cell_type": "code",
   "execution_count": 50,
   "id": "73d5ab16",
   "metadata": {},
   "outputs": [
    {
     "data": {
      "image/png": "[encoded data removed]",
      "text/plain": [
       "<Figure size 432x288 with 1 Axes>"
      ]
     },
     "metadata": {
      "needs_background": "light"
     },
     "output_type": "display_data"
    }
   ],
   "source": [
    "df_rating_green_mean.mean().plot(kind=\"bar\", yerr=df_rating_green_mean.std(), alpha=0.5, capsize=10)\n",
    "plt.xlabel('Scale Congruency x Scale Presence')\n",
    "plt.xticks([0, 1, 2, 3], ['Congruent\\nShown', 'Congurent\\nNow Shown', 'Incongruent\\nShown', 'Incongruent\\nNot Shown'], rotation=45)\n",
    "plt.show()"
   ]
  },
  {
   "cell_type": "code",
   "execution_count": 51,
   "id": "b2012e7a",
   "metadata": {},
   "outputs": [],
   "source": [
    "df_green_mean_anova = pd.DataFrame(columns = [\"Congruency\", \"Presence\", \"Rating\", \"RT\"])"
   ]
  },
  {
   "cell_type": "code",
   "execution_count": 52,
   "id": "4607d5c7",
   "metadata": {},
   "outputs": [],
   "source": [
    "for i in range(len(df_rating_green_mean[\"cs\"])):\n",
    "    df1 = pd.DataFrame([[\"Congruent\", \"Shown\", df_rating_green_mean[\"cs\"][i], df_rt_green_mean[\"cs\"][i]]], columns = [\"Congruency\", \"Presence\", \"Rating\", \"RT\"])\n",
    "    df_green_mean_anova = pd.concat([df_green_mean_anova, df1], ignore_index = True)"
   ]
  },
  {
   "cell_type": "code",
   "execution_count": 53,
   "id": "81031607",
   "metadata": {},
   "outputs": [],
   "source": [
    "for i in range(len(df_rating_green_mean[\"cn\"])):\n",
    "    df1 = pd.DataFrame([[\"Congruent\", \"Not Shown\", df_rating_green_mean[\"cn\"][i], df_rt_green_mean[\"cn\"][i]]], columns = [\"Congruency\", \"Presence\", \"Rating\", \"RT\"])\n",
    "    df_green_mean_anova = pd.concat([df_green_mean_anova, df1], ignore_index = True)"
   ]
  },
  {
   "cell_type": "code",
   "execution_count": 54,
   "id": "6e37f198",
   "metadata": {},
   "outputs": [],
   "source": [
    "for i in range(len(df_rating_green_mean[\"is\"])):\n",
    "    df1 = pd.DataFrame([[\"Incongruent\", \"Shown\", df_rating_green_mean[\"is\"][i], df_rt_green_mean[\"is\"][i]]], columns = [\"Congruency\", \"Presence\", \"Rating\", \"RT\"])\n",
    "    df_green_mean_anova = pd.concat([df_green_mean_anova, df1], ignore_index = True)"
   ]
  },
  {
   "cell_type": "code",
   "execution_count": 55,
   "id": "8f4e9cf4",
   "metadata": {},
   "outputs": [],
   "source": [
    "for i in range(len(df_rating_red_mean[\"in\"])):\n",
    "    df1 = pd.DataFrame([[\"Incongruent\", \"Not Shown\", df_rating_green_mean[\"in\"][i], df_rt_green_mean[\"in\"][i]]], columns = [\"Congruency\", \"Presence\", \"Rating\", \"RT\"])\n",
    "    df_green_mean_anova = pd.concat([df_green_mean_anova, df1], ignore_index = True)"
   ]
  },
  {
   "cell_type": "code",
   "execution_count": 56,
   "id": "b7089c12",
   "metadata": {},
   "outputs": [],
   "source": [
    "df_green_mean_anova[\"Subject\"] = list(range(1,31))+list(range(1,31))+list(range(1,31))+list(range(1,31))"
   ]
  },
  {
   "cell_type": "code",
   "execution_count": 57,
   "id": "e3893241",
   "metadata": {
    "scrolled": true
   },
   "outputs": [
    {
     "data": {
      "text/html": [
       "<div>\n",
       "<style scoped>\n",
       "    .dataframe tbody tr th:only-of-type {\n",
       "        vertical-align: middle;\n",
       "    }\n",
       "\n",
       "    .dataframe tbody tr th {\n",
       "        vertical-align: top;\n",
       "    }\n",
       "\n",
       "    .dataframe thead th {\n",
       "        text-align: right;\n",
       "    }\n",
       "</style>\n",
       "<table border=\"1\" class=\"dataframe\">\n",
       "  <thead>\n",
       "    <tr style=\"text-align: right;\">\n",
       "      <th></th>\n",
       "      <th>Congruency</th>\n",
       "      <th>Presence</th>\n",
       "      <th>Rating</th>\n",
       "      <th>RT</th>\n",
       "      <th>Subject</th>\n",
       "    </tr>\n",
       "  </thead>\n",
       "  <tbody>\n",
       "    <tr>\n",
       "      <th>0</th>\n",
       "      <td>Congruent</td>\n",
       "      <td>Shown</td>\n",
       "      <td>0.153943</td>\n",
       "      <td>5.867490</td>\n",
       "      <td>1</td>\n",
       "    </tr>\n",
       "    <tr>\n",
       "      <th>1</th>\n",
       "      <td>Congruent</td>\n",
       "      <td>Shown</td>\n",
       "      <td>0.293640</td>\n",
       "      <td>3.735756</td>\n",
       "      <td>2</td>\n",
       "    </tr>\n",
       "    <tr>\n",
       "      <th>2</th>\n",
       "      <td>Congruent</td>\n",
       "      <td>Shown</td>\n",
       "      <td>0.211522</td>\n",
       "      <td>3.877300</td>\n",
       "      <td>3</td>\n",
       "    </tr>\n",
       "    <tr>\n",
       "      <th>3</th>\n",
       "      <td>Congruent</td>\n",
       "      <td>Shown</td>\n",
       "      <td>0.177039</td>\n",
       "      <td>3.775100</td>\n",
       "      <td>4</td>\n",
       "    </tr>\n",
       "    <tr>\n",
       "      <th>4</th>\n",
       "      <td>Congruent</td>\n",
       "      <td>Shown</td>\n",
       "      <td>0.152037</td>\n",
       "      <td>2.866630</td>\n",
       "      <td>5</td>\n",
       "    </tr>\n",
       "    <tr>\n",
       "      <th>...</th>\n",
       "      <td>...</td>\n",
       "      <td>...</td>\n",
       "      <td>...</td>\n",
       "      <td>...</td>\n",
       "      <td>...</td>\n",
       "    </tr>\n",
       "    <tr>\n",
       "      <th>115</th>\n",
       "      <td>Incongruent</td>\n",
       "      <td>Not Shown</td>\n",
       "      <td>0.488346</td>\n",
       "      <td>2.234700</td>\n",
       "      <td>26</td>\n",
       "    </tr>\n",
       "    <tr>\n",
       "      <th>116</th>\n",
       "      <td>Incongruent</td>\n",
       "      <td>Not Shown</td>\n",
       "      <td>0.674306</td>\n",
       "      <td>2.375600</td>\n",
       "      <td>27</td>\n",
       "    </tr>\n",
       "    <tr>\n",
       "      <th>117</th>\n",
       "      <td>Incongruent</td>\n",
       "      <td>Not Shown</td>\n",
       "      <td>0.624130</td>\n",
       "      <td>4.223450</td>\n",
       "      <td>28</td>\n",
       "    </tr>\n",
       "    <tr>\n",
       "      <th>118</th>\n",
       "      <td>Incongruent</td>\n",
       "      <td>Not Shown</td>\n",
       "      <td>0.772222</td>\n",
       "      <td>6.255200</td>\n",
       "      <td>29</td>\n",
       "    </tr>\n",
       "    <tr>\n",
       "      <th>119</th>\n",
       "      <td>Incongruent</td>\n",
       "      <td>Not Shown</td>\n",
       "      <td>0.774444</td>\n",
       "      <td>3.632700</td>\n",
       "      <td>30</td>\n",
       "    </tr>\n",
       "  </tbody>\n",
       "</table>\n",
       "<p>120 rows × 5 columns</p>\n",
       "</div>"
      ],
      "text/plain": [
       "      Congruency   Presence    Rating        RT  Subject\n",
       "0      Congruent      Shown  0.153943  5.867490        1\n",
       "1      Congruent      Shown  0.293640  3.735756        2\n",
       "2      Congruent      Shown  0.211522  3.877300        3\n",
       "3      Congruent      Shown  0.177039  3.775100        4\n",
       "4      Congruent      Shown  0.152037  2.866630        5\n",
       "..           ...        ...       ...       ...      ...\n",
       "115  Incongruent  Not Shown  0.488346  2.234700       26\n",
       "116  Incongruent  Not Shown  0.674306  2.375600       27\n",
       "117  Incongruent  Not Shown  0.624130  4.223450       28\n",
       "118  Incongruent  Not Shown  0.772222  6.255200       29\n",
       "119  Incongruent  Not Shown  0.774444  3.632700       30\n",
       "\n",
       "[120 rows x 5 columns]"
      ]
     },
     "execution_count": 57,
     "metadata": {},
     "output_type": "execute_result"
    }
   ],
   "source": [
    "df_green_mean_anova"
   ]
  },
  {
   "cell_type": "code",
   "execution_count": 58,
   "id": "ba1439f0",
   "metadata": {
    "scrolled": true
   },
   "outputs": [
    {
     "name": "stdout",
     "output_type": "stream",
     "text": [
      "                  Source     SS  ddof1  ddof2     MS       F  p-unc   \n",
      "0             Congruency  1.851      1     29  1.851  33.092  0.000  \\\n",
      "1               Presence  1.395      1     29  1.395  67.819  0.000   \n",
      "2  Congruency * Presence  0.146      1     29  0.146   7.411  0.011   \n",
      "\n",
      "   p-GG-corr    np2  eps  \n",
      "0      0.000  0.533  1.0  \n",
      "1      0.000  0.700  1.0  \n",
      "2      0.011  0.204  1.0  \n"
     ]
    }
   ],
   "source": [
    "aov_rating_green = pg.rm_anova(dv='Rating',within=['Congruency', 'Presence'], subject='Subject', data=df_green_mean_anova, effsize=\"np2\")\n",
    "print(aov_rating_green.round(3))"
   ]
  },
  {
   "cell_type": "code",
   "execution_count": 59,
   "id": "67b62fef",
   "metadata": {
    "scrolled": true
   },
   "outputs": [
    {
     "data": {
      "image/png": "[encoded data removed]",
      "text/plain": [
       "<Figure size 432x288 with 1 Axes>"
      ]
     },
     "metadata": {
      "needs_background": "light"
     },
     "output_type": "display_data"
    }
   ],
   "source": [
    "ax = sns.pointplot(x=\"Congruency\", y=\"Rating\", hue=\"Presence\",\n",
    "                    data=df_green_mean_anova)"
   ]
  },
  {
   "cell_type": "markdown",
   "id": "f2b7f935",
   "metadata": {},
   "source": [
    "### pairwise comparisons for interaction (use Bonferroni corrected criterion for significance of p < .017)"
   ]
  },
  {
   "cell_type": "code",
   "execution_count": 60,
   "id": "ce98492c",
   "metadata": {},
   "outputs": [
    {
     "data": {
      "text/plain": [
       "Ttest_relResult(statistic=7.831854258499092, pvalue=1.2283385868182859e-08)"
      ]
     },
     "execution_count": 60,
     "metadata": {},
     "output_type": "execute_result"
    }
   ],
   "source": [
    "#t-test -> incongruent scale rate higher for scale not shown than scale shown\n",
    "from scipy import stats\n",
    "\n",
    "index = (df_green_mean_anova['Presence']=='Not Shown') & (df_green_mean_anova['Congruency']=='Incongruent')\n",
    "NI = df_green_mean_anova[index]['Rating'] \n",
    "\n",
    "index = (df_green_mean_anova['Presence']=='Shown') & (df_green_mean_anova['Congruency']=='Incongruent')\n",
    "SI = df_green_mean_anova[index]['Rating']\n",
    "\n",
    "stats.ttest_rel(NI, SI) #significant"
   ]
  },
  {
   "cell_type": "code",
   "execution_count": 61,
   "id": "1bebdc7e",
   "metadata": {},
   "outputs": [
    {
     "data": {
      "text/plain": [
       "1.5224055381856505"
      ]
     },
     "execution_count": 61,
     "metadata": {},
     "output_type": "execute_result"
    }
   ],
   "source": [
    "cohen_d = pg.compute_effsize(NI, SI, paired=True, eftype='cohen')\n",
    "cohen_d"
   ]
  },
  {
   "cell_type": "code",
   "execution_count": 62,
   "id": "35adb39a",
   "metadata": {},
   "outputs": [
    {
     "data": {
      "text/plain": [
       "Ttest_relResult(statistic=3.955826412938073, pvalue=0.0004509904300495923)"
      ]
     },
     "execution_count": 62,
     "metadata": {},
     "output_type": "execute_result"
    }
   ],
   "source": [
    "#t-test -> congruent scale rate no difference for scale not shown and scale shown\n",
    "from scipy import stats\n",
    "\n",
    "index = (df_green_mean_anova['Presence']=='Not Shown') & (df_green_mean_anova['Congruency']=='Congruent')\n",
    "NC = df_green_mean_anova[index]['Rating'] \n",
    "\n",
    "index = (df_green_mean_anova['Presence']=='Shown') & (df_green_mean_anova['Congruency']=='Congruent')\n",
    "SC = df_green_mean_anova[index]['Rating']\n",
    "\n",
    "stats.ttest_rel(NC, SC) #significant, there is a difference, visible ones have lower rate than invisible ones"
   ]
  },
  {
   "cell_type": "code",
   "execution_count": 63,
   "id": "319bd321",
   "metadata": {},
   "outputs": [
    {
     "data": {
      "text/plain": [
       "1.0247908393269172"
      ]
     },
     "execution_count": 63,
     "metadata": {},
     "output_type": "execute_result"
    }
   ],
   "source": [
    "cohen_d = pg.compute_effsize(NC, SC, paired=True, eftype='cohen')\n",
    "cohen_d"
   ]
  },
  {
   "cell_type": "code",
   "execution_count": 64,
   "id": "a580b784",
   "metadata": {},
   "outputs": [
    {
     "data": {
      "text/plain": [
       "Ttest_relResult(statistic=-4.12726216059593, pvalue=0.0002828801542283988)"
      ]
     },
     "execution_count": 64,
     "metadata": {},
     "output_type": "execute_result"
    }
   ],
   "source": [
    "#t-test -> scales that are shown rate no difference for congruent and incongruent ones\n",
    "from scipy import stats\n",
    "\n",
    "index = (df_green_mean_anova['Presence']=='Shown') & (df_green_mean_anova['Congruency']=='Congruent')\n",
    "SC = df_green_mean_anova[index]['Rating'] \n",
    "\n",
    "index = (df_green_mean_anova['Presence']=='Shown') & (df_green_mean_anova['Congruency']=='Incongruent')\n",
    "SI = df_green_mean_anova[index]['Rating']\n",
    "\n",
    "stats.ttest_rel(SC, SI) #significant, there is a difference, congruent ones rate lower than incongruent ones"
   ]
  },
  {
   "cell_type": "code",
   "execution_count": 65,
   "id": "4894da52",
   "metadata": {},
   "outputs": [
    {
     "data": {
      "text/plain": [
       "-1.0737968818573251"
      ]
     },
     "execution_count": 65,
     "metadata": {},
     "output_type": "execute_result"
    }
   ],
   "source": [
    "cohen_d = pg.compute_effsize(SC, SI, paired=True, eftype='cohen')\n",
    "cohen_d"
   ]
  },
  {
   "cell_type": "markdown",
   "id": "35b937e3",
   "metadata": {},
   "source": [
    "## Green: RT ANOVA"
   ]
  },
  {
   "cell_type": "code",
   "execution_count": 66,
   "id": "3d556b45",
   "metadata": {
    "scrolled": true
   },
   "outputs": [
    {
     "data": {
      "text/plain": [
       "cs    7.447141\n",
       "cn    6.609961\n",
       "is    7.455120\n",
       "in    5.974645\n",
       "dtype: float64"
      ]
     },
     "execution_count": 66,
     "metadata": {},
     "output_type": "execute_result"
    }
   ],
   "source": [
    "df_rt_green_mean.mean()"
   ]
  },
  {
   "cell_type": "code",
   "execution_count": 67,
   "id": "64da114c",
   "metadata": {},
   "outputs": [
    {
     "data": {
      "text/plain": [
       "cs    6.259620\n",
       "cn    6.837392\n",
       "is    4.138913\n",
       "in    4.274129\n",
       "dtype: float64"
      ]
     },
     "execution_count": 67,
     "metadata": {},
     "output_type": "execute_result"
    }
   ],
   "source": [
    "df_rt_green_mean.std()"
   ]
  },
  {
   "cell_type": "code",
   "execution_count": 68,
   "id": "e1b1cfb5",
   "metadata": {},
   "outputs": [
    {
     "data": {
      "image/png": "[encoded data removed]",
      "text/plain": [
       "<Figure size 432x288 with 1 Axes>"
      ]
     },
     "metadata": {
      "needs_background": "light"
     },
     "output_type": "display_data"
    }
   ],
   "source": [
    "df_rt_green_mean.mean().plot(kind=\"bar\", yerr=df_rt_green_mean.std(), alpha=0.5, capsize=10)\n",
    "plt.xlabel('Scale Congruency x Scale Presence')\n",
    "plt.xticks([0, 1, 2, 3], ['Congruent\\nShown', 'Congurent\\nNow Shown', 'Incongruent\\nShown', 'Incongruent\\nNot Shown'], rotation=45)\n",
    "plt.show()"
   ]
  },
  {
   "cell_type": "code",
   "execution_count": 69,
   "id": "acdc9f51",
   "metadata": {},
   "outputs": [
    {
     "name": "stdout",
     "output_type": "stream",
     "text": [
      "                  Source      SS  ddof1  ddof2      MS      F  p-unc   \n",
      "0             Congruency   2.952      1     29   2.952  0.093  0.763  \\\n",
      "1               Presence  40.286      1     29  40.286  5.534  0.026   \n",
      "2  Congruency * Presence   3.104      1     29   3.104  0.338  0.566   \n",
      "\n",
      "   p-GG-corr    np2  eps  \n",
      "0      0.763  0.003  1.0  \n",
      "1      0.026  0.160  1.0  \n",
      "2      0.566  0.012  1.0  \n"
     ]
    }
   ],
   "source": [
    "aov_rt_green = pg.rm_anova(dv='RT',within=['Congruency', 'Presence'], subject='Subject', data=df_green_mean_anova, effsize=\"np2\")\n",
    "print(aov_rt_green.round(3))"
   ]
  },
  {
   "cell_type": "code",
   "execution_count": 70,
   "id": "33ad2460",
   "metadata": {
    "scrolled": true
   },
   "outputs": [
    {
     "data": {
      "image/png": "[encoded data removed]",
      "text/plain": [
       "<Figure size 432x288 with 1 Axes>"
      ]
     },
     "metadata": {
      "needs_background": "light"
     },
     "output_type": "display_data"
    }
   ],
   "source": [
    "ax = sns.pointplot(x=\"Congruency\", y=\"RT\", hue=\"Presence\",\n",
    "                    data=df_green_mean_anova)"
   ]
  },
  {
   "cell_type": "markdown",
   "id": "9dcfbd04",
   "metadata": {},
   "source": [
    "# ANOVA Summary"
   ]
  },
  {
   "cell_type": "markdown",
   "id": "5927d15b",
   "metadata": {},
   "source": [
    "As for maps asking to rate red (congruent) region:\n",
    "1. Rating\n",
    "    \n",
    "    a. Congruency of the scale: significant (congruent > incongruent)\n",
    "    \n",
    "    b. Presence of the scale: significant (shown > not shown)\n",
    "    \n",
    "    c. Interaction between congruency and presence: significant\n",
    "        \n",
    "        - incongruent scale rate higher for scale not shown than scale shown\n",
    "        - congruent scale rate higher for visible ones than invisible ones\n",
    "        - scale that are not shown rate higher for congruent ones than incongruent ones\n",
    "2. RT\n",
    "    \n",
    "    a. Presence of the scale: significant (shown > not shown)"
   ]
  },
  {
   "cell_type": "markdown",
   "id": "334351af",
   "metadata": {},
   "source": [
    "As for maps asking to rate green (congruent) region:\n",
    "1. Rating\n",
    "\n",
    "    a. Congruency of the scale: significant (congruent < incongruent)\n",
    "    \n",
    "    b. Presence of the scale: significant (shown < not shown)\n",
    "    \n",
    "    c. Interaction between congruency and presence: significant\n",
    "        \n",
    "        - incongruent scale rate lower for scale not shown than scale shown\n",
    "        - congruent scale rate lower for visible ones than invisible ones\n",
    "        - scale that are not shown rate lower for congruent ones than incongruent ones\n",
    "2. RT\n",
    "    \n",
    "    a. Presence of the scale: significant (shown > not shown)"
   ]
  },
  {
   "cell_type": "markdown",
   "id": "42be691a",
   "metadata": {},
   "source": [
    "## Additional Question: preference of the scale (A. Congruent or B. Incongruent)"
   ]
  },
  {
   "cell_type": "code",
   "execution_count": 71,
   "id": "bc3322e0",
   "metadata": {},
   "outputs": [
    {
     "name": "stdout",
     "output_type": "stream",
     "text": [
      "27 3\n",
      "0.9 0.1\n"
     ]
    }
   ],
   "source": [
    "scale_list = []\n",
    "for label in participant_labels:\n",
    "    df_scale = anova_data[\"scale_slider.response\"].loc[anova_data[\"participant\"] == label]\n",
    "    scale_list.append(df_scale.dropna().unique()[0])\n",
    "    \n",
    "set(scale_list)\n",
    "A_count = scale_list.count(2.0)\n",
    "B_count = scale_list.count(1.0)\n",
    "\n",
    "print(A_count, B_count)\n",
    "print(A_count/len(scale_list), B_count/len(scale_list))"
   ]
  },
  {
   "cell_type": "markdown",
   "id": "b3473b41",
   "metadata": {},
   "source": [
    "# Demographic Information"
   ]
  },
  {
   "cell_type": "markdown",
   "id": "698ba7f4",
   "metadata": {},
   "source": [
    "## Gender"
   ]
  },
  {
   "cell_type": "code",
   "execution_count": 72,
   "id": "63d90478",
   "metadata": {},
   "outputs": [
    {
     "name": "stdout",
     "output_type": "stream",
     "text": [
      "18 12\n",
      "0.6 0.4\n"
     ]
    }
   ],
   "source": [
    "gender_list = []\n",
    "for label in participant_labels:\n",
    "    df_gender = anova_data[\"genderResp1.response\"].loc[anova_data[\"participant\"] == label]\n",
    "    gender_list.append(df_gender.dropna().unique()[0])\n",
    "    \n",
    "set(gender_list)\n",
    "female_count = gender_list.count(5.0)\n",
    "male_count = gender_list.count(4.0)\n",
    "print(female_count, male_count)\n",
    "print(female_count/len(gender_list), male_count/len(gender_list))"
   ]
  },
  {
   "cell_type": "markdown",
   "id": "51a955c0",
   "metadata": {},
   "source": [
    "## Age"
   ]
  },
  {
   "cell_type": "code",
   "execution_count": 73,
   "id": "dde7660a",
   "metadata": {},
   "outputs": [
    {
     "data": {
      "text/plain": [
       "(23.103448275862068, 4.603932558796371)"
      ]
     },
     "execution_count": 73,
     "metadata": {},
     "output_type": "execute_result"
    }
   ],
   "source": [
    "age_list = []\n",
    "for label in participant_labels:\n",
    "    df_age = anova_data[\"ageResp.text\"].loc[anova_data[\"participant\"] == label]\n",
    "    age_list.append(list(df_age.dropna())[0])\n",
    "\n",
    "age_list.remove(2001) #outlier\n",
    "\n",
    "age_mean = np.mean(age_list)\n",
    "age_std = np.std(age_list)\n",
    "age_mean, age_std"
   ]
  },
  {
   "cell_type": "markdown",
   "id": "05faa1cc",
   "metadata": {},
   "source": [
    "## Education"
   ]
  },
  {
   "cell_type": "code",
   "execution_count": 74,
   "id": "341748cf",
   "metadata": {},
   "outputs": [
    {
     "name": "stdout",
     "output_type": "stream",
     "text": [
      "1 7 12 10\n",
      "0.03333333333333333 0.23333333333333334 0.4 0.3333333333333333\n"
     ]
    }
   ],
   "source": [
    "edu_list = []\n",
    "for label in participant_labels:\n",
    "    df_edu = anova_data[\"edu_slider.response\"].loc[anova_data[\"participant\"] == label]\n",
    "    edu_list.append(list(df_edu.dropna())[0])\n",
    "\n",
    "set(edu_list)\n",
    "doc_count = edu_list.count(2.0)\n",
    "msc_count = edu_list.count(3.0)\n",
    "bsc_count = edu_list.count(4.0)\n",
    "high_count = edu_list.count(6.0)\n",
    "\n",
    "print(doc_count, msc_count, bsc_count, high_count)\n",
    "print(doc_count/len(edu_list), msc_count/len(edu_list), bsc_count/len(edu_list), high_count/len(edu_list))"
   ]
  },
  {
   "cell_type": "markdown",
   "id": "27f86bad",
   "metadata": {},
   "source": [
    "# Total Duration"
   ]
  },
  {
   "cell_type": "code",
   "execution_count": 75,
   "id": "56c93caf",
   "metadata": {},
   "outputs": [
    {
     "data": {
      "text/plain": [
       "(18.006432972221724, 11.80386107501103)"
      ]
     },
     "execution_count": 75,
     "metadata": {},
     "output_type": "execute_result"
    }
   ],
   "source": [
    "time_list = []\n",
    "for label in participant_labels:\n",
    "    df_time = anova_data[\"total_duration\"].loc[anova_data[\"participant\"] == label]\n",
    "    time_list.append(list(df_time.dropna())[0])\n",
    "\n",
    "time_mean = np.mean(time_list)\n",
    "time_std = np.std(time_list)\n",
    "time_mean/60, time_std/60 #in minutes"
   ]
  },
  {
   "cell_type": "code",
   "execution_count": null,
   "id": "9be9fed3",
   "metadata": {},
   "outputs": [],
   "source": []
  }
 ],
 "metadata": {
  "kernelspec": {
   "display_name": "Python 3 (ipykernel)",
   "language": "python",
   "name": "python3"
  },
  "language_info": {
   "codemirror_mode": {
    "name": "ipython",
    "version": 3
   },
   "file_extension": ".py",
   "mimetype": "text/x-python",
   "name": "python",
   "nbconvert_exporter": "python",
   "pygments_lexer": "ipython3",
   "version": "3.9.7"
  }
 },
 "nbformat": 4,
 "nbformat_minor": 5
}
