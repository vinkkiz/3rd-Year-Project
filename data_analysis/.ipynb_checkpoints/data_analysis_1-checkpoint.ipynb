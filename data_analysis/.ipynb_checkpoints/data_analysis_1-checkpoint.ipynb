{
 "cells": [
  {
   "cell_type": "code",
   "execution_count": 1,
   "id": "8871ff7c",
   "metadata": {},
   "outputs": [],
   "source": [
    "import pandas as pd\n",
    "import numpy as np\n",
    "import math\n",
    "from numpy import nan"
   ]
  },
  {
   "cell_type": "code",
   "execution_count": 2,
   "id": "db3d2cb9",
   "metadata": {},
   "outputs": [],
   "source": [
    "anova_data = pd.read_csv(\"Database_AllParticipants.csv\")"
   ]
  },
  {
   "cell_type": "code",
   "execution_count": 3,
   "id": "5db28774",
   "metadata": {},
   "outputs": [],
   "source": [
    "df = anova_data[['participant', 'file_name', 'slider.response', 'slider.rt', 'spacebar_continue.rt', 'scale_slider.response']]"
   ]
  },
  {
   "cell_type": "code",
   "execution_count": 4,
   "id": "ec8487dd",
   "metadata": {},
   "outputs": [],
   "source": [
    "def get_participant_labels(df):\n",
    "    participant = df['participant'].unique()\n",
    "    participant_labels = np.ndarray.tolist(participant)\n",
    "    participant_labels.remove(\"test\")\n",
    "    \n",
    "    return participant_labels"
   ]
  },
  {
   "cell_type": "code",
   "execution_count": 5,
   "id": "3a8c8240",
   "metadata": {},
   "outputs": [],
   "source": [
    "def extact_ratings_and_rt(df, participant_label):\n",
    "    df_N = df.loc[df['participant'] == participant_label]\n",
    "    df_N_ratings = df_N[['file_name', 'slider.response', 'slider.rt', 'spacebar_continue.rt']]\n",
    "    df_N_ratings = df_N_ratings.dropna()\n",
    "    \n",
    "    df_N_ratings['rating_rt'] = df_N_ratings['slider.rt'] + df_N_ratings['spacebar_continue.rt']\n",
    "    df_N_ratings = df_N_ratings.drop(['slider.rt', 'spacebar_continue.rt'], axis=1)\n",
    "    \n",
    "    return df_N_ratings"
   ]
  },
  {
   "cell_type": "code",
   "execution_count": 6,
   "id": "b3dec050",
   "metadata": {},
   "outputs": [],
   "source": [
    "def split_red_and_green(df_N_ratings):\n",
    "    df_N_red = df_N_ratings[df_N_ratings['file_name'].str.match(r'([1-9]|1[0])[ci][sn]$')== True]\n",
    "    df_N_green = df_N_ratings[df_N_ratings['file_name'].str.match(r'(([1][1-9])|[2][0])[ci][sn]$')== True]\n",
    "    \n",
    "    return df_N_red, df_N_green"
   ]
  },
  {
   "cell_type": "code",
   "execution_count": 7,
   "id": "a5bf06a8",
   "metadata": {},
   "outputs": [],
   "source": [
    "def get_red_average(df_N_red, participant_label):\n",
    "#     df_rating_red_mean = pd.DataFrame(columns = [\"cs\", \"cn\", \"is\", \"in\"])\n",
    "#     df_rt_red_mean = pd.DataFrame(columns = [\"cs\", \"cn\", \"is\", \"in\"])\n",
    "    \n",
    "    df_N_red_cs = df_N_red[df_N_red['file_name'].str.match(r'\\d+[c][s]$')== True]\n",
    "    df_N_red_cn = df_N_red[df_N_red['file_name'].str.match(r'\\d+[c][n]$')== True]\n",
    "    df_N_red_is = df_N_red[df_N_red['file_name'].str.match(r'\\d+[i][s]$')== True]\n",
    "    df_N_red_in = df_N_red[df_N_red['file_name'].str.match(r'\\d+[i][n]$')== True]\n",
    "    \n",
    "    df_N_red_cs_mean = df_N_red_cs[['slider.response', 'rating_rt']].mean()\n",
    "    df_N_red_cn_mean = df_N_red_cn[['slider.response', 'rating_rt']].mean()\n",
    "    df_N_red_is_mean = df_N_red_is[['slider.response', 'rating_rt']].mean()\n",
    "    df_N_red_in_mean = df_N_red_in[['slider.response', 'rating_rt']].mean()\n",
    "    \n",
    "    cs_mean = df_N_red_cs_mean.tolist()\n",
    "    cn_mean = df_N_red_cn_mean.tolist()\n",
    "    is_mean = df_N_red_is_mean.tolist()\n",
    "    in_mean = df_N_red_in_mean.tolist()\n",
    "    \n",
    "#     rating_mean_list = [[cs_mean[0], cn_mean[0], is_mean[0], in_mean[0]]]\n",
    "#     rt_mean_list = [[cs_mean[1], cn_mean[1], is_mean[1], in_mean[1]]]\n",
    "#     mean_columns = [\"cs\", \"cn\", \"is\", \"in\"]\n",
    "\n",
    "    global df_rating_red_mean\n",
    "    global df_rt_red_mean\n",
    "    df_rating_red_mean = df_rating_red_mean.append({'cs' : cs_mean[0], 'cn': cn_mean[0], 'is' : is_mean[0], 'in' : in_mean[0]}, ignore_index = True)\n",
    "    df_rt_red_mean = df_rt_red_mean.append({'cs' : cs_mean[1], 'cn': cn_mean[1], 'is' : is_mean[1], 'in' : in_mean[1]}, ignore_index = True)\n",
    "    \n",
    "#     print(df_rating_red_mean)"
   ]
  },
  {
   "cell_type": "code",
   "execution_count": 8,
   "id": "975614dc",
   "metadata": {},
   "outputs": [],
   "source": [
    "def get_green_average(df_N_red, participant_label):\n",
    "#     df_rating_red_mean = pd.DataFrame(columns = [\"cs\", \"cn\", \"is\", \"in\"])\n",
    "#     df_rt_red_mean = pd.DataFrame(columns = [\"cs\", \"cn\", \"is\", \"in\"])\n",
    "    \n",
    "    df_N_red_cs = df_N_red[df_N_red['file_name'].str.match(r'\\d+[c][s]$')== True]\n",
    "    df_N_red_cn = df_N_red[df_N_red['file_name'].str.match(r'\\d+[c][n]$')== True]\n",
    "    df_N_red_is = df_N_red[df_N_red['file_name'].str.match(r'\\d+[i][s]$')== True]\n",
    "    df_N_red_in = df_N_red[df_N_red['file_name'].str.match(r'\\d+[i][n]$')== True]\n",
    "    \n",
    "    df_N_red_cs_mean = df_N_red_cs[['slider.response', 'rating_rt']].mean()\n",
    "    df_N_red_cn_mean = df_N_red_cn[['slider.response', 'rating_rt']].mean()\n",
    "    df_N_red_is_mean = df_N_red_is[['slider.response', 'rating_rt']].mean()\n",
    "    df_N_red_in_mean = df_N_red_in[['slider.response', 'rating_rt']].mean()\n",
    "    \n",
    "    cs_mean = df_N_red_cs_mean.tolist()\n",
    "    cn_mean = df_N_red_cn_mean.tolist()\n",
    "    is_mean = df_N_red_is_mean.tolist()\n",
    "    in_mean = df_N_red_in_mean.tolist()\n",
    "    \n",
    "#     rating_mean_list = [[cs_mean[0], cn_mean[0], is_mean[0], in_mean[0]]]\n",
    "#     rt_mean_list = [[cs_mean[1], cn_mean[1], is_mean[1], in_mean[1]]]\n",
    "#     mean_columns = [\"cs\", \"cn\", \"is\", \"in\"]\n",
    "\n",
    "    global df_rating_green_mean\n",
    "    global df_rt_green_mean\n",
    "    df_rating_green_mean = df_rating_green_mean.append({'cs' : cs_mean[0], 'cn': cn_mean[0], 'is' : is_mean[0], 'in' : in_mean[0]}, ignore_index = True)\n",
    "    df_rt_green_mean = df_rt_green_mean.append({'cs' : cs_mean[1], 'cn': cn_mean[1], 'is' : is_mean[1], 'in' : in_mean[1]}, ignore_index = True)\n",
    "    \n",
    "#     print(df_rating_red_mean)"
   ]
  },
  {
   "cell_type": "code",
   "execution_count": null,
   "id": "ee20af02",
   "metadata": {},
   "outputs": [],
   "source": []
  },
  {
   "cell_type": "code",
   "execution_count": 11,
   "id": "7c6d71ce",
   "metadata": {},
   "outputs": [],
   "source": [
    "anova_data = pd.read_csv(\"Database_AllParticipants.csv\")\n",
    "df = anova_data[['participant', 'file_name', 'slider.response', 'slider.rt', 'spacebar_continue.rt', 'scale_slider.response']]\n",
    "\n",
    "participant_labels = get_participant_labels(df)\n",
    "\n",
    "df_rating_red_mean = pd.DataFrame(columns = [\"cs\", \"cn\", \"is\", \"in\"])\n",
    "df_rt_red_mean = pd.DataFrame(columns = [\"cs\", \"cn\", \"is\", \"in\"])\n",
    "df_rating_green_mean = pd.DataFrame(columns = [\"cs\", \"cn\", \"is\", \"in\"])\n",
    "df_rt_green_mean = pd.DataFrame(columns = [\"cs\", \"cn\", \"is\", \"in\"])\n",
    "\n",
    "for participant_label in participant_labels:\n",
    "    df_N_ratings = extact_ratings_and_rt(df, participant_label)\n",
    "    df_N_red, df_N_green = split_red_and_green(df_N_ratings)\n",
    "    get_red_average(df_N_red, participant_label)\n",
    "    get_green_average(df_N_green, participant_label)"
   ]
  },
  {
   "cell_type": "code",
   "execution_count": 12,
   "id": "a2c3001c",
   "metadata": {},
   "outputs": [
    {
     "data": {
      "text/html": [
       "<div>\n",
       "<style scoped>\n",
       "    .dataframe tbody tr th:only-of-type {\n",
       "        vertical-align: middle;\n",
       "    }\n",
       "\n",
       "    .dataframe tbody tr th {\n",
       "        vertical-align: top;\n",
       "    }\n",
       "\n",
       "    .dataframe thead th {\n",
       "        text-align: right;\n",
       "    }\n",
       "</style>\n",
       "<table border=\"1\" class=\"dataframe\">\n",
       "  <thead>\n",
       "    <tr style=\"text-align: right;\">\n",
       "      <th></th>\n",
       "      <th>cs</th>\n",
       "      <th>cn</th>\n",
       "      <th>is</th>\n",
       "      <th>in</th>\n",
       "    </tr>\n",
       "  </thead>\n",
       "  <tbody>\n",
       "    <tr>\n",
       "      <th>0</th>\n",
       "      <td>1.845826</td>\n",
       "      <td>1.788843</td>\n",
       "      <td>1.548142</td>\n",
       "      <td>1.165551</td>\n",
       "    </tr>\n",
       "    <tr>\n",
       "      <th>1</th>\n",
       "      <td>1.749013</td>\n",
       "      <td>1.689145</td>\n",
       "      <td>1.271053</td>\n",
       "      <td>1.242544</td>\n",
       "    </tr>\n",
       "    <tr>\n",
       "      <th>2</th>\n",
       "      <td>1.626957</td>\n",
       "      <td>1.544565</td>\n",
       "      <td>1.799348</td>\n",
       "      <td>1.345000</td>\n",
       "    </tr>\n",
       "    <tr>\n",
       "      <th>3</th>\n",
       "      <td>1.849073</td>\n",
       "      <td>1.760368</td>\n",
       "      <td>1.848823</td>\n",
       "      <td>1.706770</td>\n",
       "    </tr>\n",
       "    <tr>\n",
       "      <th>4</th>\n",
       "      <td>1.817222</td>\n",
       "      <td>1.821481</td>\n",
       "      <td>1.743889</td>\n",
       "      <td>1.122037</td>\n",
       "    </tr>\n",
       "    <tr>\n",
       "      <th>5</th>\n",
       "      <td>1.761750</td>\n",
       "      <td>1.496750</td>\n",
       "      <td>1.738500</td>\n",
       "      <td>1.410250</td>\n",
       "    </tr>\n",
       "    <tr>\n",
       "      <th>6</th>\n",
       "      <td>1.765111</td>\n",
       "      <td>1.764444</td>\n",
       "      <td>1.494667</td>\n",
       "      <td>1.195556</td>\n",
       "    </tr>\n",
       "    <tr>\n",
       "      <th>7</th>\n",
       "      <td>1.818394</td>\n",
       "      <td>1.533201</td>\n",
       "      <td>1.837122</td>\n",
       "      <td>1.417952</td>\n",
       "    </tr>\n",
       "    <tr>\n",
       "      <th>8</th>\n",
       "      <td>1.836900</td>\n",
       "      <td>1.866700</td>\n",
       "      <td>1.187800</td>\n",
       "      <td>1.156200</td>\n",
       "    </tr>\n",
       "    <tr>\n",
       "      <th>9</th>\n",
       "      <td>1.829425</td>\n",
       "      <td>1.809152</td>\n",
       "      <td>1.122783</td>\n",
       "      <td>1.119215</td>\n",
       "    </tr>\n",
       "    <tr>\n",
       "      <th>10</th>\n",
       "      <td>1.754639</td>\n",
       "      <td>1.617526</td>\n",
       "      <td>1.654639</td>\n",
       "      <td>1.289175</td>\n",
       "    </tr>\n",
       "    <tr>\n",
       "      <th>11</th>\n",
       "      <td>1.804667</td>\n",
       "      <td>1.839333</td>\n",
       "      <td>1.102000</td>\n",
       "      <td>1.142444</td>\n",
       "    </tr>\n",
       "    <tr>\n",
       "      <th>12</th>\n",
       "      <td>1.812375</td>\n",
       "      <td>1.805125</td>\n",
       "      <td>1.575500</td>\n",
       "      <td>1.282625</td>\n",
       "    </tr>\n",
       "    <tr>\n",
       "      <th>13</th>\n",
       "      <td>1.681296</td>\n",
       "      <td>1.316852</td>\n",
       "      <td>1.799259</td>\n",
       "      <td>1.603148</td>\n",
       "    </tr>\n",
       "    <tr>\n",
       "      <th>14</th>\n",
       "      <td>1.850948</td>\n",
       "      <td>1.725900</td>\n",
       "      <td>1.626711</td>\n",
       "      <td>1.450313</td>\n",
       "    </tr>\n",
       "    <tr>\n",
       "      <th>15</th>\n",
       "      <td>1.830259</td>\n",
       "      <td>1.486253</td>\n",
       "      <td>1.836922</td>\n",
       "      <td>1.518016</td>\n",
       "    </tr>\n",
       "    <tr>\n",
       "      <th>16</th>\n",
       "      <td>1.797037</td>\n",
       "      <td>1.520926</td>\n",
       "      <td>1.865370</td>\n",
       "      <td>1.637963</td>\n",
       "    </tr>\n",
       "    <tr>\n",
       "      <th>17</th>\n",
       "      <td>1.843148</td>\n",
       "      <td>1.646111</td>\n",
       "      <td>1.841852</td>\n",
       "      <td>1.505000</td>\n",
       "    </tr>\n",
       "    <tr>\n",
       "      <th>18</th>\n",
       "      <td>1.846812</td>\n",
       "      <td>1.844929</td>\n",
       "      <td>1.144901</td>\n",
       "      <td>1.115334</td>\n",
       "    </tr>\n",
       "    <tr>\n",
       "      <th>19</th>\n",
       "      <td>1.631606</td>\n",
       "      <td>1.586431</td>\n",
       "      <td>1.064223</td>\n",
       "      <td>1.089701</td>\n",
       "    </tr>\n",
       "    <tr>\n",
       "      <th>20</th>\n",
       "      <td>1.902222</td>\n",
       "      <td>1.387593</td>\n",
       "      <td>1.883148</td>\n",
       "      <td>1.342963</td>\n",
       "    </tr>\n",
       "    <tr>\n",
       "      <th>21</th>\n",
       "      <td>1.715417</td>\n",
       "      <td>1.463750</td>\n",
       "      <td>1.711667</td>\n",
       "      <td>1.497500</td>\n",
       "    </tr>\n",
       "    <tr>\n",
       "      <th>22</th>\n",
       "      <td>1.843226</td>\n",
       "      <td>1.843262</td>\n",
       "      <td>1.160432</td>\n",
       "      <td>1.170221</td>\n",
       "    </tr>\n",
       "    <tr>\n",
       "      <th>23</th>\n",
       "      <td>1.802963</td>\n",
       "      <td>1.725741</td>\n",
       "      <td>1.816296</td>\n",
       "      <td>1.292593</td>\n",
       "    </tr>\n",
       "    <tr>\n",
       "      <th>24</th>\n",
       "      <td>1.848832</td>\n",
       "      <td>1.828205</td>\n",
       "      <td>1.683021</td>\n",
       "      <td>1.184312</td>\n",
       "    </tr>\n",
       "    <tr>\n",
       "      <th>25</th>\n",
       "      <td>1.887252</td>\n",
       "      <td>1.532719</td>\n",
       "      <td>1.942313</td>\n",
       "      <td>1.424580</td>\n",
       "    </tr>\n",
       "    <tr>\n",
       "      <th>26</th>\n",
       "      <td>1.884444</td>\n",
       "      <td>1.599583</td>\n",
       "      <td>1.835139</td>\n",
       "      <td>1.623333</td>\n",
       "    </tr>\n",
       "    <tr>\n",
       "      <th>27</th>\n",
       "      <td>1.815731</td>\n",
       "      <td>1.639411</td>\n",
       "      <td>1.870648</td>\n",
       "      <td>1.511762</td>\n",
       "    </tr>\n",
       "    <tr>\n",
       "      <th>28</th>\n",
       "      <td>1.831556</td>\n",
       "      <td>1.820222</td>\n",
       "      <td>1.591778</td>\n",
       "      <td>1.194667</td>\n",
       "    </tr>\n",
       "    <tr>\n",
       "      <th>29</th>\n",
       "      <td>1.829778</td>\n",
       "      <td>1.805333</td>\n",
       "      <td>1.824444</td>\n",
       "      <td>1.198444</td>\n",
       "    </tr>\n",
       "  </tbody>\n",
       "</table>\n",
       "</div>"
      ],
      "text/plain": [
       "          cs        cn        is        in\n",
       "0   1.845826  1.788843  1.548142  1.165551\n",
       "1   1.749013  1.689145  1.271053  1.242544\n",
       "2   1.626957  1.544565  1.799348  1.345000\n",
       "3   1.849073  1.760368  1.848823  1.706770\n",
       "4   1.817222  1.821481  1.743889  1.122037\n",
       "5   1.761750  1.496750  1.738500  1.410250\n",
       "6   1.765111  1.764444  1.494667  1.195556\n",
       "7   1.818394  1.533201  1.837122  1.417952\n",
       "8   1.836900  1.866700  1.187800  1.156200\n",
       "9   1.829425  1.809152  1.122783  1.119215\n",
       "10  1.754639  1.617526  1.654639  1.289175\n",
       "11  1.804667  1.839333  1.102000  1.142444\n",
       "12  1.812375  1.805125  1.575500  1.282625\n",
       "13  1.681296  1.316852  1.799259  1.603148\n",
       "14  1.850948  1.725900  1.626711  1.450313\n",
       "15  1.830259  1.486253  1.836922  1.518016\n",
       "16  1.797037  1.520926  1.865370  1.637963\n",
       "17  1.843148  1.646111  1.841852  1.505000\n",
       "18  1.846812  1.844929  1.144901  1.115334\n",
       "19  1.631606  1.586431  1.064223  1.089701\n",
       "20  1.902222  1.387593  1.883148  1.342963\n",
       "21  1.715417  1.463750  1.711667  1.497500\n",
       "22  1.843226  1.843262  1.160432  1.170221\n",
       "23  1.802963  1.725741  1.816296  1.292593\n",
       "24  1.848832  1.828205  1.683021  1.184312\n",
       "25  1.887252  1.532719  1.942313  1.424580\n",
       "26  1.884444  1.599583  1.835139  1.623333\n",
       "27  1.815731  1.639411  1.870648  1.511762\n",
       "28  1.831556  1.820222  1.591778  1.194667\n",
       "29  1.829778  1.805333  1.824444  1.198444"
      ]
     },
     "execution_count": 12,
     "metadata": {},
     "output_type": "execute_result"
    }
   ],
   "source": [
    "df_rating_red_mean #data for ratings of red (congruent) regions"
   ]
  },
  {
   "cell_type": "code",
   "execution_count": 13,
   "id": "bcc81c56",
   "metadata": {},
   "outputs": [
    {
     "data": {
      "text/html": [
       "<div>\n",
       "<style scoped>\n",
       "    .dataframe tbody tr th:only-of-type {\n",
       "        vertical-align: middle;\n",
       "    }\n",
       "\n",
       "    .dataframe tbody tr th {\n",
       "        vertical-align: top;\n",
       "    }\n",
       "\n",
       "    .dataframe thead th {\n",
       "        text-align: right;\n",
       "    }\n",
       "</style>\n",
       "<table border=\"1\" class=\"dataframe\">\n",
       "  <thead>\n",
       "    <tr style=\"text-align: right;\">\n",
       "      <th></th>\n",
       "      <th>cs</th>\n",
       "      <th>cn</th>\n",
       "      <th>is</th>\n",
       "      <th>in</th>\n",
       "    </tr>\n",
       "  </thead>\n",
       "  <tbody>\n",
       "    <tr>\n",
       "      <th>0</th>\n",
       "      <td>1.153943</td>\n",
       "      <td>1.119655</td>\n",
       "      <td>1.357878</td>\n",
       "      <td>1.761429</td>\n",
       "    </tr>\n",
       "    <tr>\n",
       "      <th>1</th>\n",
       "      <td>1.293640</td>\n",
       "      <td>1.187281</td>\n",
       "      <td>1.661623</td>\n",
       "      <td>1.664474</td>\n",
       "    </tr>\n",
       "    <tr>\n",
       "      <th>2</th>\n",
       "      <td>1.211522</td>\n",
       "      <td>1.352826</td>\n",
       "      <td>1.158696</td>\n",
       "      <td>1.740000</td>\n",
       "    </tr>\n",
       "    <tr>\n",
       "      <th>3</th>\n",
       "      <td>1.177039</td>\n",
       "      <td>1.356698</td>\n",
       "      <td>1.339332</td>\n",
       "      <td>1.642678</td>\n",
       "    </tr>\n",
       "    <tr>\n",
       "      <th>4</th>\n",
       "      <td>1.152037</td>\n",
       "      <td>1.141111</td>\n",
       "      <td>1.208333</td>\n",
       "      <td>1.752593</td>\n",
       "    </tr>\n",
       "    <tr>\n",
       "      <th>5</th>\n",
       "      <td>1.148250</td>\n",
       "      <td>1.203250</td>\n",
       "      <td>1.165000</td>\n",
       "      <td>1.487500</td>\n",
       "    </tr>\n",
       "    <tr>\n",
       "      <th>6</th>\n",
       "      <td>1.151333</td>\n",
       "      <td>1.374000</td>\n",
       "      <td>1.432889</td>\n",
       "      <td>1.683556</td>\n",
       "    </tr>\n",
       "    <tr>\n",
       "      <th>7</th>\n",
       "      <td>1.245379</td>\n",
       "      <td>1.506392</td>\n",
       "      <td>1.197468</td>\n",
       "      <td>1.632087</td>\n",
       "    </tr>\n",
       "    <tr>\n",
       "      <th>8</th>\n",
       "      <td>1.196300</td>\n",
       "      <td>1.184200</td>\n",
       "      <td>1.791800</td>\n",
       "      <td>1.804100</td>\n",
       "    </tr>\n",
       "    <tr>\n",
       "      <th>9</th>\n",
       "      <td>1.140254</td>\n",
       "      <td>1.127134</td>\n",
       "      <td>1.765255</td>\n",
       "      <td>1.749702</td>\n",
       "    </tr>\n",
       "    <tr>\n",
       "      <th>10</th>\n",
       "      <td>1.175258</td>\n",
       "      <td>1.205670</td>\n",
       "      <td>1.376546</td>\n",
       "      <td>1.657990</td>\n",
       "    </tr>\n",
       "    <tr>\n",
       "      <th>11</th>\n",
       "      <td>1.172000</td>\n",
       "      <td>1.158444</td>\n",
       "      <td>1.722444</td>\n",
       "      <td>1.748444</td>\n",
       "    </tr>\n",
       "    <tr>\n",
       "      <th>12</th>\n",
       "      <td>1.251875</td>\n",
       "      <td>1.266625</td>\n",
       "      <td>1.215250</td>\n",
       "      <td>1.707125</td>\n",
       "    </tr>\n",
       "    <tr>\n",
       "      <th>13</th>\n",
       "      <td>1.339259</td>\n",
       "      <td>1.677037</td>\n",
       "      <td>1.228333</td>\n",
       "      <td>1.326481</td>\n",
       "    </tr>\n",
       "    <tr>\n",
       "      <th>14</th>\n",
       "      <td>1.101582</td>\n",
       "      <td>1.452160</td>\n",
       "      <td>1.236050</td>\n",
       "      <td>1.455670</td>\n",
       "    </tr>\n",
       "    <tr>\n",
       "      <th>15</th>\n",
       "      <td>1.200201</td>\n",
       "      <td>1.403162</td>\n",
       "      <td>1.246769</td>\n",
       "      <td>1.463217</td>\n",
       "    </tr>\n",
       "    <tr>\n",
       "      <th>16</th>\n",
       "      <td>1.163889</td>\n",
       "      <td>1.334815</td>\n",
       "      <td>1.300926</td>\n",
       "      <td>1.577222</td>\n",
       "    </tr>\n",
       "    <tr>\n",
       "      <th>17</th>\n",
       "      <td>1.145926</td>\n",
       "      <td>1.428704</td>\n",
       "      <td>1.228333</td>\n",
       "      <td>1.647407</td>\n",
       "    </tr>\n",
       "    <tr>\n",
       "      <th>18</th>\n",
       "      <td>1.149059</td>\n",
       "      <td>1.160098</td>\n",
       "      <td>1.774595</td>\n",
       "      <td>1.816944</td>\n",
       "    </tr>\n",
       "    <tr>\n",
       "      <th>19</th>\n",
       "      <td>1.068925</td>\n",
       "      <td>1.088507</td>\n",
       "      <td>1.643540</td>\n",
       "      <td>1.620291</td>\n",
       "    </tr>\n",
       "    <tr>\n",
       "      <th>20</th>\n",
       "      <td>1.107037</td>\n",
       "      <td>1.842593</td>\n",
       "      <td>1.127222</td>\n",
       "      <td>1.393333</td>\n",
       "    </tr>\n",
       "    <tr>\n",
       "      <th>21</th>\n",
       "      <td>1.148056</td>\n",
       "      <td>1.658194</td>\n",
       "      <td>1.229167</td>\n",
       "      <td>1.390000</td>\n",
       "    </tr>\n",
       "    <tr>\n",
       "      <th>22</th>\n",
       "      <td>1.204577</td>\n",
       "      <td>1.215475</td>\n",
       "      <td>1.798008</td>\n",
       "      <td>1.802996</td>\n",
       "    </tr>\n",
       "    <tr>\n",
       "      <th>23</th>\n",
       "      <td>1.196111</td>\n",
       "      <td>1.237963</td>\n",
       "      <td>1.285556</td>\n",
       "      <td>1.677407</td>\n",
       "    </tr>\n",
       "    <tr>\n",
       "      <th>24</th>\n",
       "      <td>1.180813</td>\n",
       "      <td>1.133719</td>\n",
       "      <td>1.210106</td>\n",
       "      <td>1.771111</td>\n",
       "    </tr>\n",
       "    <tr>\n",
       "      <th>25</th>\n",
       "      <td>1.053081</td>\n",
       "      <td>1.482192</td>\n",
       "      <td>1.090124</td>\n",
       "      <td>1.488346</td>\n",
       "    </tr>\n",
       "    <tr>\n",
       "      <th>26</th>\n",
       "      <td>1.246806</td>\n",
       "      <td>1.362500</td>\n",
       "      <td>1.143611</td>\n",
       "      <td>1.674306</td>\n",
       "    </tr>\n",
       "    <tr>\n",
       "      <th>27</th>\n",
       "      <td>1.142670</td>\n",
       "      <td>1.628586</td>\n",
       "      <td>1.353795</td>\n",
       "      <td>1.624130</td>\n",
       "    </tr>\n",
       "    <tr>\n",
       "      <th>28</th>\n",
       "      <td>1.263778</td>\n",
       "      <td>1.214222</td>\n",
       "      <td>1.239778</td>\n",
       "      <td>1.772222</td>\n",
       "    </tr>\n",
       "    <tr>\n",
       "      <th>29</th>\n",
       "      <td>1.206000</td>\n",
       "      <td>1.256889</td>\n",
       "      <td>1.216222</td>\n",
       "      <td>1.774444</td>\n",
       "    </tr>\n",
       "  </tbody>\n",
       "</table>\n",
       "</div>"
      ],
      "text/plain": [
       "          cs        cn        is        in\n",
       "0   1.153943  1.119655  1.357878  1.761429\n",
       "1   1.293640  1.187281  1.661623  1.664474\n",
       "2   1.211522  1.352826  1.158696  1.740000\n",
       "3   1.177039  1.356698  1.339332  1.642678\n",
       "4   1.152037  1.141111  1.208333  1.752593\n",
       "5   1.148250  1.203250  1.165000  1.487500\n",
       "6   1.151333  1.374000  1.432889  1.683556\n",
       "7   1.245379  1.506392  1.197468  1.632087\n",
       "8   1.196300  1.184200  1.791800  1.804100\n",
       "9   1.140254  1.127134  1.765255  1.749702\n",
       "10  1.175258  1.205670  1.376546  1.657990\n",
       "11  1.172000  1.158444  1.722444  1.748444\n",
       "12  1.251875  1.266625  1.215250  1.707125\n",
       "13  1.339259  1.677037  1.228333  1.326481\n",
       "14  1.101582  1.452160  1.236050  1.455670\n",
       "15  1.200201  1.403162  1.246769  1.463217\n",
       "16  1.163889  1.334815  1.300926  1.577222\n",
       "17  1.145926  1.428704  1.228333  1.647407\n",
       "18  1.149059  1.160098  1.774595  1.816944\n",
       "19  1.068925  1.088507  1.643540  1.620291\n",
       "20  1.107037  1.842593  1.127222  1.393333\n",
       "21  1.148056  1.658194  1.229167  1.390000\n",
       "22  1.204577  1.215475  1.798008  1.802996\n",
       "23  1.196111  1.237963  1.285556  1.677407\n",
       "24  1.180813  1.133719  1.210106  1.771111\n",
       "25  1.053081  1.482192  1.090124  1.488346\n",
       "26  1.246806  1.362500  1.143611  1.674306\n",
       "27  1.142670  1.628586  1.353795  1.624130\n",
       "28  1.263778  1.214222  1.239778  1.772222\n",
       "29  1.206000  1.256889  1.216222  1.774444"
      ]
     },
     "execution_count": 13,
     "metadata": {},
     "output_type": "execute_result"
    }
   ],
   "source": [
    "df_rating_green_mean #data for ratings of green (congruent) regions"
   ]
  },
  {
   "cell_type": "code",
   "execution_count": 14,
   "id": "adaf1b43",
   "metadata": {},
   "outputs": [
    {
     "data": {
      "text/html": [
       "<div>\n",
       "<style scoped>\n",
       "    .dataframe tbody tr th:only-of-type {\n",
       "        vertical-align: middle;\n",
       "    }\n",
       "\n",
       "    .dataframe tbody tr th {\n",
       "        vertical-align: top;\n",
       "    }\n",
       "\n",
       "    .dataframe thead th {\n",
       "        text-align: right;\n",
       "    }\n",
       "</style>\n",
       "<table border=\"1\" class=\"dataframe\">\n",
       "  <thead>\n",
       "    <tr style=\"text-align: right;\">\n",
       "      <th></th>\n",
       "      <th>cs</th>\n",
       "      <th>cn</th>\n",
       "      <th>is</th>\n",
       "      <th>in</th>\n",
       "    </tr>\n",
       "  </thead>\n",
       "  <tbody>\n",
       "    <tr>\n",
       "      <th>0</th>\n",
       "      <td>9.386340</td>\n",
       "      <td>9.328840</td>\n",
       "      <td>6.956080</td>\n",
       "      <td>6.857060</td>\n",
       "    </tr>\n",
       "    <tr>\n",
       "      <th>1</th>\n",
       "      <td>6.126758</td>\n",
       "      <td>6.849978</td>\n",
       "      <td>5.567882</td>\n",
       "      <td>7.777382</td>\n",
       "    </tr>\n",
       "    <tr>\n",
       "      <th>2</th>\n",
       "      <td>6.801600</td>\n",
       "      <td>5.264600</td>\n",
       "      <td>9.328200</td>\n",
       "      <td>3.553800</td>\n",
       "    </tr>\n",
       "    <tr>\n",
       "      <th>3</th>\n",
       "      <td>7.289760</td>\n",
       "      <td>3.768720</td>\n",
       "      <td>9.909080</td>\n",
       "      <td>5.019720</td>\n",
       "    </tr>\n",
       "    <tr>\n",
       "      <th>4</th>\n",
       "      <td>8.505440</td>\n",
       "      <td>18.630240</td>\n",
       "      <td>12.663540</td>\n",
       "      <td>11.338160</td>\n",
       "    </tr>\n",
       "    <tr>\n",
       "      <th>5</th>\n",
       "      <td>7.745200</td>\n",
       "      <td>10.523400</td>\n",
       "      <td>11.040600</td>\n",
       "      <td>9.971400</td>\n",
       "    </tr>\n",
       "    <tr>\n",
       "      <th>6</th>\n",
       "      <td>8.781400</td>\n",
       "      <td>3.935400</td>\n",
       "      <td>9.847000</td>\n",
       "      <td>3.930400</td>\n",
       "    </tr>\n",
       "    <tr>\n",
       "      <th>7</th>\n",
       "      <td>12.183440</td>\n",
       "      <td>12.050360</td>\n",
       "      <td>25.646320</td>\n",
       "      <td>9.951720</td>\n",
       "    </tr>\n",
       "    <tr>\n",
       "      <th>8</th>\n",
       "      <td>7.704200</td>\n",
       "      <td>7.402600</td>\n",
       "      <td>8.241820</td>\n",
       "      <td>6.278300</td>\n",
       "    </tr>\n",
       "    <tr>\n",
       "      <th>9</th>\n",
       "      <td>13.340980</td>\n",
       "      <td>6.636280</td>\n",
       "      <td>5.671180</td>\n",
       "      <td>6.927400</td>\n",
       "    </tr>\n",
       "    <tr>\n",
       "      <th>10</th>\n",
       "      <td>6.001600</td>\n",
       "      <td>8.938000</td>\n",
       "      <td>7.592400</td>\n",
       "      <td>5.309000</td>\n",
       "    </tr>\n",
       "    <tr>\n",
       "      <th>11</th>\n",
       "      <td>6.074200</td>\n",
       "      <td>16.548400</td>\n",
       "      <td>15.594800</td>\n",
       "      <td>5.559000</td>\n",
       "    </tr>\n",
       "    <tr>\n",
       "      <th>12</th>\n",
       "      <td>7.195060</td>\n",
       "      <td>6.736960</td>\n",
       "      <td>11.178360</td>\n",
       "      <td>9.058640</td>\n",
       "    </tr>\n",
       "    <tr>\n",
       "      <th>13</th>\n",
       "      <td>8.822820</td>\n",
       "      <td>10.247980</td>\n",
       "      <td>7.633460</td>\n",
       "      <td>6.521680</td>\n",
       "    </tr>\n",
       "    <tr>\n",
       "      <th>14</th>\n",
       "      <td>16.403520</td>\n",
       "      <td>4.562280</td>\n",
       "      <td>7.978860</td>\n",
       "      <td>4.313660</td>\n",
       "    </tr>\n",
       "    <tr>\n",
       "      <th>15</th>\n",
       "      <td>18.576670</td>\n",
       "      <td>9.533700</td>\n",
       "      <td>31.948740</td>\n",
       "      <td>22.842440</td>\n",
       "    </tr>\n",
       "    <tr>\n",
       "      <th>16</th>\n",
       "      <td>6.764120</td>\n",
       "      <td>16.912700</td>\n",
       "      <td>10.938480</td>\n",
       "      <td>10.099840</td>\n",
       "    </tr>\n",
       "    <tr>\n",
       "      <th>17</th>\n",
       "      <td>7.475960</td>\n",
       "      <td>5.942240</td>\n",
       "      <td>7.187120</td>\n",
       "      <td>9.589480</td>\n",
       "    </tr>\n",
       "    <tr>\n",
       "      <th>18</th>\n",
       "      <td>3.194120</td>\n",
       "      <td>3.624460</td>\n",
       "      <td>4.357820</td>\n",
       "      <td>5.130820</td>\n",
       "    </tr>\n",
       "    <tr>\n",
       "      <th>19</th>\n",
       "      <td>4.386960</td>\n",
       "      <td>4.253200</td>\n",
       "      <td>3.605280</td>\n",
       "      <td>3.710520</td>\n",
       "    </tr>\n",
       "    <tr>\n",
       "      <th>20</th>\n",
       "      <td>11.051000</td>\n",
       "      <td>7.110520</td>\n",
       "      <td>14.544200</td>\n",
       "      <td>15.069100</td>\n",
       "    </tr>\n",
       "    <tr>\n",
       "      <th>21</th>\n",
       "      <td>8.759640</td>\n",
       "      <td>5.232000</td>\n",
       "      <td>9.840720</td>\n",
       "      <td>3.395760</td>\n",
       "    </tr>\n",
       "    <tr>\n",
       "      <th>22</th>\n",
       "      <td>47.528460</td>\n",
       "      <td>21.428080</td>\n",
       "      <td>37.915520</td>\n",
       "      <td>25.510340</td>\n",
       "    </tr>\n",
       "    <tr>\n",
       "      <th>23</th>\n",
       "      <td>14.470240</td>\n",
       "      <td>7.997380</td>\n",
       "      <td>8.108760</td>\n",
       "      <td>9.209500</td>\n",
       "    </tr>\n",
       "    <tr>\n",
       "      <th>24</th>\n",
       "      <td>10.729120</td>\n",
       "      <td>11.301980</td>\n",
       "      <td>14.949700</td>\n",
       "      <td>9.457360</td>\n",
       "    </tr>\n",
       "    <tr>\n",
       "      <th>25</th>\n",
       "      <td>6.364200</td>\n",
       "      <td>4.911600</td>\n",
       "      <td>6.506400</td>\n",
       "      <td>3.196400</td>\n",
       "    </tr>\n",
       "    <tr>\n",
       "      <th>26</th>\n",
       "      <td>11.482200</td>\n",
       "      <td>3.312800</td>\n",
       "      <td>37.237400</td>\n",
       "      <td>4.904800</td>\n",
       "    </tr>\n",
       "    <tr>\n",
       "      <th>27</th>\n",
       "      <td>12.356600</td>\n",
       "      <td>6.892880</td>\n",
       "      <td>19.808080</td>\n",
       "      <td>8.646800</td>\n",
       "    </tr>\n",
       "    <tr>\n",
       "      <th>28</th>\n",
       "      <td>5.559400</td>\n",
       "      <td>7.511800</td>\n",
       "      <td>17.401800</td>\n",
       "      <td>6.213600</td>\n",
       "    </tr>\n",
       "    <tr>\n",
       "      <th>29</th>\n",
       "      <td>12.958200</td>\n",
       "      <td>5.838000</td>\n",
       "      <td>7.976400</td>\n",
       "      <td>7.866200</td>\n",
       "    </tr>\n",
       "  </tbody>\n",
       "</table>\n",
       "</div>"
      ],
      "text/plain": [
       "           cs         cn         is         in\n",
       "0    9.386340   9.328840   6.956080   6.857060\n",
       "1    6.126758   6.849978   5.567882   7.777382\n",
       "2    6.801600   5.264600   9.328200   3.553800\n",
       "3    7.289760   3.768720   9.909080   5.019720\n",
       "4    8.505440  18.630240  12.663540  11.338160\n",
       "5    7.745200  10.523400  11.040600   9.971400\n",
       "6    8.781400   3.935400   9.847000   3.930400\n",
       "7   12.183440  12.050360  25.646320   9.951720\n",
       "8    7.704200   7.402600   8.241820   6.278300\n",
       "9   13.340980   6.636280   5.671180   6.927400\n",
       "10   6.001600   8.938000   7.592400   5.309000\n",
       "11   6.074200  16.548400  15.594800   5.559000\n",
       "12   7.195060   6.736960  11.178360   9.058640\n",
       "13   8.822820  10.247980   7.633460   6.521680\n",
       "14  16.403520   4.562280   7.978860   4.313660\n",
       "15  18.576670   9.533700  31.948740  22.842440\n",
       "16   6.764120  16.912700  10.938480  10.099840\n",
       "17   7.475960   5.942240   7.187120   9.589480\n",
       "18   3.194120   3.624460   4.357820   5.130820\n",
       "19   4.386960   4.253200   3.605280   3.710520\n",
       "20  11.051000   7.110520  14.544200  15.069100\n",
       "21   8.759640   5.232000   9.840720   3.395760\n",
       "22  47.528460  21.428080  37.915520  25.510340\n",
       "23  14.470240   7.997380   8.108760   9.209500\n",
       "24  10.729120  11.301980  14.949700   9.457360\n",
       "25   6.364200   4.911600   6.506400   3.196400\n",
       "26  11.482200   3.312800  37.237400   4.904800\n",
       "27  12.356600   6.892880  19.808080   8.646800\n",
       "28   5.559400   7.511800  17.401800   6.213600\n",
       "29  12.958200   5.838000   7.976400   7.866200"
      ]
     },
     "execution_count": 14,
     "metadata": {},
     "output_type": "execute_result"
    }
   ],
   "source": [
    "df_rt_red_mean #data for reaction times of red (congruent) regions"
   ]
  },
  {
   "cell_type": "code",
   "execution_count": 15,
   "id": "f82711b0",
   "metadata": {},
   "outputs": [
    {
     "data": {
      "text/html": [
       "<div>\n",
       "<style scoped>\n",
       "    .dataframe tbody tr th:only-of-type {\n",
       "        vertical-align: middle;\n",
       "    }\n",
       "\n",
       "    .dataframe tbody tr th {\n",
       "        vertical-align: top;\n",
       "    }\n",
       "\n",
       "    .dataframe thead th {\n",
       "        text-align: right;\n",
       "    }\n",
       "</style>\n",
       "<table border=\"1\" class=\"dataframe\">\n",
       "  <thead>\n",
       "    <tr style=\"text-align: right;\">\n",
       "      <th></th>\n",
       "      <th>cs</th>\n",
       "      <th>cn</th>\n",
       "      <th>is</th>\n",
       "      <th>in</th>\n",
       "    </tr>\n",
       "  </thead>\n",
       "  <tbody>\n",
       "    <tr>\n",
       "      <th>0</th>\n",
       "      <td>9.669040</td>\n",
       "      <td>6.038980</td>\n",
       "      <td>8.468300</td>\n",
       "      <td>7.902560</td>\n",
       "    </tr>\n",
       "    <tr>\n",
       "      <th>1</th>\n",
       "      <td>7.083876</td>\n",
       "      <td>6.129407</td>\n",
       "      <td>5.316838</td>\n",
       "      <td>9.430935</td>\n",
       "    </tr>\n",
       "    <tr>\n",
       "      <th>2</th>\n",
       "      <td>5.749600</td>\n",
       "      <td>4.579200</td>\n",
       "      <td>9.329200</td>\n",
       "      <td>6.173600</td>\n",
       "    </tr>\n",
       "    <tr>\n",
       "      <th>3</th>\n",
       "      <td>6.828580</td>\n",
       "      <td>4.641860</td>\n",
       "      <td>11.570960</td>\n",
       "      <td>6.094280</td>\n",
       "    </tr>\n",
       "    <tr>\n",
       "      <th>4</th>\n",
       "      <td>5.482620</td>\n",
       "      <td>7.696060</td>\n",
       "      <td>15.514060</td>\n",
       "      <td>6.917520</td>\n",
       "    </tr>\n",
       "    <tr>\n",
       "      <th>5</th>\n",
       "      <td>10.096000</td>\n",
       "      <td>12.583800</td>\n",
       "      <td>14.541600</td>\n",
       "      <td>9.250200</td>\n",
       "    </tr>\n",
       "    <tr>\n",
       "      <th>6</th>\n",
       "      <td>8.321400</td>\n",
       "      <td>5.085800</td>\n",
       "      <td>11.064000</td>\n",
       "      <td>6.077000</td>\n",
       "    </tr>\n",
       "    <tr>\n",
       "      <th>7</th>\n",
       "      <td>15.917840</td>\n",
       "      <td>17.477220</td>\n",
       "      <td>27.818420</td>\n",
       "      <td>12.856060</td>\n",
       "    </tr>\n",
       "    <tr>\n",
       "      <th>8</th>\n",
       "      <td>7.025940</td>\n",
       "      <td>5.076780</td>\n",
       "      <td>9.686800</td>\n",
       "      <td>10.106120</td>\n",
       "    </tr>\n",
       "    <tr>\n",
       "      <th>9</th>\n",
       "      <td>7.586240</td>\n",
       "      <td>4.988600</td>\n",
       "      <td>10.613180</td>\n",
       "      <td>8.639140</td>\n",
       "    </tr>\n",
       "    <tr>\n",
       "      <th>10</th>\n",
       "      <td>8.382000</td>\n",
       "      <td>4.989400</td>\n",
       "      <td>7.583200</td>\n",
       "      <td>5.468600</td>\n",
       "    </tr>\n",
       "    <tr>\n",
       "      <th>11</th>\n",
       "      <td>4.120000</td>\n",
       "      <td>6.873200</td>\n",
       "      <td>5.701200</td>\n",
       "      <td>5.288600</td>\n",
       "    </tr>\n",
       "    <tr>\n",
       "      <th>12</th>\n",
       "      <td>11.420200</td>\n",
       "      <td>8.708040</td>\n",
       "      <td>9.967360</td>\n",
       "      <td>7.256600</td>\n",
       "    </tr>\n",
       "    <tr>\n",
       "      <th>13</th>\n",
       "      <td>8.281600</td>\n",
       "      <td>4.722120</td>\n",
       "      <td>13.370080</td>\n",
       "      <td>6.896580</td>\n",
       "    </tr>\n",
       "    <tr>\n",
       "      <th>14</th>\n",
       "      <td>7.823400</td>\n",
       "      <td>5.151880</td>\n",
       "      <td>6.269560</td>\n",
       "      <td>3.820060</td>\n",
       "    </tr>\n",
       "    <tr>\n",
       "      <th>15</th>\n",
       "      <td>35.794740</td>\n",
       "      <td>12.879750</td>\n",
       "      <td>22.954740</td>\n",
       "      <td>19.378100</td>\n",
       "    </tr>\n",
       "    <tr>\n",
       "      <th>16</th>\n",
       "      <td>15.560000</td>\n",
       "      <td>8.800440</td>\n",
       "      <td>7.838380</td>\n",
       "      <td>9.874120</td>\n",
       "    </tr>\n",
       "    <tr>\n",
       "      <th>17</th>\n",
       "      <td>8.507460</td>\n",
       "      <td>6.785760</td>\n",
       "      <td>8.547360</td>\n",
       "      <td>33.487000</td>\n",
       "    </tr>\n",
       "    <tr>\n",
       "      <th>18</th>\n",
       "      <td>4.296720</td>\n",
       "      <td>4.001860</td>\n",
       "      <td>4.544080</td>\n",
       "      <td>4.018740</td>\n",
       "    </tr>\n",
       "    <tr>\n",
       "      <th>19</th>\n",
       "      <td>4.287780</td>\n",
       "      <td>4.156300</td>\n",
       "      <td>5.833440</td>\n",
       "      <td>5.095160</td>\n",
       "    </tr>\n",
       "    <tr>\n",
       "      <th>20</th>\n",
       "      <td>10.294660</td>\n",
       "      <td>9.553720</td>\n",
       "      <td>14.106060</td>\n",
       "      <td>12.494860</td>\n",
       "    </tr>\n",
       "    <tr>\n",
       "      <th>21</th>\n",
       "      <td>39.572960</td>\n",
       "      <td>59.326220</td>\n",
       "      <td>5.965040</td>\n",
       "      <td>3.730260</td>\n",
       "    </tr>\n",
       "    <tr>\n",
       "      <th>22</th>\n",
       "      <td>27.289200</td>\n",
       "      <td>30.010980</td>\n",
       "      <td>30.176340</td>\n",
       "      <td>26.980040</td>\n",
       "    </tr>\n",
       "    <tr>\n",
       "      <th>23</th>\n",
       "      <td>52.306940</td>\n",
       "      <td>41.243620</td>\n",
       "      <td>13.980220</td>\n",
       "      <td>15.336020</td>\n",
       "    </tr>\n",
       "    <tr>\n",
       "      <th>24</th>\n",
       "      <td>8.181060</td>\n",
       "      <td>7.870640</td>\n",
       "      <td>14.025100</td>\n",
       "      <td>5.272080</td>\n",
       "    </tr>\n",
       "    <tr>\n",
       "      <th>25</th>\n",
       "      <td>5.578600</td>\n",
       "      <td>4.382200</td>\n",
       "      <td>6.016400</td>\n",
       "      <td>3.329400</td>\n",
       "    </tr>\n",
       "    <tr>\n",
       "      <th>26</th>\n",
       "      <td>5.947800</td>\n",
       "      <td>5.982000</td>\n",
       "      <td>6.442600</td>\n",
       "      <td>3.835000</td>\n",
       "    </tr>\n",
       "    <tr>\n",
       "      <th>27</th>\n",
       "      <td>13.129120</td>\n",
       "      <td>7.708820</td>\n",
       "      <td>8.774460</td>\n",
       "      <td>7.228260</td>\n",
       "    </tr>\n",
       "    <tr>\n",
       "      <th>28</th>\n",
       "      <td>6.857400</td>\n",
       "      <td>5.563800</td>\n",
       "      <td>9.256400</td>\n",
       "      <td>11.769800</td>\n",
       "    </tr>\n",
       "    <tr>\n",
       "      <th>29</th>\n",
       "      <td>6.488000</td>\n",
       "      <td>8.327600</td>\n",
       "      <td>19.291200</td>\n",
       "      <td>5.714400</td>\n",
       "    </tr>\n",
       "  </tbody>\n",
       "</table>\n",
       "</div>"
      ],
      "text/plain": [
       "           cs         cn         is         in\n",
       "0    9.669040   6.038980   8.468300   7.902560\n",
       "1    7.083876   6.129407   5.316838   9.430935\n",
       "2    5.749600   4.579200   9.329200   6.173600\n",
       "3    6.828580   4.641860  11.570960   6.094280\n",
       "4    5.482620   7.696060  15.514060   6.917520\n",
       "5   10.096000  12.583800  14.541600   9.250200\n",
       "6    8.321400   5.085800  11.064000   6.077000\n",
       "7   15.917840  17.477220  27.818420  12.856060\n",
       "8    7.025940   5.076780   9.686800  10.106120\n",
       "9    7.586240   4.988600  10.613180   8.639140\n",
       "10   8.382000   4.989400   7.583200   5.468600\n",
       "11   4.120000   6.873200   5.701200   5.288600\n",
       "12  11.420200   8.708040   9.967360   7.256600\n",
       "13   8.281600   4.722120  13.370080   6.896580\n",
       "14   7.823400   5.151880   6.269560   3.820060\n",
       "15  35.794740  12.879750  22.954740  19.378100\n",
       "16  15.560000   8.800440   7.838380   9.874120\n",
       "17   8.507460   6.785760   8.547360  33.487000\n",
       "18   4.296720   4.001860   4.544080   4.018740\n",
       "19   4.287780   4.156300   5.833440   5.095160\n",
       "20  10.294660   9.553720  14.106060  12.494860\n",
       "21  39.572960  59.326220   5.965040   3.730260\n",
       "22  27.289200  30.010980  30.176340  26.980040\n",
       "23  52.306940  41.243620  13.980220  15.336020\n",
       "24   8.181060   7.870640  14.025100   5.272080\n",
       "25   5.578600   4.382200   6.016400   3.329400\n",
       "26   5.947800   5.982000   6.442600   3.835000\n",
       "27  13.129120   7.708820   8.774460   7.228260\n",
       "28   6.857400   5.563800   9.256400  11.769800\n",
       "29   6.488000   8.327600  19.291200   5.714400"
      ]
     },
     "execution_count": 15,
     "metadata": {},
     "output_type": "execute_result"
    }
   ],
   "source": [
    "df_rt_green_mean #data for reaction times of green (congruent) regions"
   ]
  },
  {
   "cell_type": "markdown",
   "id": "8ada7e0a",
   "metadata": {},
   "source": [
    "## Some descriptive stats"
   ]
  },
  {
   "cell_type": "code",
   "execution_count": 16,
   "id": "80484ec6",
   "metadata": {},
   "outputs": [
    {
     "data": {
      "text/plain": [
       "cs    10.467307\n",
       "cn     8.440913\n",
       "is    12.905867\n",
       "in     8.240343\n",
       "dtype: float64"
      ]
     },
     "execution_count": 16,
     "metadata": {},
     "output_type": "execute_result"
    }
   ],
   "source": [
    "df_rt_red_mean.mean()"
   ]
  },
  {
   "cell_type": "code",
   "execution_count": 20,
   "id": "a1a2af96",
   "metadata": {},
   "outputs": [
    {
     "data": {
      "text/plain": [
       "cs    7.850484\n",
       "cn    4.646463\n",
       "is    9.096253\n",
       "in    5.150836\n",
       "dtype: float64"
      ]
     },
     "execution_count": 20,
     "metadata": {},
     "output_type": "execute_result"
    }
   ],
   "source": [
    "df_rt_red_mean.std()"
   ]
  },
  {
   "cell_type": "code",
   "execution_count": 17,
   "id": "69f2a83a",
   "metadata": {},
   "outputs": [
    {
     "data": {
      "text/plain": [
       "cs    12.262693\n",
       "cn    10.711202\n",
       "is    11.485553\n",
       "in     9.324037\n",
       "dtype: float64"
      ]
     },
     "execution_count": 17,
     "metadata": {},
     "output_type": "execute_result"
    }
   ],
   "source": [
    "df_rt_green_mean.mean()"
   ]
  },
  {
   "cell_type": "code",
   "execution_count": 21,
   "id": "e12deefc",
   "metadata": {},
   "outputs": [
    {
     "data": {
      "text/plain": [
       "cs    11.449071\n",
       "cn    12.152666\n",
       "is     6.410197\n",
       "in     6.823563\n",
       "dtype: float64"
      ]
     },
     "execution_count": 21,
     "metadata": {},
     "output_type": "execute_result"
    }
   ],
   "source": [
    "df_rt_green_mean.std()"
   ]
  },
  {
   "cell_type": "code",
   "execution_count": 18,
   "id": "1b01a569",
   "metadata": {},
   "outputs": [
    {
     "data": {
      "text/plain": [
       "cs    1.803796\n",
       "cn    1.670328\n",
       "is    1.614080\n",
       "in    1.331839\n",
       "dtype: float64"
      ]
     },
     "execution_count": 18,
     "metadata": {},
     "output_type": "execute_result"
    }
   ],
   "source": [
    "df_rating_red_mean.mean()"
   ]
  },
  {
   "cell_type": "code",
   "execution_count": 22,
   "id": "3b2fd6a7",
   "metadata": {},
   "outputs": [
    {
     "data": {
      "text/plain": [
       "cs    0.067761\n",
       "cn    0.154783\n",
       "is    0.282744\n",
       "in    0.181920\n",
       "dtype: float64"
      ]
     },
     "execution_count": 22,
     "metadata": {},
     "output_type": "execute_result"
    }
   ],
   "source": [
    "df_rating_red_mean.std()"
   ]
  },
  {
   "cell_type": "code",
   "execution_count": 19,
   "id": "857e9184",
   "metadata": {},
   "outputs": [
    {
     "data": {
      "text/plain": [
       "cs    1.179553\n",
       "cn    1.325337\n",
       "is    1.358155\n",
       "in    1.643573\n",
       "dtype: float64"
      ]
     },
     "execution_count": 19,
     "metadata": {},
     "output_type": "execute_result"
    }
   ],
   "source": [
    "df_rating_green_mean.mean()"
   ]
  },
  {
   "cell_type": "code",
   "execution_count": 23,
   "id": "ce98bb3c",
   "metadata": {},
   "outputs": [
    {
     "data": {
      "text/plain": [
       "cs    0.062167\n",
       "cn    0.191335\n",
       "is    0.226858\n",
       "in    0.137228\n",
       "dtype: float64"
      ]
     },
     "execution_count": 23,
     "metadata": {},
     "output_type": "execute_result"
    }
   ],
   "source": [
    "df_rating_green_mean.std()"
   ]
  },
  {
   "cell_type": "code",
   "execution_count": 26,
   "id": "a57e9f92",
   "metadata": {
    "scrolled": true
   },
   "outputs": [
    {
     "data": {
      "image/png": "[encoded data removed]",
      "text/plain": [
       "<Figure size 432x288 with 1 Axes>"
      ]
     },
     "metadata": {
      "needs_background": "light"
     },
     "output_type": "display_data"
    }
   ],
   "source": [
    "import matplotlib.pyplot as plt\n",
    "\n",
    "df_rating_green_mean.mean().plot(kind=\"bar\", yerr=df_rating_red_mean.std(), alpha=0.5, capsize=10)\n",
    "plt.xlabel('Scale Congruency x Scale Presence')\n",
    "plt.xticks([0, 1, 2, 3], ['Congruent\\nShown', 'Congurent\\nNow Shown', 'Incongruent\\nShown', 'Incongruent\\nNot Shown'], rotation=45)\n",
    "plt.show()"
   ]
  },
  {
   "cell_type": "markdown",
   "id": "ffd43cf9",
   "metadata": {},
   "source": [
    "## create dataframe for rating & RT data of red (congruent) regions"
   ]
  },
  {
   "cell_type": "code",
   "execution_count": 112,
   "id": "781d5d10",
   "metadata": {},
   "outputs": [],
   "source": [
    "df_red_mean_anova = pd.DataFrame(columns = [\"Congruency\", \"Presence\", \"Rating\", \"RT\"])"
   ]
  },
  {
   "cell_type": "code",
   "execution_count": 113,
   "id": "c3255ac8",
   "metadata": {},
   "outputs": [],
   "source": [
    "for i in range(len(df_rating_red_mean[\"cs\"])):\n",
    "    df_red_mean_anova = df_red_mean_anova.append({'Congruency' : \"Congruent\", 'Presence': \"Shown\", 'Rating' : df_rating_red_mean[\"cs\"][i], 'RT' : df_rt_red_mean[\"cs\"][i]}, ignore_index = True)"
   ]
  },
  {
   "cell_type": "code",
   "execution_count": 114,
   "id": "131ed7b6",
   "metadata": {},
   "outputs": [],
   "source": [
    "for i in range(len(df_rating_red_mean[\"cn\"])):\n",
    "    df_red_mean_anova = df_red_mean_anova.append({'Congruency' : \"Congruent\", 'Presence': \"Not Shown\", 'Rating' : df_rating_red_mean[\"cn\"][i], 'RT' : df_rt_red_mean[\"cn\"][i]}, ignore_index = True)"
   ]
  },
  {
   "cell_type": "code",
   "execution_count": 115,
   "id": "210c1125",
   "metadata": {},
   "outputs": [],
   "source": [
    "for i in range(len(df_rating_red_mean[\"is\"])):\n",
    "    df_red_mean_anova = df_red_mean_anova.append({'Congruency' : \"Incongruent\", 'Presence': \"Shown\", 'Rating' : df_rating_red_mean[\"is\"][i], 'RT' : df_rt_red_mean[\"is\"][i]}, ignore_index = True)"
   ]
  },
  {
   "cell_type": "code",
   "execution_count": 116,
   "id": "5d593719",
   "metadata": {},
   "outputs": [],
   "source": [
    "for i in range(len(df_rating_red_mean[\"in\"])):\n",
    "    df_red_mean_anova = df_red_mean_anova.append({'Congruency' : \"Incongruent\", 'Presence': \"Not Shown\", 'Rating' : df_rating_red_mean[\"in\"][i], 'RT' : df_rt_red_mean[\"in\"][i]}, ignore_index = True)"
   ]
  },
  {
   "cell_type": "code",
   "execution_count": 117,
   "id": "d8e8761f",
   "metadata": {},
   "outputs": [
    {
     "data": {
      "text/html": [
       "<div>\n",
       "<style scoped>\n",
       "    .dataframe tbody tr th:only-of-type {\n",
       "        vertical-align: middle;\n",
       "    }\n",
       "\n",
       "    .dataframe tbody tr th {\n",
       "        vertical-align: top;\n",
       "    }\n",
       "\n",
       "    .dataframe thead th {\n",
       "        text-align: right;\n",
       "    }\n",
       "</style>\n",
       "<table border=\"1\" class=\"dataframe\">\n",
       "  <thead>\n",
       "    <tr style=\"text-align: right;\">\n",
       "      <th></th>\n",
       "      <th>Congruency</th>\n",
       "      <th>Presence</th>\n",
       "      <th>Rating</th>\n",
       "      <th>RT</th>\n",
       "    </tr>\n",
       "  </thead>\n",
       "  <tbody>\n",
       "    <tr>\n",
       "      <th>0</th>\n",
       "      <td>Congruent</td>\n",
       "      <td>Shown</td>\n",
       "      <td>1.845826</td>\n",
       "      <td>9.386340</td>\n",
       "    </tr>\n",
       "    <tr>\n",
       "      <th>1</th>\n",
       "      <td>Congruent</td>\n",
       "      <td>Shown</td>\n",
       "      <td>1.749013</td>\n",
       "      <td>6.126758</td>\n",
       "    </tr>\n",
       "    <tr>\n",
       "      <th>2</th>\n",
       "      <td>Congruent</td>\n",
       "      <td>Shown</td>\n",
       "      <td>1.626957</td>\n",
       "      <td>6.801600</td>\n",
       "    </tr>\n",
       "    <tr>\n",
       "      <th>3</th>\n",
       "      <td>Congruent</td>\n",
       "      <td>Shown</td>\n",
       "      <td>1.849073</td>\n",
       "      <td>7.289760</td>\n",
       "    </tr>\n",
       "    <tr>\n",
       "      <th>4</th>\n",
       "      <td>Congruent</td>\n",
       "      <td>Shown</td>\n",
       "      <td>1.817222</td>\n",
       "      <td>8.505440</td>\n",
       "    </tr>\n",
       "    <tr>\n",
       "      <th>...</th>\n",
       "      <td>...</td>\n",
       "      <td>...</td>\n",
       "      <td>...</td>\n",
       "      <td>...</td>\n",
       "    </tr>\n",
       "    <tr>\n",
       "      <th>115</th>\n",
       "      <td>Incongruent</td>\n",
       "      <td>Not Shown</td>\n",
       "      <td>1.424580</td>\n",
       "      <td>3.196400</td>\n",
       "    </tr>\n",
       "    <tr>\n",
       "      <th>116</th>\n",
       "      <td>Incongruent</td>\n",
       "      <td>Not Shown</td>\n",
       "      <td>1.623333</td>\n",
       "      <td>4.904800</td>\n",
       "    </tr>\n",
       "    <tr>\n",
       "      <th>117</th>\n",
       "      <td>Incongruent</td>\n",
       "      <td>Not Shown</td>\n",
       "      <td>1.511762</td>\n",
       "      <td>8.646800</td>\n",
       "    </tr>\n",
       "    <tr>\n",
       "      <th>118</th>\n",
       "      <td>Incongruent</td>\n",
       "      <td>Not Shown</td>\n",
       "      <td>1.194667</td>\n",
       "      <td>6.213600</td>\n",
       "    </tr>\n",
       "    <tr>\n",
       "      <th>119</th>\n",
       "      <td>Incongruent</td>\n",
       "      <td>Not Shown</td>\n",
       "      <td>1.198444</td>\n",
       "      <td>7.866200</td>\n",
       "    </tr>\n",
       "  </tbody>\n",
       "</table>\n",
       "<p>120 rows × 4 columns</p>\n",
       "</div>"
      ],
      "text/plain": [
       "      Congruency   Presence    Rating        RT\n",
       "0      Congruent      Shown  1.845826  9.386340\n",
       "1      Congruent      Shown  1.749013  6.126758\n",
       "2      Congruent      Shown  1.626957  6.801600\n",
       "3      Congruent      Shown  1.849073  7.289760\n",
       "4      Congruent      Shown  1.817222  8.505440\n",
       "..           ...        ...       ...       ...\n",
       "115  Incongruent  Not Shown  1.424580  3.196400\n",
       "116  Incongruent  Not Shown  1.623333  4.904800\n",
       "117  Incongruent  Not Shown  1.511762  8.646800\n",
       "118  Incongruent  Not Shown  1.194667  6.213600\n",
       "119  Incongruent  Not Shown  1.198444  7.866200\n",
       "\n",
       "[120 rows x 4 columns]"
      ]
     },
     "execution_count": 117,
     "metadata": {},
     "output_type": "execute_result"
    }
   ],
   "source": [
    "df_red_mean_anova"
   ]
  },
  {
   "cell_type": "code",
   "execution_count": 118,
   "id": "9c11d545",
   "metadata": {},
   "outputs": [],
   "source": [
    "df_red_mean_anova[\"Subject\"] = list(range(1,31))+list(range(1,31))+list(range(1,31))+list(range(1,31))"
   ]
  },
  {
   "cell_type": "code",
   "execution_count": null,
   "id": "cbd614dd",
   "metadata": {},
   "outputs": [],
   "source": []
  },
  {
   "cell_type": "code",
   "execution_count": 76,
   "id": "52b4ddb1",
   "metadata": {},
   "outputs": [],
   "source": [
    "# df_red_rating_mean_anova = df_red_mean_anova.drop([\"RT\"], axis=1)"
   ]
  },
  {
   "cell_type": "code",
   "execution_count": 120,
   "id": "1819fec4",
   "metadata": {
    "scrolled": true
   },
   "outputs": [
    {
     "data": {
      "text/html": [
       "<div>\n",
       "<style scoped>\n",
       "    .dataframe tbody tr th:only-of-type {\n",
       "        vertical-align: middle;\n",
       "    }\n",
       "\n",
       "    .dataframe tbody tr th {\n",
       "        vertical-align: top;\n",
       "    }\n",
       "\n",
       "    .dataframe thead th {\n",
       "        text-align: right;\n",
       "    }\n",
       "</style>\n",
       "<table border=\"1\" class=\"dataframe\">\n",
       "  <thead>\n",
       "    <tr style=\"text-align: right;\">\n",
       "      <th></th>\n",
       "      <th>Congruency</th>\n",
       "      <th>Presence</th>\n",
       "      <th>Rating</th>\n",
       "      <th>RT</th>\n",
       "      <th>Subject</th>\n",
       "    </tr>\n",
       "  </thead>\n",
       "  <tbody>\n",
       "    <tr>\n",
       "      <th>0</th>\n",
       "      <td>Congruent</td>\n",
       "      <td>Shown</td>\n",
       "      <td>1.845826</td>\n",
       "      <td>9.386340</td>\n",
       "      <td>1</td>\n",
       "    </tr>\n",
       "    <tr>\n",
       "      <th>1</th>\n",
       "      <td>Congruent</td>\n",
       "      <td>Shown</td>\n",
       "      <td>1.749013</td>\n",
       "      <td>6.126758</td>\n",
       "      <td>2</td>\n",
       "    </tr>\n",
       "    <tr>\n",
       "      <th>2</th>\n",
       "      <td>Congruent</td>\n",
       "      <td>Shown</td>\n",
       "      <td>1.626957</td>\n",
       "      <td>6.801600</td>\n",
       "      <td>3</td>\n",
       "    </tr>\n",
       "    <tr>\n",
       "      <th>3</th>\n",
       "      <td>Congruent</td>\n",
       "      <td>Shown</td>\n",
       "      <td>1.849073</td>\n",
       "      <td>7.289760</td>\n",
       "      <td>4</td>\n",
       "    </tr>\n",
       "    <tr>\n",
       "      <th>4</th>\n",
       "      <td>Congruent</td>\n",
       "      <td>Shown</td>\n",
       "      <td>1.817222</td>\n",
       "      <td>8.505440</td>\n",
       "      <td>5</td>\n",
       "    </tr>\n",
       "    <tr>\n",
       "      <th>...</th>\n",
       "      <td>...</td>\n",
       "      <td>...</td>\n",
       "      <td>...</td>\n",
       "      <td>...</td>\n",
       "      <td>...</td>\n",
       "    </tr>\n",
       "    <tr>\n",
       "      <th>115</th>\n",
       "      <td>Incongruent</td>\n",
       "      <td>Not Shown</td>\n",
       "      <td>1.424580</td>\n",
       "      <td>3.196400</td>\n",
       "      <td>26</td>\n",
       "    </tr>\n",
       "    <tr>\n",
       "      <th>116</th>\n",
       "      <td>Incongruent</td>\n",
       "      <td>Not Shown</td>\n",
       "      <td>1.623333</td>\n",
       "      <td>4.904800</td>\n",
       "      <td>27</td>\n",
       "    </tr>\n",
       "    <tr>\n",
       "      <th>117</th>\n",
       "      <td>Incongruent</td>\n",
       "      <td>Not Shown</td>\n",
       "      <td>1.511762</td>\n",
       "      <td>8.646800</td>\n",
       "      <td>28</td>\n",
       "    </tr>\n",
       "    <tr>\n",
       "      <th>118</th>\n",
       "      <td>Incongruent</td>\n",
       "      <td>Not Shown</td>\n",
       "      <td>1.194667</td>\n",
       "      <td>6.213600</td>\n",
       "      <td>29</td>\n",
       "    </tr>\n",
       "    <tr>\n",
       "      <th>119</th>\n",
       "      <td>Incongruent</td>\n",
       "      <td>Not Shown</td>\n",
       "      <td>1.198444</td>\n",
       "      <td>7.866200</td>\n",
       "      <td>30</td>\n",
       "    </tr>\n",
       "  </tbody>\n",
       "</table>\n",
       "<p>120 rows × 5 columns</p>\n",
       "</div>"
      ],
      "text/plain": [
       "      Congruency   Presence    Rating        RT  Subject\n",
       "0      Congruent      Shown  1.845826  9.386340        1\n",
       "1      Congruent      Shown  1.749013  6.126758        2\n",
       "2      Congruent      Shown  1.626957  6.801600        3\n",
       "3      Congruent      Shown  1.849073  7.289760        4\n",
       "4      Congruent      Shown  1.817222  8.505440        5\n",
       "..           ...        ...       ...       ...      ...\n",
       "115  Incongruent  Not Shown  1.424580  3.196400       26\n",
       "116  Incongruent  Not Shown  1.623333  4.904800       27\n",
       "117  Incongruent  Not Shown  1.511762  8.646800       28\n",
       "118  Incongruent  Not Shown  1.194667  6.213600       29\n",
       "119  Incongruent  Not Shown  1.198444  7.866200       30\n",
       "\n",
       "[120 rows x 5 columns]"
      ]
     },
     "execution_count": 120,
     "metadata": {},
     "output_type": "execute_result"
    }
   ],
   "source": [
    "df_red_mean_anova"
   ]
  },
  {
   "cell_type": "markdown",
   "id": "6a020cb8",
   "metadata": {},
   "source": [
    "## Red: Rating ANOVA"
   ]
  },
  {
   "cell_type": "code",
   "execution_count": 155,
   "id": "6f0522c1",
   "metadata": {
    "scrolled": false
   },
   "outputs": [
    {
     "data": {
      "text/plain": [
       "cs    1.803796\n",
       "cn    1.670328\n",
       "is    1.614080\n",
       "in    1.331839\n",
       "dtype: float64"
      ]
     },
     "execution_count": 155,
     "metadata": {},
     "output_type": "execute_result"
    }
   ],
   "source": [
    "df_rating_red_mean.mean()"
   ]
  },
  {
   "cell_type": "code",
   "execution_count": 154,
   "id": "b52a3ac1",
   "metadata": {},
   "outputs": [
    {
     "data": {
      "image/png": "[encoded data removed]",
      "text/plain": [
       "<Figure size 432x288 with 1 Axes>"
      ]
     },
     "metadata": {
      "needs_background": "light"
     },
     "output_type": "display_data"
    }
   ],
   "source": [
    "df_rating_red_mean.mean().plot(kind=\"bar\", yerr=df_rating_red_mean.std(), alpha=0.5, capsize=10)\n",
    "plt.xlabel('Scale Congruency x Scale Presence')\n",
    "plt.xticks([0, 1, 2, 3], ['Congruent\\nShown', 'Congurent\\nNow Shown', 'Incongruent\\nShown', 'Incongruent\\nNot Shown'], rotation=45)\n",
    "plt.show()"
   ]
  },
  {
   "cell_type": "code",
   "execution_count": 122,
   "id": "bea26a26",
   "metadata": {
    "scrolled": true
   },
   "outputs": [
    {
     "name": "stdout",
     "output_type": "stream",
     "text": [
      "                      Anova\n",
      "=================================================\n",
      "                    F Value Num DF  Den DF Pr > F\n",
      "-------------------------------------------------\n",
      "Congruency          28.1073 1.0000 29.0000 0.0000\n",
      "Presence            66.6692 1.0000 29.0000 0.0000\n",
      "Congruency:Presence 14.9228 1.0000 29.0000 0.0006\n",
      "=================================================\n",
      "\n"
     ]
    }
   ],
   "source": [
    "from statsmodels.graphics.factorplots import interaction_plot\n",
    "from statsmodels.stats.anova import AnovaRM\n",
    "\n",
    "rating_factorial_model = AnovaRM(data=df_red_mean_anova, depvar='Rating', within=['Congruency', 'Presence'], subject='Subject').fit()\n",
    "print(rating_factorial_model)"
   ]
  },
  {
   "cell_type": "code",
   "execution_count": 130,
   "id": "20f60335",
   "metadata": {
    "collapsed": true
   },
   "outputs": [
    {
     "name": "stdout",
     "output_type": "stream",
     "text": [
      "Collecting pingouin\n",
      "  Downloading pingouin-0.5.3-py3-none-any.whl (198 kB)\n",
      "\u001b[K     |████████████████████████████████| 198 kB 193 kB/s eta 0:00:01\n",
      "\u001b[?25hCollecting statsmodels>=0.13\n",
      "  Downloading statsmodels-0.13.5-cp39-cp39-macosx_10_9_x86_64.whl (9.7 MB)\n",
      "\u001b[K     |████████████████████████████████| 9.7 MB 7.2 MB/s eta 0:00:01\n",
      "\u001b[?25hRequirement already satisfied: matplotlib>=3.0.2 in /Users/vinkki/opt/anaconda3/lib/python3.9/site-packages (from pingouin) (3.4.3)\n",
      "Requirement already satisfied: numpy>=1.19 in /Users/vinkki/opt/anaconda3/lib/python3.9/site-packages (from pingouin) (1.22.4)\n",
      "Requirement already satisfied: pandas>=1.0 in /Users/vinkki/opt/anaconda3/lib/python3.9/site-packages (from pingouin) (1.3.4)\n",
      "Collecting tabulate\n",
      "  Downloading tabulate-0.9.0-py3-none-any.whl (35 kB)\n",
      "Collecting outdated\n",
      "  Downloading outdated-0.2.2-py2.py3-none-any.whl (7.5 kB)\n",
      "Requirement already satisfied: seaborn>=0.11 in /Users/vinkki/opt/anaconda3/lib/python3.9/site-packages (from pingouin) (0.11.2)\n",
      "Requirement already satisfied: scikit-learn in /Users/vinkki/opt/anaconda3/lib/python3.9/site-packages (from pingouin) (0.24.2)\n",
      "Collecting pandas-flavor>=0.2.0\n",
      "  Downloading pandas_flavor-0.5.0-py3-none-any.whl (7.1 kB)\n",
      "Requirement already satisfied: scipy>=1.7 in /Users/vinkki/opt/anaconda3/lib/python3.9/site-packages (from pingouin) (1.7.1)\n",
      "Requirement already satisfied: pillow>=6.2.0 in /Users/vinkki/opt/anaconda3/lib/python3.9/site-packages (from matplotlib>=3.0.2->pingouin) (8.4.0)\n",
      "Requirement already satisfied: kiwisolver>=1.0.1 in /Users/vinkki/opt/anaconda3/lib/python3.9/site-packages (from matplotlib>=3.0.2->pingouin) (1.3.1)\n",
      "Requirement already satisfied: cycler>=0.10 in /Users/vinkki/opt/anaconda3/lib/python3.9/site-packages (from matplotlib>=3.0.2->pingouin) (0.10.0)\n",
      "Requirement already satisfied: pyparsing>=2.2.1 in /Users/vinkki/opt/anaconda3/lib/python3.9/site-packages (from matplotlib>=3.0.2->pingouin) (3.0.4)\n",
      "Requirement already satisfied: python-dateutil>=2.7 in /Users/vinkki/opt/anaconda3/lib/python3.9/site-packages (from matplotlib>=3.0.2->pingouin) (2.8.2)\n",
      "Requirement already satisfied: six in /Users/vinkki/opt/anaconda3/lib/python3.9/site-packages (from cycler>=0.10->matplotlib>=3.0.2->pingouin) (1.16.0)\n",
      "Requirement already satisfied: pytz>=2017.3 in /Users/vinkki/opt/anaconda3/lib/python3.9/site-packages (from pandas>=1.0->pingouin) (2021.3)\n",
      "Collecting lazy-loader>=0.1\n",
      "  Downloading lazy_loader-0.2-py3-none-any.whl (8.6 kB)\n",
      "Collecting xarray\n",
      "  Downloading xarray-2023.4.0-py3-none-any.whl (977 kB)\n",
      "\u001b[K     |████████████████████████████████| 977 kB 7.3 MB/s eta 0:00:01\n",
      "\u001b[?25hCollecting packaging>=21.3\n",
      "  Downloading packaging-23.1-py3-none-any.whl (48 kB)\n",
      "\u001b[K     |████████████████████████████████| 48 kB 5.3 MB/s eta 0:00:01\n",
      "\u001b[?25hRequirement already satisfied: patsy>=0.5.2 in /Users/vinkki/opt/anaconda3/lib/python3.9/site-packages (from statsmodels>=0.13->pingouin) (0.5.2)\n",
      "Requirement already satisfied: setuptools>=44 in /Users/vinkki/opt/anaconda3/lib/python3.9/site-packages (from outdated->pingouin) (58.0.4)\n",
      "Collecting littleutils\n",
      "  Downloading littleutils-0.2.2.tar.gz (6.6 kB)\n",
      "Requirement already satisfied: requests in /Users/vinkki/opt/anaconda3/lib/python3.9/site-packages (from outdated->pingouin) (2.26.0)\n",
      "Requirement already satisfied: idna<4,>=2.5 in /Users/vinkki/opt/anaconda3/lib/python3.9/site-packages (from requests->outdated->pingouin) (3.2)\n",
      "Requirement already satisfied: certifi>=2017.4.17 in /Users/vinkki/opt/anaconda3/lib/python3.9/site-packages (from requests->outdated->pingouin) (2021.10.8)\n",
      "Requirement already satisfied: charset-normalizer~=2.0.0 in /Users/vinkki/opt/anaconda3/lib/python3.9/site-packages (from requests->outdated->pingouin) (2.0.4)\n",
      "Requirement already satisfied: urllib3<1.27,>=1.21.1 in /Users/vinkki/opt/anaconda3/lib/python3.9/site-packages (from requests->outdated->pingouin) (1.26.7)\n",
      "Requirement already satisfied: threadpoolctl>=2.0.0 in /Users/vinkki/opt/anaconda3/lib/python3.9/site-packages (from scikit-learn->pingouin) (2.2.0)\n",
      "Requirement already satisfied: joblib>=0.11 in /Users/vinkki/opt/anaconda3/lib/python3.9/site-packages (from scikit-learn->pingouin) (1.1.0)\n",
      "Collecting pandas>=1.0\n",
      "  Downloading pandas-2.0.0-cp39-cp39-macosx_10_9_x86_64.whl (11.8 MB)\n",
      "\u001b[K     |████████████████████████████████| 11.8 MB 3.3 MB/s eta 0:00:01\n",
      "\u001b[?25hCollecting tzdata>=2022.1\n",
      "  Downloading tzdata-2023.3-py2.py3-none-any.whl (341 kB)\n",
      "\u001b[K     |████████████████████████████████| 341 kB 2.7 MB/s eta 0:00:01\n",
      "\u001b[?25hBuilding wheels for collected packages: littleutils\n",
      "  Building wheel for littleutils (setup.py) ... \u001b[?25ldone\n",
      "\u001b[?25h  Created wheel for littleutils: filename=littleutils-0.2.2-py3-none-any.whl size=7048 sha256=b876f2752ba092a835a2a2db92ddf26e2ee6450adb80b4f399a2bba5cf98a034\n",
      "  Stored in directory: /Users/vinkki/Library/Caches/pip/wheels/04/bb/0d/2d02ec45f29c48d6192476bfb59c5a0e64b605e7212374dd15\n",
      "Successfully built littleutils\n",
      "Installing collected packages: tzdata, pandas, packaging, xarray, littleutils, lazy-loader, tabulate, statsmodels, pandas-flavor, outdated, pingouin\n",
      "  Attempting uninstall: pandas\n",
      "    Found existing installation: pandas 1.3.4\n",
      "    Uninstalling pandas-1.3.4:\n",
      "      Successfully uninstalled pandas-1.3.4\n",
      "  Attempting uninstall: packaging\n",
      "    Found existing installation: packaging 21.0\n",
      "    Uninstalling packaging-21.0:\n",
      "      Successfully uninstalled packaging-21.0\n",
      "  Attempting uninstall: statsmodels\n",
      "    Found existing installation: statsmodels 0.12.2\n",
      "    Uninstalling statsmodels-0.12.2:\n",
      "      Successfully uninstalled statsmodels-0.12.2\n",
      "Successfully installed lazy-loader-0.2 littleutils-0.2.2 outdated-0.2.2 packaging-23.1 pandas-2.0.0 pandas-flavor-0.5.0 pingouin-0.5.3 statsmodels-0.13.5 tabulate-0.9.0 tzdata-2023.3 xarray-2023.4.0\n",
      "Note: you may need to restart the kernel to use updated packages.\n"
     ]
    }
   ],
   "source": [
    "pip install pingouin"
   ]
  },
  {
   "cell_type": "code",
   "execution_count": 162,
   "id": "3fd40bc9",
   "metadata": {
    "scrolled": true
   },
   "outputs": [
    {
     "name": "stdout",
     "output_type": "stream",
     "text": [
      "                  Source     SS  ddof1  ddof2     MS       F  p-unc  \\\n",
      "0             Congruency  2.093      1     29  2.093  28.107  0.000   \n",
      "1               Presence  1.296      1     29  1.296  66.669  0.000   \n",
      "2  Congruency * Presence  0.166      1     29  0.166  14.923  0.001   \n",
      "\n",
      "   p-GG-corr    np2  eps  \n",
      "0      0.000  0.492  1.0  \n",
      "1      0.000  0.697  1.0  \n",
      "2      0.001  0.340  1.0  \n"
     ]
    }
   ],
   "source": [
    "import pingouin as pg\n",
    "\n",
    "aov_rating = pg.rm_anova(dv='Rating',within=['Congruency', 'Presence'], subject='Subject', data=df_red_mean_anova, effsize=\"np2\")\n",
    "print(aov_rating.round(3))"
   ]
  },
  {
   "cell_type": "code",
   "execution_count": 135,
   "id": "56981846",
   "metadata": {
    "scrolled": true
   },
   "outputs": [
    {
     "data": {
      "image/png": "[encoded data removed]",
      "text/plain": [
       "<Figure size 432x288 with 1 Axes>"
      ]
     },
     "metadata": {
      "needs_background": "light"
     },
     "output_type": "display_data"
    }
   ],
   "source": [
    "import seaborn as sns\n",
    "\n",
    "ax = sns.pointplot(x=\"Congruency\", y=\"Rating\", hue=\"Presence\",\n",
    "                    data=df_red_mean_anova)"
   ]
  },
  {
   "cell_type": "markdown",
   "id": "4e2972af",
   "metadata": {},
   "source": [
    "### pairwise comparisons for interaction (use Bonferroni corrected criterion for significance of p < .013)"
   ]
  },
  {
   "cell_type": "code",
   "execution_count": 126,
   "id": "a351dd1c",
   "metadata": {},
   "outputs": [
    {
     "data": {
      "text/plain": [
       "Ttest_relResult(statistic=-7.744124768976914, pvalue=1.5372386009079374e-08)"
      ]
     },
     "execution_count": 126,
     "metadata": {},
     "output_type": "execute_result"
    }
   ],
   "source": [
    "#t-test -> incongruent scale rate lower for scale not shown than scale shown\n",
    "from scipy import stats\n",
    "\n",
    "index = (df_red_mean_anova['Presence']=='Not Shown') & (df_red_mean_anova['Congruency']=='Incongruent')\n",
    "NI = df_red_mean_anova[index]['Rating'] \n",
    "\n",
    "index = (df_red_mean_anova['Presence']=='Shown') & (df_red_mean_anova['Congruency']=='Incongruent')\n",
    "SI = df_red_mean_anova[index]['Rating']\n",
    "\n",
    "stats.ttest_rel(NI, SI) #significant"
   ]
  },
  {
   "cell_type": "code",
   "execution_count": 127,
   "id": "a24897e3",
   "metadata": {},
   "outputs": [
    {
     "data": {
      "text/plain": [
       "Ttest_relResult(statistic=-5.01122623645653, pvalue=2.458695171802208e-05)"
      ]
     },
     "execution_count": 127,
     "metadata": {},
     "output_type": "execute_result"
    }
   ],
   "source": [
    "#t-test -> congruent scale rate no difference for scale not shown and scale shown\n",
    "from scipy import stats\n",
    "\n",
    "index = (df_red_mean_anova['Presence']=='Not Shown') & (df_red_mean_anova['Congruency']=='Congruent')\n",
    "NC = df_red_mean_anova[index]['Rating'] \n",
    "\n",
    "index = (df_red_mean_anova['Presence']=='Shown') & (df_red_mean_anova['Congruency']=='Congruent')\n",
    "SC = df_red_mean_anova[index]['Rating']\n",
    "\n",
    "stats.ttest_rel(NC, SC) #significant, there is a difference, visible ones have higher rate than invisible ones"
   ]
  },
  {
   "cell_type": "code",
   "execution_count": 158,
   "id": "bb88ce64",
   "metadata": {},
   "outputs": [
    {
     "data": {
      "text/plain": [
       "Ttest_relResult(statistic=3.7134938124713117, pvalue=0.0008657183025338618)"
      ]
     },
     "execution_count": 158,
     "metadata": {},
     "output_type": "execute_result"
    }
   ],
   "source": [
    "#t-test -> scales that are shown rate no difference for congruent and incongruent ones\n",
    "from scipy import stats\n",
    "\n",
    "index = (df_red_mean_anova['Presence']=='Shown') & (df_red_mean_anova['Congruency']=='Congruent')\n",
    "SC = df_red_mean_anova[index]['Rating'] \n",
    "\n",
    "index = (df_red_mean_anova['Presence']=='Shown') & (df_red_mean_anova['Congruency']=='Incongruent')\n",
    "SI = df_red_mean_anova[index]['Rating']\n",
    "\n",
    "stats.ttest_rel(SC, SI) #significant, there is a difference, congruent ones rate higher than incongruent ones"
   ]
  },
  {
   "cell_type": "markdown",
   "id": "1c4b1328",
   "metadata": {},
   "source": [
    "## Red: RT ANOVA"
   ]
  },
  {
   "cell_type": "code",
   "execution_count": 156,
   "id": "41e855df",
   "metadata": {
    "scrolled": false
   },
   "outputs": [
    {
     "data": {
      "text/plain": [
       "cs    10.467307\n",
       "cn     8.440913\n",
       "is    12.905867\n",
       "in     8.240343\n",
       "dtype: float64"
      ]
     },
     "execution_count": 156,
     "metadata": {},
     "output_type": "execute_result"
    }
   ],
   "source": [
    "df_rt_red_mean.mean()"
   ]
  },
  {
   "cell_type": "code",
   "execution_count": 157,
   "id": "b9e0a54b",
   "metadata": {},
   "outputs": [
    {
     "data": {
      "image/png": "[encoded data removed]",
      "text/plain": [
       "<Figure size 432x288 with 1 Axes>"
      ]
     },
     "metadata": {
      "needs_background": "light"
     },
     "output_type": "display_data"
    }
   ],
   "source": [
    "df_rt_red_mean.mean().plot(kind=\"bar\", yerr=df_rt_red_mean.std(), alpha=0.5, capsize=10)\n",
    "plt.xlabel('Scale Congruency x Scale Presence')\n",
    "plt.xticks([0, 1, 2, 3], ['Congruent\\nShown', 'Congurent\\nNow Shown', 'Incongruent\\nShown', 'Incongruent\\nNot Shown'], rotation=45)\n",
    "plt.show()"
   ]
  },
  {
   "cell_type": "code",
   "execution_count": 123,
   "id": "687033e8",
   "metadata": {},
   "outputs": [
    {
     "name": "stdout",
     "output_type": "stream",
     "text": [
      "                      Anova\n",
      "=================================================\n",
      "                    F Value Num DF  Den DF Pr > F\n",
      "-------------------------------------------------\n",
      "Congruency           2.0498 1.0000 29.0000 0.1629\n",
      "Presence            10.6423 1.0000 29.0000 0.0028\n",
      "Congruency:Presence  2.9125 1.0000 29.0000 0.0986\n",
      "=================================================\n",
      "\n"
     ]
    }
   ],
   "source": [
    "rt_factorial_model = AnovaRM(data=df_red_mean_anova, depvar='RT', within=['Congruency', 'Presence'], subject='Subject').fit()\n",
    "print(rt_factorial_model)"
   ]
  },
  {
   "cell_type": "code",
   "execution_count": 167,
   "id": "0631602c",
   "metadata": {},
   "outputs": [
    {
     "name": "stdout",
     "output_type": "stream",
     "text": [
      "                  Source       SS  ddof1  ddof2       MS       F  p-unc  \\\n",
      "0             Congruency   37.564      1     29   37.564   2.050  0.163   \n",
      "1               Presence  335.863      1     29  335.863  10.642  0.003   \n",
      "2  Congruency * Presence   52.238      1     29   52.238   2.913  0.099   \n",
      "\n",
      "   p-GG-corr    np2  eps  \n",
      "0      0.163  0.066  1.0  \n",
      "1      0.003  0.268  1.0  \n",
      "2      0.099  0.091  1.0  \n"
     ]
    }
   ],
   "source": [
    "aov_rt = pg.rm_anova(dv='RT',within=['Congruency', 'Presence'], subject='Subject', data=df_red_mean_anova, effsize=\"np2\")\n",
    "print(aov_rt.round(3))"
   ]
  },
  {
   "cell_type": "code",
   "execution_count": 139,
   "id": "ae79d3bd",
   "metadata": {
    "scrolled": true
   },
   "outputs": [
    {
     "data": {
      "image/png": "[encoded data removed]",
      "text/plain": [
       "<Figure size 432x288 with 1 Axes>"
      ]
     },
     "metadata": {
      "needs_background": "light"
     },
     "output_type": "display_data"
    }
   ],
   "source": [
    "ax = sns.pointplot(x=\"Congruency\", y=\"RT\", hue=\"Presence\",\n",
    "                    data=df_red_mean_anova)"
   ]
  },
  {
   "cell_type": "markdown",
   "id": "68dd027a",
   "metadata": {},
   "source": [
    "## Green: Rating ANOVA"
   ]
  },
  {
   "cell_type": "code",
   "execution_count": 140,
   "id": "b2012e7a",
   "metadata": {},
   "outputs": [],
   "source": [
    "df_green_mean_anova = pd.DataFrame(columns = [\"Congruency\", \"Presence\", \"Rating\", \"RT\"])"
   ]
  },
  {
   "cell_type": "code",
   "execution_count": 141,
   "id": "4607d5c7",
   "metadata": {},
   "outputs": [],
   "source": [
    "for i in range(len(df_rating_green_mean[\"cs\"])):\n",
    "    df_green_mean_anova = df_green_mean_anova.append({'Congruency' : \"Congruent\", 'Presence': \"Shown\", 'Rating' : df_rating_green_mean[\"cs\"][i], 'RT' : df_rt_green_mean[\"cs\"][i]}, ignore_index = True)"
   ]
  },
  {
   "cell_type": "code",
   "execution_count": 142,
   "id": "81031607",
   "metadata": {},
   "outputs": [],
   "source": [
    "for i in range(len(df_rating_green_mean[\"cn\"])):\n",
    "    df_green_mean_anova = df_green_mean_anova.append({'Congruency' : \"Congruent\", 'Presence': \"Not Shown\", 'Rating' : df_rating_green_mean[\"cn\"][i], 'RT' : df_rt_green_mean[\"cn\"][i]}, ignore_index = True)"
   ]
  },
  {
   "cell_type": "code",
   "execution_count": 143,
   "id": "6e37f198",
   "metadata": {},
   "outputs": [],
   "source": [
    "for i in range(len(df_rating_green_mean[\"is\"])):\n",
    "    df_green_mean_anova = df_green_mean_anova.append({'Congruency' : \"Incongruent\", 'Presence': \"Shown\", 'Rating' : df_rating_green_mean[\"is\"][i], 'RT' : df_rt_green_mean[\"is\"][i]}, ignore_index = True)"
   ]
  },
  {
   "cell_type": "code",
   "execution_count": 144,
   "id": "8f4e9cf4",
   "metadata": {},
   "outputs": [],
   "source": [
    "for i in range(len(df_rating_red_mean[\"in\"])):\n",
    "    df_green_mean_anova = df_green_mean_anova.append({'Congruency' : \"Incongruent\", 'Presence': \"Not Shown\", 'Rating' : df_rating_green_mean[\"in\"][i], 'RT' : df_rt_green_mean[\"in\"][i]}, ignore_index = True)"
   ]
  },
  {
   "cell_type": "code",
   "execution_count": 148,
   "id": "b7089c12",
   "metadata": {},
   "outputs": [],
   "source": [
    "df_green_mean_anova[\"Subject\"] = list(range(1,31))+list(range(1,31))+list(range(1,31))+list(range(1,31))"
   ]
  },
  {
   "cell_type": "code",
   "execution_count": 149,
   "id": "e3893241",
   "metadata": {
    "scrolled": true
   },
   "outputs": [
    {
     "data": {
      "text/html": [
       "<div>\n",
       "<style scoped>\n",
       "    .dataframe tbody tr th:only-of-type {\n",
       "        vertical-align: middle;\n",
       "    }\n",
       "\n",
       "    .dataframe tbody tr th {\n",
       "        vertical-align: top;\n",
       "    }\n",
       "\n",
       "    .dataframe thead th {\n",
       "        text-align: right;\n",
       "    }\n",
       "</style>\n",
       "<table border=\"1\" class=\"dataframe\">\n",
       "  <thead>\n",
       "    <tr style=\"text-align: right;\">\n",
       "      <th></th>\n",
       "      <th>Congruency</th>\n",
       "      <th>Presence</th>\n",
       "      <th>Rating</th>\n",
       "      <th>RT</th>\n",
       "      <th>Subject</th>\n",
       "    </tr>\n",
       "  </thead>\n",
       "  <tbody>\n",
       "    <tr>\n",
       "      <th>0</th>\n",
       "      <td>Congruent</td>\n",
       "      <td>Shown</td>\n",
       "      <td>1.153943</td>\n",
       "      <td>9.669040</td>\n",
       "      <td>1</td>\n",
       "    </tr>\n",
       "    <tr>\n",
       "      <th>1</th>\n",
       "      <td>Congruent</td>\n",
       "      <td>Shown</td>\n",
       "      <td>1.293640</td>\n",
       "      <td>7.083876</td>\n",
       "      <td>2</td>\n",
       "    </tr>\n",
       "    <tr>\n",
       "      <th>2</th>\n",
       "      <td>Congruent</td>\n",
       "      <td>Shown</td>\n",
       "      <td>1.211522</td>\n",
       "      <td>5.749600</td>\n",
       "      <td>3</td>\n",
       "    </tr>\n",
       "    <tr>\n",
       "      <th>3</th>\n",
       "      <td>Congruent</td>\n",
       "      <td>Shown</td>\n",
       "      <td>1.177039</td>\n",
       "      <td>6.828580</td>\n",
       "      <td>4</td>\n",
       "    </tr>\n",
       "    <tr>\n",
       "      <th>4</th>\n",
       "      <td>Congruent</td>\n",
       "      <td>Shown</td>\n",
       "      <td>1.152037</td>\n",
       "      <td>5.482620</td>\n",
       "      <td>5</td>\n",
       "    </tr>\n",
       "    <tr>\n",
       "      <th>...</th>\n",
       "      <td>...</td>\n",
       "      <td>...</td>\n",
       "      <td>...</td>\n",
       "      <td>...</td>\n",
       "      <td>...</td>\n",
       "    </tr>\n",
       "    <tr>\n",
       "      <th>115</th>\n",
       "      <td>Incongruent</td>\n",
       "      <td>Not Shown</td>\n",
       "      <td>1.488346</td>\n",
       "      <td>3.329400</td>\n",
       "      <td>26</td>\n",
       "    </tr>\n",
       "    <tr>\n",
       "      <th>116</th>\n",
       "      <td>Incongruent</td>\n",
       "      <td>Not Shown</td>\n",
       "      <td>1.674306</td>\n",
       "      <td>3.835000</td>\n",
       "      <td>27</td>\n",
       "    </tr>\n",
       "    <tr>\n",
       "      <th>117</th>\n",
       "      <td>Incongruent</td>\n",
       "      <td>Not Shown</td>\n",
       "      <td>1.624130</td>\n",
       "      <td>7.228260</td>\n",
       "      <td>28</td>\n",
       "    </tr>\n",
       "    <tr>\n",
       "      <th>118</th>\n",
       "      <td>Incongruent</td>\n",
       "      <td>Not Shown</td>\n",
       "      <td>1.772222</td>\n",
       "      <td>11.769800</td>\n",
       "      <td>29</td>\n",
       "    </tr>\n",
       "    <tr>\n",
       "      <th>119</th>\n",
       "      <td>Incongruent</td>\n",
       "      <td>Not Shown</td>\n",
       "      <td>1.774444</td>\n",
       "      <td>5.714400</td>\n",
       "      <td>30</td>\n",
       "    </tr>\n",
       "  </tbody>\n",
       "</table>\n",
       "<p>120 rows × 5 columns</p>\n",
       "</div>"
      ],
      "text/plain": [
       "      Congruency   Presence    Rating         RT  Subject\n",
       "0      Congruent      Shown  1.153943   9.669040        1\n",
       "1      Congruent      Shown  1.293640   7.083876        2\n",
       "2      Congruent      Shown  1.211522   5.749600        3\n",
       "3      Congruent      Shown  1.177039   6.828580        4\n",
       "4      Congruent      Shown  1.152037   5.482620        5\n",
       "..           ...        ...       ...        ...      ...\n",
       "115  Incongruent  Not Shown  1.488346   3.329400       26\n",
       "116  Incongruent  Not Shown  1.674306   3.835000       27\n",
       "117  Incongruent  Not Shown  1.624130   7.228260       28\n",
       "118  Incongruent  Not Shown  1.772222  11.769800       29\n",
       "119  Incongruent  Not Shown  1.774444   5.714400       30\n",
       "\n",
       "[120 rows x 5 columns]"
      ]
     },
     "execution_count": 149,
     "metadata": {},
     "output_type": "execute_result"
    }
   ],
   "source": [
    "df_green_mean_anova"
   ]
  },
  {
   "cell_type": "code",
   "execution_count": 169,
   "id": "ba1439f0",
   "metadata": {},
   "outputs": [
    {
     "name": "stdout",
     "output_type": "stream",
     "text": [
      "                  Source     SS  ddof1  ddof2     MS       F  p-unc  \\\n",
      "0             Congruency  1.851      1     29  1.851  33.092  0.000   \n",
      "1               Presence  1.395      1     29  1.395  67.819  0.000   \n",
      "2  Congruency * Presence  0.146      1     29  0.146   7.411  0.011   \n",
      "\n",
      "   p-GG-corr    np2  eps  \n",
      "0      0.000  0.533  1.0  \n",
      "1      0.000  0.700  1.0  \n",
      "2      0.011  0.204  1.0  \n"
     ]
    }
   ],
   "source": [
    "aov_rating_green = pg.rm_anova(dv='Rating',within=['Congruency', 'Presence'], subject='Subject', data=df_green_mean_anova, effsize=\"np2\")\n",
    "print(aov_rating_green.round(3))"
   ]
  },
  {
   "cell_type": "code",
   "execution_count": 151,
   "id": "67b62fef",
   "metadata": {
    "scrolled": true
   },
   "outputs": [
    {
     "data": {
      "image/png": "[encoded data removed]",
      "text/plain": [
       "<Figure size 432x288 with 1 Axes>"
      ]
     },
     "metadata": {
      "needs_background": "light"
     },
     "output_type": "display_data"
    }
   ],
   "source": [
    "ax = sns.pointplot(x=\"Congruency\", y=\"Rating\", hue=\"Presence\",\n",
    "                    data=df_green_mean_anova)"
   ]
  },
  {
   "attachments": {},
   "cell_type": "markdown",
   "id": "f2b7f935",
   "metadata": {},
   "source": [
    "### pairwise comparisons for interaction (use Bonferroni corrected criterion for significance of p < .013)"
   ]
  },
  {
   "cell_type": "code",
   "execution_count": 159,
   "id": "ce98492c",
   "metadata": {},
   "outputs": [
    {
     "data": {
      "text/plain": [
       "Ttest_relResult(statistic=7.831854258499092, pvalue=1.2283385868182859e-08)"
      ]
     },
     "execution_count": 159,
     "metadata": {},
     "output_type": "execute_result"
    }
   ],
   "source": [
    "#t-test -> incongruent scale rate higher for scale not shown than scale shown\n",
    "from scipy import stats\n",
    "\n",
    "index = (df_green_mean_anova['Presence']=='Not Shown') & (df_green_mean_anova['Congruency']=='Incongruent')\n",
    "NI = df_green_mean_anova[index]['Rating'] \n",
    "\n",
    "index = (df_green_mean_anova['Presence']=='Shown') & (df_green_mean_anova['Congruency']=='Incongruent')\n",
    "SI = df_green_mean_anova[index]['Rating']\n",
    "\n",
    "stats.ttest_rel(NI, SI) #significant"
   ]
  },
  {
   "cell_type": "code",
   "execution_count": 160,
   "id": "35adb39a",
   "metadata": {},
   "outputs": [
    {
     "data": {
      "text/plain": [
       "Ttest_relResult(statistic=3.95582641293807, pvalue=0.00045099043004959616)"
      ]
     },
     "execution_count": 160,
     "metadata": {},
     "output_type": "execute_result"
    }
   ],
   "source": [
    "#t-test -> congruent scale rate no difference for scale not shown and scale shown\n",
    "from scipy import stats\n",
    "\n",
    "index = (df_green_mean_anova['Presence']=='Not Shown') & (df_green_mean_anova['Congruency']=='Congruent')\n",
    "NC = df_green_mean_anova[index]['Rating'] \n",
    "\n",
    "index = (df_green_mean_anova['Presence']=='Shown') & (df_green_mean_anova['Congruency']=='Congruent')\n",
    "SC = df_green_mean_anova[index]['Rating']\n",
    "\n",
    "stats.ttest_rel(NC, SC) #significant, there is a difference, visible ones have lower rate than invisible ones"
   ]
  },
  {
   "cell_type": "code",
   "execution_count": 161,
   "id": "a580b784",
   "metadata": {},
   "outputs": [
    {
     "data": {
      "text/plain": [
       "Ttest_relResult(statistic=-4.127262160595932, pvalue=0.00028288015422839725)"
      ]
     },
     "execution_count": 161,
     "metadata": {},
     "output_type": "execute_result"
    }
   ],
   "source": [
    "#t-test -> scales that are shown rate no difference for congruent and incongruent ones\n",
    "from scipy import stats\n",
    "\n",
    "index = (df_green_mean_anova['Presence']=='Shown') & (df_green_mean_anova['Congruency']=='Congruent')\n",
    "SC = df_green_mean_anova[index]['Rating'] \n",
    "\n",
    "index = (df_green_mean_anova['Presence']=='Shown') & (df_green_mean_anova['Congruency']=='Incongruent')\n",
    "SI = df_green_mean_anova[index]['Rating']\n",
    "\n",
    "stats.ttest_rel(SC, SI) #significant, there is a difference, congruent ones rate lower than incongruent ones"
   ]
  },
  {
   "cell_type": "code",
   "execution_count": null,
   "id": "4894da52",
   "metadata": {},
   "outputs": [],
   "source": []
  },
  {
   "cell_type": "markdown",
   "id": "35b937e3",
   "metadata": {},
   "source": [
    "## Green: RT ANOVA"
   ]
  },
  {
   "cell_type": "code",
   "execution_count": 170,
   "id": "acdc9f51",
   "metadata": {},
   "outputs": [
    {
     "name": "stdout",
     "output_type": "stream",
     "text": [
      "                  Source       SS  ddof1  ddof2       MS      F  p-unc  \\\n",
      "0             Congruency   35.132      1     29   35.132  0.304  0.586   \n",
      "1               Presence  103.398      1     29  103.398  5.538  0.026   \n",
      "2  Congruency * Presence    2.791      1     29    2.791  0.120  0.732   \n",
      "\n",
      "   p-GG-corr    np2  eps  \n",
      "0      0.586  0.010  1.0  \n",
      "1      0.026  0.160  1.0  \n",
      "2      0.732  0.004  1.0  \n"
     ]
    }
   ],
   "source": [
    "aov_rt_green = pg.rm_anova(dv='RT',within=['Congruency', 'Presence'], subject='Subject', data=df_green_mean_anova, effsize=\"np2\")\n",
    "print(aov_rt_green.round(3))"
   ]
  },
  {
   "cell_type": "code",
   "execution_count": 153,
   "id": "33ad2460",
   "metadata": {
    "scrolled": true
   },
   "outputs": [
    {
     "data": {
      "image/png": "[encoded data removed]",
      "text/plain": [
       "<Figure size 432x288 with 1 Axes>"
      ]
     },
     "metadata": {
      "needs_background": "light"
     },
     "output_type": "display_data"
    }
   ],
   "source": [
    "ax = sns.pointplot(x=\"Congruency\", y=\"RT\", hue=\"Presence\",\n",
    "                    data=df_green_mean_anova)"
   ]
  },
  {
   "cell_type": "markdown",
   "id": "9dcfbd04",
   "metadata": {},
   "source": [
    "# Summary"
   ]
  },
  {
   "cell_type": "markdown",
   "id": "5927d15b",
   "metadata": {},
   "source": [
    "As for maps asking to rate red (congruent) region:\n",
    "1. Rating\n",
    "    \n",
    "    a. Congruency of the scale: significant (congruent > incongruent)\n",
    "    \n",
    "    b. Presence of the scale: significant (shown > not shown)\n",
    "    \n",
    "    c. Interaction between congruency and presence significant\n",
    "        \n",
    "        - incongruent scale rate higher for scale not shown than scale shown\n",
    "        - congruent scale rate higher for visible ones than invisible ones\n",
    "        - scale that are not shown rate higher for congruent ones than incongruent ones\n",
    "2. RT\n",
    "    \n",
    "    a. Presence of the scale: significant (shown > not shown)"
   ]
  },
  {
   "cell_type": "markdown",
   "id": "334351af",
   "metadata": {},
   "source": [
    "As for maps asking to rate green (congruent) region:\n",
    "1. Rating\n",
    "\n",
    "    a. Congruency of the scale: significant (congruent < incongruent)\n",
    "    \n",
    "    b. Presence of the scale: significant (shown < not shown)\n",
    "    \n",
    "    c. Interaction between congruency and presence significant\n",
    "        \n",
    "        - incongruent scale rate lower for scale not shown than scale shown\n",
    "        - congruent scale rate lower for visible ones than invisible ones\n",
    "        - scale that are not shown rate lower for congruent ones than incongruent ones\n",
    "2. RT\n",
    "    \n",
    "    a. Presence of the scale: significant (shown > not shown)"
   ]
  },
  {
   "cell_type": "code",
   "execution_count": null,
   "id": "9153ba06",
   "metadata": {},
   "outputs": [],
   "source": []
  }
 ],
 "metadata": {
  "kernelspec": {
   "display_name": "Python 3 (ipykernel)",
   "language": "python",
   "name": "python3"
  },
  "language_info": {
   "codemirror_mode": {
    "name": "ipython",
    "version": 3
   },
   "file_extension": ".py",
   "mimetype": "text/x-python",
   "name": "python",
   "nbconvert_exporter": "python",
   "pygments_lexer": "ipython3",
   "version": "3.9.7"
  }
 },
 "nbformat": 4,
 "nbformat_minor": 5
}
