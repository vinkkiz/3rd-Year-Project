{
 "cells": [
  {
   "cell_type": "code",
   "execution_count": 1,
   "id": "1586da63",
   "metadata": {},
   "outputs": [],
   "source": [
    "import pandas as pd\n",
    "import plotly.express as px\n",
    "import json\n",
    "import os\n",
    "import random"
   ]
  },
  {
   "cell_type": "code",
   "execution_count": 2,
   "id": "fa9d9b98",
   "metadata": {},
   "outputs": [],
   "source": [
    "def extract_json(path, json_file):\n",
    "    \n",
    "    open_json = open(path+json_file)\n",
    "    read_json = open_json.read()\n",
    "    jdata = json.loads(read_json)\n",
    "    \n",
    "    return jdata"
   ]
  },
  {
   "cell_type": "code",
   "execution_count": 3,
   "id": "314ac48c",
   "metadata": {},
   "outputs": [],
   "source": [
    "def get_province_names(jdata):\n",
    "    \n",
    "    provinces = []\n",
    "    \n",
    "    for a in jdata[\"features\"]:\n",
    "        provinces.append(a[\"properties\"][\"NAME_1\"])\n",
    "        \n",
    "    return provinces"
   ]
  },
  {
   "cell_type": "code",
   "execution_count": 4,
   "id": "4a3e15ad",
   "metadata": {},
   "outputs": [],
   "source": [
    "def random_generate_data(provinces):\n",
    "    \n",
    "    provinces_data = random.sample(range(10, 10+len(provinces)), len(provinces))\n",
    "    \n",
    "    return provinces_data"
   ]
  },
  {
   "cell_type": "code",
   "execution_count": 5,
   "id": "6c605245",
   "metadata": {},
   "outputs": [],
   "source": [
    "def generate_fig_cs(dataframe, jdata, i):\n",
    "    \n",
    "    fig1 = px.choropleth(df, geojson=jdata, featureidkey='properties.NAME_1', \n",
    "                    locationmode='geojson-id', \n",
    "                        locations= df.index, \n",
    "#                         width=2000, height=2000,\n",
    "                        color='CO2 Emissions (tons)',\n",
    "                        color_continuous_scale=\"rdylgn_r\" #correct (perception-matched) scale\n",
    "                          )\n",
    "    fig1.update_geos(fitbounds=\"locations\", visible=False)\n",
    "    fig1.update_layout(margin={\"r\":0,\"t\":0,\"l\":0,\"b\":0})\n",
    "    fig1.update_layout(coloraxis_showscale=True) #scale shown\n",
    "    \n",
    "    fig1.write_image(\"map_images/\"+str(i+1)+\"cs.jpeg\")"
   ]
  },
  {
   "cell_type": "code",
   "execution_count": 6,
   "id": "a8bb8d0d",
   "metadata": {},
   "outputs": [],
   "source": [
    "def generate_fig_cn(dataframe, jdata, i):\n",
    "    \n",
    "    fig1 = px.choropleth(df, geojson=jdata, featureidkey='properties.NAME_1', \n",
    "                    locationmode='geojson-id', \n",
    "                        locations= df.index, \n",
    "                        color='CO2 Emissions (tons)',\n",
    "                        color_continuous_scale=\"rdylgn_r\"\n",
    "                          )\n",
    "    fig1.update_geos(fitbounds=\"locations\", visible=False)\n",
    "    fig1.update_layout(margin={\"r\":0,\"t\":0,\"l\":0,\"b\":0})\n",
    "    fig1.update_layout(coloraxis_showscale=False) #scale not shown\n",
    "    \n",
    "    fig1.write_image(\"map_images/\"+str(i+1)+\"cn.jpeg\")"
   ]
  },
  {
   "cell_type": "code",
   "execution_count": 7,
   "id": "1288cd4c",
   "metadata": {},
   "outputs": [],
   "source": [
    "def generate_fig_is(dataframe, jdata, i):\n",
    "    \n",
    "    fig1 = px.choropleth(df, geojson=jdata, featureidkey='properties.NAME_1', \n",
    "                    locationmode='geojson-id', \n",
    "                        locations= df.index, \n",
    "                        color='CO2 Emissions (tons)',\n",
    "                        color_continuous_scale=\"rdylgn\"\n",
    "                          )\n",
    "    fig1.update_geos(fitbounds=\"locations\", visible=False)\n",
    "    fig1.update_layout(margin={\"r\":0,\"t\":0,\"l\":0,\"b\":0})\n",
    "    fig1.update_layout(coloraxis_showscale=True) #scale not shown\n",
    "    \n",
    "    fig1.write_image(\"map_images/\"+str(i+1)+\"is.jpeg\")"
   ]
  },
  {
   "cell_type": "code",
   "execution_count": 8,
   "id": "4c6ee4a2",
   "metadata": {},
   "outputs": [],
   "source": [
    "def generate_fig_in(dataframe, jdata, i):\n",
    "    \n",
    "    fig1 = px.choropleth(df, geojson=jdata, featureidkey='properties.NAME_1', \n",
    "                    locationmode='geojson-id', \n",
    "                        locations= df.index, \n",
    "                        color='CO2 Emissions (tons)',\n",
    "                        color_continuous_scale=\"rdylgn\"\n",
    "                          )\n",
    "    fig1.update_geos(fitbounds=\"locations\", visible=False)\n",
    "    fig1.update_layout(margin={\"r\":0,\"t\":0,\"l\":0,\"b\":0})\n",
    "    fig1.update_layout(coloraxis_showscale=False) #scale not shown\n",
    "    \n",
    "    fig1.write_image(\"map_images/\"+str(i+1)+\"in.jpeg\")"
   ]
  },
  {
   "cell_type": "code",
   "execution_count": 9,
   "id": "7f1cf4bb",
   "metadata": {},
   "outputs": [
    {
     "name": "stdout",
     "output_type": "stream",
     "text": [
      "0\n",
      "1\n",
      "2\n",
      "3\n",
      "4\n",
      "5\n",
      "6\n",
      "7\n",
      "8\n",
      "9\n",
      "10\n",
      "11\n",
      "12\n",
      "13\n",
      "14\n",
      "15\n",
      "16\n",
      "17\n",
      "18\n",
      "19\n"
     ]
    }
   ],
   "source": [
    "path_to_json = 'maps_json/'\n",
    "json_files = [pos_json for pos_json in os.listdir(path_to_json) if pos_json.endswith('.json')]\n",
    "\n",
    "for i in range(len(json_files)):\n",
    "    json_data = extract_json(path_to_json, json_files[i])\n",
    "    province_names = get_province_names(json_data)\n",
    "    data = random_generate_data(province_names)\n",
    "    df = pd.DataFrame(data, index =province_names, columns =['CO2 Emissions (tons)'])\n",
    "    \n",
    "    if not os.path.exists(\"map_images\"):\n",
    "        os.mkdir(\"map_images\")\n",
    "        \n",
    "    generate_fig_cs(df, json_data, i)\n",
    "    generate_fig_cn(df, json_data, i)\n",
    "    generate_fig_is(df, json_data, i)\n",
    "    generate_fig_in(df, json_data, i)\n",
    "    print(i)"
   ]
  }
 ],
 "metadata": {
  "kernelspec": {
   "display_name": "Python 3 (ipykernel)",
   "language": "python",
   "name": "python3"
  },
  "language_info": {
   "codemirror_mode": {
    "name": "ipython",
    "version": 3
   },
   "file_extension": ".py",
   "mimetype": "text/x-python",
   "name": "python",
   "nbconvert_exporter": "python",
   "pygments_lexer": "ipython3",
   "version": "3.9.7"
  }
 },
 "nbformat": 4,
 "nbformat_minor": 5
}
