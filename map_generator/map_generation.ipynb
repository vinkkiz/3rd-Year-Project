{
 "cells": [
  {
   "cell_type": "code",
   "execution_count": 1,
   "id": "1586da63",
   "metadata": {},
   "outputs": [],
   "source": [
    "import pandas as pd\n",
    "import plotly.express as px\n",
    "import json\n",
    "import os\n",
    "import random"
   ]
  },
  {
   "cell_type": "code",
   "execution_count": 2,
   "id": "fa9d9b98",
   "metadata": {},
   "outputs": [],
   "source": [
    "def extract_json(path, json_file):\n",
    "    \"\"\"\n",
    "    extract json map data from the json file\n",
    "    \"\"\"\n",
    "    \n",
    "    open_json = open(path+json_file) # open the json file\n",
    "    read_json = open_json.read() # read the json file\n",
    "    jdata = json.loads(read_json) # load the json file into variable \"jdata\"\n",
    "    \n",
    "    return jdata"
   ]
  },
  {
   "cell_type": "code",
   "execution_count": 3,
   "id": "314ac48c",
   "metadata": {},
   "outputs": [],
   "source": [
    "def get_province_names(jdata):\n",
    "    \"\"\"\n",
    "    get all the provinces of the country from json data\n",
    "    \"\"\"\n",
    "    \n",
    "    provinces = [] # create a list to store the names of all provinces of the country\n",
    "    \n",
    "    for a in jdata[\"features\"]:\n",
    "        provinces.append(a[\"properties\"][\"NAME_1\"])\n",
    "        \n",
    "    return provinces"
   ]
  },
  {
   "cell_type": "code",
   "execution_count": 4,
   "id": "4a3e15ad",
   "metadata": {},
   "outputs": [],
   "source": [
    "def random_generate_data(provinces):\n",
    "    \"\"\"\n",
    "    randomly generate data for all provinces of the country\n",
    "    \"\"\"\n",
    "    \n",
    "    # random value is set to between 10 and 10 plus the number of provinces the country has\n",
    "    provinces_data = random.sample(range(10, 10+len(provinces)), len(provinces))\n",
    "    \n",
    "    return provinces_data"
   ]
  },
  {
   "cell_type": "code",
   "execution_count": 5,
   "id": "6c605245",
   "metadata": {},
   "outputs": [],
   "source": [
    "def generate_fig_cs(dataframe, jdata, i):\n",
    "    \"\"\"\n",
    "    generate choropleth map for condition 1: visible congruent scale\n",
    "    \"\"\"\n",
    "    \n",
    "    fig1 = px.choropleth(df, geojson=jdata, featureidkey='properties.NAME_1', \n",
    "                    locationmode='geojson-id', \n",
    "                        locations= df.index, \n",
    "                        color='CO2 Emissions (tons)',\n",
    "                        color_continuous_scale=\"rdylgn_r\" # congruent scale: red represents high level and green represents low level\n",
    "                          )\n",
    "    fig1.update_geos(fitbounds=\"locations\", visible=False)\n",
    "    fig1.update_layout(margin={\"r\":0,\"t\":0,\"l\":0,\"b\":0})\n",
    "    fig1.update_layout(coloraxis_showscale=True) # make scale visible\n",
    "    \n",
    "    fig1.write_image(\"map_images/\"+str(i+1)+\"cs.jpeg\")"
   ]
  },
  {
   "cell_type": "code",
   "execution_count": 6,
   "id": "a8bb8d0d",
   "metadata": {},
   "outputs": [],
   "source": [
    "def generate_fig_cn(dataframe, jdata, i):\n",
    "    \"\"\"\n",
    "    generate choropleth map for condition 2: invisible congruent scale\n",
    "    \"\"\"\n",
    "    \n",
    "    fig1 = px.choropleth(df, geojson=jdata, featureidkey='properties.NAME_1', \n",
    "                    locationmode='geojson-id', \n",
    "                        locations= df.index, \n",
    "                        color='CO2 Emissions (tons)',\n",
    "                        color_continuous_scale=\"rdylgn_r\" # congruent scale: red represents high level and green represents low level\n",
    "                          )\n",
    "    fig1.update_geos(fitbounds=\"locations\", visible=False)\n",
    "    fig1.update_layout(margin={\"r\":0,\"t\":0,\"l\":0,\"b\":0})\n",
    "    fig1.update_layout(coloraxis_showscale=False) # make scale invisible\n",
    "    \n",
    "    fig1.write_image(\"map_images/\"+str(i+1)+\"cn.jpeg\")"
   ]
  },
  {
   "cell_type": "code",
   "execution_count": 7,
   "id": "1288cd4c",
   "metadata": {},
   "outputs": [],
   "source": [
    "def generate_fig_is(dataframe, jdata, i):\n",
    "    \"\"\"\n",
    "    generate choropleth map for condition 3: visible incongruent scale\n",
    "    \"\"\"\n",
    "        \n",
    "    fig1 = px.choropleth(df, geojson=jdata, featureidkey='properties.NAME_1', \n",
    "                    locationmode='geojson-id', \n",
    "                        locations= df.index, \n",
    "                        color='CO2 Emissions (tons)',\n",
    "                        color_continuous_scale=\"rdylgn\" # incongruent scale: red represents low level and green represents high level\n",
    "                          )\n",
    "    fig1.update_geos(fitbounds=\"locations\", visible=False)\n",
    "    fig1.update_layout(margin={\"r\":0,\"t\":0,\"l\":0,\"b\":0})\n",
    "    fig1.update_layout(coloraxis_showscale=True) # make scale visible\n",
    "    \n",
    "    fig1.write_image(\"map_images/\"+str(i+1)+\"is.jpeg\")"
   ]
  },
  {
   "cell_type": "code",
   "execution_count": 8,
   "id": "4c6ee4a2",
   "metadata": {},
   "outputs": [],
   "source": [
    "def generate_fig_in(dataframe, jdata, i):\n",
    "    \"\"\"\n",
    "    generate choropleth map for condition 4: invisible incongruent scale\n",
    "    \"\"\"\n",
    "    \n",
    "    fig1 = px.choropleth(df, geojson=jdata, featureidkey='properties.NAME_1', \n",
    "                    locationmode='geojson-id', \n",
    "                        locations= df.index, \n",
    "                        color='CO2 Emissions (tons)',\n",
    "                        color_continuous_scale=\"rdylgn\" # incongruent scale: red represents low level and green represents high level\n",
    "                          )\n",
    "    fig1.update_geos(fitbounds=\"locations\", visible=False)\n",
    "    fig1.update_layout(margin={\"r\":0,\"t\":0,\"l\":0,\"b\":0})\n",
    "    fig1.update_layout(coloraxis_showscale=False) # make scale invisible\n",
    "    \n",
    "    fig1.write_image(\"map_images/\"+str(i+1)+\"in.jpeg\")"
   ]
  },
  {
   "cell_type": "code",
   "execution_count": 9,
   "id": "7f1cf4bb",
   "metadata": {},
   "outputs": [
    {
     "name": "stdout",
     "output_type": "stream",
     "text": [
      "Successfully generated 4 graphs with different conditions of country 1\n",
      "Successfully generated 4 graphs with different conditions of country 2\n",
      "Successfully generated 4 graphs with different conditions of country 3\n",
      "Successfully generated 4 graphs with different conditions of country 4\n",
      "Successfully generated 4 graphs with different conditions of country 5\n",
      "Successfully generated 4 graphs with different conditions of country 6\n",
      "Successfully generated 4 graphs with different conditions of country 7\n",
      "Successfully generated 4 graphs with different conditions of country 8\n",
      "Successfully generated 4 graphs with different conditions of country 9\n",
      "Successfully generated 4 graphs with different conditions of country 10\n",
      "Successfully generated 4 graphs with different conditions of country 11\n",
      "Successfully generated 4 graphs with different conditions of country 12\n",
      "Successfully generated 4 graphs with different conditions of country 13\n",
      "Successfully generated 4 graphs with different conditions of country 14\n",
      "Successfully generated 4 graphs with different conditions of country 15\n",
      "Successfully generated 4 graphs with different conditions of country 16\n",
      "Successfully generated 4 graphs with different conditions of country 17\n",
      "Successfully generated 4 graphs with different conditions of country 18\n",
      "Successfully generated 4 graphs with different conditions of country 19\n",
      "Successfully generated 4 graphs with different conditions of country 20\n"
     ]
    }
   ],
   "source": [
    "path_to_json = 'maps_json/' # the folder contains all json map files of 20 different countries\n",
    "json_files = [pos_json for pos_json in os.listdir(path_to_json) if pos_json.endswith('.json')] # get all 20 json files in the folder\n",
    "\n",
    "\n",
    "# for each country, generate 4 choropleth maps under 4 conditions\n",
    "random.seed(42) #to ensure reproducibility, each time running the script will output the same maps\n",
    "for i in range(len(json_files)):\n",
    "    json_data = extract_json(path_to_json, json_files[i]) # load json country map data\n",
    "    province_names = get_province_names(json_data) # get all provinces of the country\n",
    "    data = random_generate_data(province_names) # randomly generate data for each province of the country\n",
    "    df = pd.DataFrame(data, index =province_names, columns =['CO2 Emissions (tons)']) # generate a dataframe with index being the province names and columns being the random generated CO2 emissions data\n",
    "    \n",
    "    # check if the directory map_images exist or not\n",
    "    if not os.path.exists(\"map_images\"):\n",
    "        # if the map_images directory is not present then create it\n",
    "        os.mkdir(\"map_images\")\n",
    "        \n",
    "    generate_fig_cs(df, json_data, i) # generate choropleth map of condition 1\n",
    "    generate_fig_cn(df, json_data, i) # generate choropleth map of condition 2\n",
    "    generate_fig_is(df, json_data, i) # generate choropleth map of condition 3\n",
    "    generate_fig_in(df, json_data, i) # generate choropleth map of condition 4\n",
    "    \n",
    "    print(\"Successfully generated 4 graphs with different conditions of country\", i+1)"
   ]
  },
  {
   "cell_type": "code",
   "execution_count": 2,
   "id": "4dbf2c2f",
   "metadata": {},
   "outputs": [
    {
     "name": "stdout",
     "output_type": "stream",
     "text": [
      "Name: plotly\n",
      "Version: 5.10.0\n",
      "Summary: An open-source, interactive data visualization library for Python\n",
      "Home-page: https://plotly.com/python/\n",
      "Author: Chris P\n",
      "Author-email: chris@plot.ly\n",
      "License: MIT\n",
      "Location: /Users/vinkki/opt/anaconda3/lib/python3.9/site-packages\n",
      "Requires: tenacity\n",
      "Required-by: dash\n",
      "Note: you may need to restart the kernel to use updated packages.\n"
     ]
    }
   ],
   "source": [
    "pip show plotly"
   ]
  },
  {
   "cell_type": "code",
   "execution_count": 5,
   "id": "0434e52f",
   "metadata": {},
   "outputs": [
    {
     "name": "stdout",
     "output_type": "stream",
     "text": [
      "3.9.7\n"
     ]
    }
   ],
   "source": [
    "\n",
    "\n",
    "from platform import python_version\n",
    "\n",
    "print(python_version())"
   ]
  },
  {
   "cell_type": "code",
   "execution_count": null,
   "id": "df5ae861",
   "metadata": {},
   "outputs": [],
   "source": []
  }
 ],
 "metadata": {
  "kernelspec": {
   "display_name": "Python 3 (ipykernel)",
   "language": "python",
   "name": "python3"
  },
  "language_info": {
   "codemirror_mode": {
    "name": "ipython",
    "version": 3
   },
   "file_extension": ".py",
   "mimetype": "text/x-python",
   "name": "python",
   "nbconvert_exporter": "python",
   "pygments_lexer": "ipython3",
   "version": "3.9.7"
  }
 },
 "nbformat": 4,
 "nbformat_minor": 5
}
